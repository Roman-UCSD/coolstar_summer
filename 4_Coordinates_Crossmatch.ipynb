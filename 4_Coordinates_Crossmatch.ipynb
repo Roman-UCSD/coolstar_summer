{
  "nbformat": 4,
  "nbformat_minor": 0,
  "metadata": {
    "kernelspec": {
      "display_name": "Python 3",
      "language": "python",
      "name": "python3"
    },
    "language_info": {
      "codemirror_mode": {
        "name": "ipython",
        "version": 3
      },
      "file_extension": ".py",
      "mimetype": "text/x-python",
      "name": "python",
      "nbconvert_exporter": "python",
      "pygments_lexer": "ipython3",
      "version": "3.8.3"
    },
    "toc": {
      "base_numbering": 1,
      "nav_menu": {},
      "number_sections": true,
      "sideBar": true,
      "skip_h1_title": false,
      "title_cell": "Table of Contents",
      "title_sidebar": "Contents",
      "toc_cell": false,
      "toc_position": {},
      "toc_section_display": true,
      "toc_window_display": false
    },
    "colab": {
      "name": "4-Coordinates-Crossmatch.ipynb",
      "provenance": [],
      "include_colab_link": true
    }
  },
  "cells": [
    {
      "cell_type": "markdown",
      "metadata": {
        "id": "view-in-github",
        "colab_type": "text"
      },
      "source": [
        "<a href=\"https://colab.research.google.com/github/Roman-UCSD/coolstar_summer/blob/main/4_Coordinates_Crossmatch.ipynb\" target=\"_parent\"><img src=\"https://colab.research.google.com/assets/colab-badge.svg\" alt=\"Open In Colab\"/></a>"
      ]
    },
    {
      "cell_type": "markdown",
      "metadata": {
        "id": "G9DnTUE5TQB3"
      },
      "source": [
        "# Astronomical Coordinates 4: Cross-matching Catalogs Using astropy.coordinates and astroquery\n",
        "\n",
        "## Authors\n",
        "Adrian Price-Whelan\n",
        "Github: https://rb.gy/tmquxl\n",
        "\n",
        "## Learning Goals\n",
        "* Demonstrate how to retrieve a catalog from Vizier using astroquery\n",
        "* Show how to perform positional cross-matches between catalogs of sky coordinates\n",
        "\n",
        "## Keywords\n",
        "coordinates, OOP, astroquery, gaia\n",
        "\n",
        "\n",
        "## Summary\n",
        "\n",
        "In the previous tutorials in this series, we introduced many of the key concepts underlying how to represent and transform astronomical coordinates using `astropy.coordinates`, including how to work with both position and velocity data within the coordinate objects.\n",
        "\n",
        "In this tutorial, we will explore how the `astropy.coordinates` package can be used to cross-match two catalogs that contain overlapping sources that may have been observed at different times. You may find it helpful to keep [the Astropy documentation for the coordinates package](http://docs.astropy.org/en/stable/coordinates/index.html) open alongside this tutorial for reference or additional reading. In the text below, you may also see some links that look like ([docs](http://docs.astropy.org/en/stable/coordinates/index.html)). These links will take you to parts of the documentation that are directly relevant to the cells from which they link. \n",
        "\n",
        "*Note: This is the 4th tutorial in a series of tutorials about astropy.coordinates. If you are new to astropy.coordinates, you may want to start from the beginning or an earlier tutorial.*\n",
        "- [Previous tutorial: Astronomical Coordinates 3: Working with Velocity Data](3-Coordinates-Velocities)"
      ]
    },
    {
      "cell_type": "markdown",
      "metadata": {
        "id": "5p237xfATQB4"
      },
      "source": [
        "## Imports\n",
        "\n",
        "We start by importing some general packages that we will need below:"
      ]
    },
    {
      "cell_type": "code",
      "metadata": {
        "colab": {
          "base_uri": "https://localhost:8080/"
        },
        "id": "XK8s3DdPUHje",
        "outputId": "e2a747a3-e4cc-48f8-da54-2196a9f9cd46"
      },
      "source": [
        "#install astroquery\n",
        "!pip install astroquery\n",
        "#mount google drive\n",
        "#you don't need to run this cell if you're running locally \n",
        "from google.colab import drive\n",
        "drive.mount('/content/gdrive/')\n",
        "DATA_FOLDER='/content/gdrive/My Drive/astropytutorial/'"
      ],
      "execution_count": 37,
      "outputs": [
        {
          "output_type": "stream",
          "text": [
            "Requirement already satisfied: astroquery in /usr/local/lib/python3.7/dist-packages (0.4.2)\n",
            "Requirement already satisfied: astropy>=3.1.2 in /usr/local/lib/python3.7/dist-packages (from astroquery) (4.2.1)\n",
            "Requirement already satisfied: numpy>=1.15.0 in /usr/local/lib/python3.7/dist-packages (from astroquery) (1.19.5)\n",
            "Requirement already satisfied: html5lib>=0.999 in /usr/local/lib/python3.7/dist-packages (from astroquery) (1.0.1)\n",
            "Requirement already satisfied: pyvo>=1.1 in /usr/local/lib/python3.7/dist-packages (from astroquery) (1.1)\n",
            "Requirement already satisfied: keyring>=4.0 in /usr/local/lib/python3.7/dist-packages (from astroquery) (23.0.1)\n",
            "Requirement already satisfied: requests>=2.4.3 in /usr/local/lib/python3.7/dist-packages (from astroquery) (2.23.0)\n",
            "Requirement already satisfied: beautifulsoup4>=4.3.2 in /usr/local/lib/python3.7/dist-packages (from astroquery) (4.6.3)\n",
            "Requirement already satisfied: six in /usr/local/lib/python3.7/dist-packages (from astroquery) (1.15.0)\n",
            "Requirement already satisfied: pyerfa in /usr/local/lib/python3.7/dist-packages (from astropy>=3.1.2->astroquery) (2.0.0)\n",
            "Requirement already satisfied: webencodings in /usr/local/lib/python3.7/dist-packages (from html5lib>=0.999->astroquery) (0.5.1)\n",
            "Requirement already satisfied: mimeparse in /usr/local/lib/python3.7/dist-packages (from pyvo>=1.1->astroquery) (0.1.3)\n",
            "Requirement already satisfied: SecretStorage>=3.2; sys_platform == \"linux\" in /usr/local/lib/python3.7/dist-packages (from keyring>=4.0->astroquery) (3.3.1)\n",
            "Requirement already satisfied: importlib-metadata>=3.6 in /usr/local/lib/python3.7/dist-packages (from keyring>=4.0->astroquery) (4.5.0)\n",
            "Requirement already satisfied: jeepney>=0.4.2; sys_platform == \"linux\" in /usr/local/lib/python3.7/dist-packages (from keyring>=4.0->astroquery) (0.6.0)\n",
            "Requirement already satisfied: chardet<4,>=3.0.2 in /usr/local/lib/python3.7/dist-packages (from requests>=2.4.3->astroquery) (3.0.4)\n",
            "Requirement already satisfied: certifi>=2017.4.17 in /usr/local/lib/python3.7/dist-packages (from requests>=2.4.3->astroquery) (2021.5.30)\n",
            "Requirement already satisfied: urllib3!=1.25.0,!=1.25.1,<1.26,>=1.21.1 in /usr/local/lib/python3.7/dist-packages (from requests>=2.4.3->astroquery) (1.24.3)\n",
            "Requirement already satisfied: idna<3,>=2.5 in /usr/local/lib/python3.7/dist-packages (from requests>=2.4.3->astroquery) (2.10)\n",
            "Requirement already satisfied: cryptography>=2.0 in /usr/local/lib/python3.7/dist-packages (from SecretStorage>=3.2; sys_platform == \"linux\"->keyring>=4.0->astroquery) (3.4.7)\n",
            "Requirement already satisfied: typing-extensions>=3.6.4; python_version < \"3.8\" in /usr/local/lib/python3.7/dist-packages (from importlib-metadata>=3.6->keyring>=4.0->astroquery) (3.7.4.3)\n",
            "Requirement already satisfied: zipp>=0.5 in /usr/local/lib/python3.7/dist-packages (from importlib-metadata>=3.6->keyring>=4.0->astroquery) (3.4.1)\n",
            "Requirement already satisfied: cffi>=1.12 in /usr/local/lib/python3.7/dist-packages (from cryptography>=2.0->SecretStorage>=3.2; sys_platform == \"linux\"->keyring>=4.0->astroquery) (1.14.5)\n",
            "Requirement already satisfied: pycparser in /usr/local/lib/python3.7/dist-packages (from cffi>=1.12->cryptography>=2.0->SecretStorage>=3.2; sys_platform == \"linux\"->keyring>=4.0->astroquery) (2.20)\n",
            "Drive already mounted at /content/gdrive/; to attempt to forcibly remount, call drive.mount(\"/content/gdrive/\", force_remount=True).\n"
          ],
          "name": "stdout"
        }
      ]
    },
    {
      "cell_type": "code",
      "metadata": {
        "id": "y4fbYUO1TQB5"
      },
      "source": [
        "import warnings\n",
        "\n",
        "import matplotlib.pyplot as plt\n",
        "%matplotlib inline\n",
        "import numpy as np\n",
        "\n",
        "from astropy import units as u\n",
        "from astropy.coordinates import SkyCoord, Distance\n",
        "from astropy.io import fits\n",
        "from astropy.table import QTable\n",
        "from astropy.time import Time\n",
        "from astropy.utils.data import download_file\n",
        "\n",
        "from astroquery.vizier import Vizier"
      ],
      "execution_count": 38,
      "outputs": []
    },
    {
      "cell_type": "markdown",
      "metadata": {
        "id": "xehAyARqTQB5"
      },
      "source": [
        "## Cross-matching and comparing catalogs\n",
        "\n",
        "In this tutorial, we are going to return to a set of data that we downloaded from the *Gaia* archive back in [Tutorial 1](1-Coordinates-Intro) of this series.\n",
        "\n",
        "Let's recap what we did in that tutorial: We defined a `SkyCoord` object to represent the center of an open cluster (NGC 188), we queried the *Gaia* DR2 catalog to select stars that are close (on the sky) to the center of the cluster, and we used the parallax values from *Gaia* to select stars that are near NGC 188 in 3D position. Here, we will briefly reproduce those selections so that we can start here with a catalog of sources that are likely members of NGC 188 (see [Tutorial 1](1-Coordinates-Intro) for more information):"
      ]
    },
    {
      "cell_type": "code",
      "metadata": {
        "colab": {
          "base_uri": "https://localhost:8080/"
        },
        "id": "IP9NzEY2TQB6",
        "outputId": "7843ad0f-afc4-4f9e-a853-85e676785f1c"
      },
      "source": [
        "ngc188_table = QTable.read(DATA_FOLDER+'/gaia_results.fits')\n",
        "ngc188_table = ngc188_table[ngc188_table['parallax'] > 0.25*u.mas]\n",
        "\n",
        "ngc188_center_3d = SkyCoord(12.11*u.deg, 85.26*u.deg,\n",
        "                            distance=1.96*u.kpc,\n",
        "                            pm_ra_cosdec=-2.3087*u.mas/u.yr,\n",
        "                            pm_dec=-0.9565*u.mas/u.yr)\n",
        "\n",
        "ngc188_coords_3d = SkyCoord(\n",
        "    ra=ngc188_table['ra'], \n",
        "    dec=ngc188_table['dec'],\n",
        "    distance=Distance(parallax=ngc188_table['parallax']),\n",
        "    pm_ra_cosdec=ngc188_table['pmra'],\n",
        "    pm_dec=ngc188_table['pmdec'],\n",
        "    radial_velocity=ngc188_table['radial_velocity'],\n",
        "    obstime=Time('J2015.5'))\n",
        "\n",
        "sep3d = ngc188_coords_3d.separation_3d(ngc188_center_3d)\n",
        "pm_diff = np.sqrt(\n",
        "    (ngc188_table['pmra'] - ngc188_center_3d.pm_ra_cosdec)**2 + \n",
        "    (ngc188_table['pmdec'] - ngc188_center_3d.pm_dec)**2)\n",
        "\n",
        "ngc188_members_mask = (sep3d < 50*u.pc) & (pm_diff < 1.5*u.mas/u.yr)\n",
        "ngc188_members = ngc188_table[ngc188_members_mask]\n",
        "ngc188_members_coords = ngc188_coords_3d[ngc188_members_mask]\n",
        "len(ngc188_members)"
      ],
      "execution_count": 39,
      "outputs": [
        {
          "output_type": "execute_result",
          "data": {
            "text/plain": [
              "216"
            ]
          },
          "metadata": {
            "tags": []
          },
          "execution_count": 39
        }
      ]
    },
    {
      "cell_type": "code",
      "metadata": {
        "id": "FSBsQWx9V7UY"
      },
      "source": [
        ""
      ],
      "execution_count": 39,
      "outputs": []
    },
    {
      "cell_type": "markdown",
      "metadata": {
        "id": "SLH3KUe3TQB7"
      },
      "source": [
        "From the selections above, the table `ngc188_members` and the `SkyCoord` instance `ngc188_members_coords` contain 216 sources that, based on their 3D positions and proper motions, are consistent with being members of the open cluster NGC 188."
      ]
    },
    {
      "cell_type": "markdown",
      "metadata": {
        "id": "9e6oCFT8TQB8"
      },
      "source": [
        "Let's assume that we now want to cross-match our catalog of candidate members of NGC 188 — here, based on *Gaia* data — to some other catalog. In this tutorial, we will demonstrate how to manually cross-match these *Gaia* sources with the 2MASS photometric catalog to retrieve infrared magnitudes for these stars, and then we will plot a color–magnitude diagram. To do this, we first need to query the 2MASS catalog to retrieve all sources in a region around the center of NGC 188, as we did for *Gaia*. Here, we will also take into account the fact that the *Gaia* data release 2 reference epoch is J2015.5, whereas the 2MASS coordinates are likely reported at their time of observation (in the late 1990's). \n",
        "\n",
        "*Note that some data archives, like the Gaia science archive, support running cross-matches at the database level and even support epoch propagation. If you need to perform a large cross-match, it will be much more efficient to use these services!*\n",
        "\n",
        "We will again use `astroquery` to execute this query. This will again require an internet connection, but we have included the results of this query in a file along with this notebook in case you are not connected to the internet. To query 2MASS, we will use the `astroquery.vizier` module ([docs](https://astroquery.readthedocs.io/en/latest/vizier/vizier.html)) to run a cone search centered on the sky position of NGC 188 with a search radius of 0.5º:"
      ]
    },
    {
      "cell_type": "code",
      "metadata": {
        "id": "bhAGxIG5TQB9"
      },
      "source": [
        "# NOTE: skip this cell if you do not have an internet connection\n",
        "\n",
        "# II/246 is the catalog name for the main 2MASS photometric catalog\n",
        "v = Vizier(catalog=\"II/246\", columns=['*', 'Date'])  \n",
        "v.ROW_LIMIT = -1\n",
        "\n",
        "result = v.query_region(ngc188_center_3d, radius=0.5*u.deg)\n",
        "tmass_table = result[0]"
      ],
      "execution_count": 40,
      "outputs": []
    },
    {
      "cell_type": "markdown",
      "metadata": {
        "id": "ZFT6NHXQTQB-"
      },
      "source": [
        "Alternatively, we can read the 2MASS table provided along with this tutorial:"
      ]
    },
    {
      "cell_type": "code",
      "metadata": {
        "id": "sJgA8wEyTQB-"
      },
      "source": [
        "# the .read() below produces some warnings that we can safely ignore\n",
        "#with warnings.catch_warnings(): \n",
        "#    warnings.simplefilter('ignore', UserWarning)\n",
        "#   \n",
        "#    tmass_table = QTable.read('2MASS_results.ecsv')"
      ],
      "execution_count": 41,
      "outputs": []
    },
    {
      "cell_type": "markdown",
      "metadata": {
        "id": "zhr8xk9MTQB_"
      },
      "source": [
        "As with the *Gaia* results table, we can now create a single `SkyCoord` object to represent all of the sources returned from our query to the 2MASS catalog. Let's look at the column names in this table by displaying the first few rows:"
      ]
    },
    {
      "cell_type": "code",
      "metadata": {
        "colab": {
          "base_uri": "https://localhost:8080/",
          "height": 162
        },
        "id": "Ral62G5mTQB_",
        "outputId": "0900f5db-14c6-4137-df9a-aa55c24e8693"
      },
      "source": [
        "tmass_table[:3]"
      ],
      "execution_count": 42,
      "outputs": [
        {
          "output_type": "execute_result",
          "data": {
            "text/html": [
              "<i>Table length=3</i>\n",
              "<table id=\"table140706527728528\" class=\"table-striped table-bordered table-condensed\">\n",
              "<thead><tr><th>RAJ2000</th><th>DEJ2000</th><th>_2MASS</th><th>Jmag</th><th>e_Jmag</th><th>Hmag</th><th>e_Hmag</th><th>Kmag</th><th>e_Kmag</th><th>Qflg</th><th>Rflg</th><th>Bflg</th><th>Cflg</th><th>Xflg</th><th>Aflg</th><th>Date</th></tr></thead>\n",
              "<thead><tr><th>deg</th><th>deg</th><th></th><th>mag</th><th>mag</th><th>mag</th><th>mag</th><th>mag</th><th>mag</th><th></th><th></th><th></th><th></th><th></th><th></th><th></th></tr></thead>\n",
              "<thead><tr><th>float64</th><th>float64</th><th>str17</th><th>float32</th><th>float32</th><th>float32</th><th>float32</th><th>float32</th><th>float32</th><th>str3</th><th>str3</th><th>str3</th><th>str3</th><th>uint8</th><th>uint8</th><th>str10</th></tr></thead>\n",
              "<tr><td>9.633532</td><td>84.808350</td><td>00383204+8448300</td><td>13.079</td><td>0.030</td><td>12.742</td><td>0.033</td><td>12.729</td><td>0.035</td><td>AAA</td><td>222</td><td>111</td><td>000</td><td>0</td><td>0</td><td>1999-10-19</td></tr>\n",
              "<tr><td>8.562472</td><td>84.873627</td><td>00341499+8452250</td><td>14.459</td><td>0.029</td><td>14.103</td><td>0.041</td><td>14.166</td><td>0.063</td><td>AAA</td><td>222</td><td>111</td><td>000</td><td>0</td><td>0</td><td>1999-10-19</td></tr>\n",
              "<tr><td>8.645318</td><td>84.868584</td><td>00343487+8452069</td><td>10.356</td><td>0.026</td><td>10.057</td><td>0.032</td><td>10.000</td><td>0.020</td><td>AAA</td><td>222</td><td>111</td><td>000</td><td>0</td><td>0</td><td>1999-10-19</td></tr>\n",
              "</table>"
            ],
            "text/plain": [
              "<Table length=3>\n",
              " RAJ2000    DEJ2000        _2MASS        Jmag  ... Cflg  Xflg  Aflg    Date   \n",
              "   deg        deg                        mag   ...                            \n",
              " float64    float64        str17       float32 ... str3 uint8 uint8   str10   \n",
              "---------- ---------- ---------------- ------- ... ---- ----- ----- ----------\n",
              "  9.633532  84.808350 00383204+8448300  13.079 ...  000     0     0 1999-10-19\n",
              "  8.562472  84.873627 00341499+8452250  14.459 ...  000     0     0 1999-10-19\n",
              "  8.645318  84.868584 00343487+8452069  10.356 ...  000     0     0 1999-10-19"
            ]
          },
          "metadata": {
            "tags": []
          },
          "execution_count": 42
        }
      ]
    },
    {
      "cell_type": "markdown",
      "metadata": {
        "id": "nRslae3rTQB_"
      },
      "source": [
        "From looking at the column names, the two relevant sky coordinate columns are `RAJ2000` for `ra` and `DEJ2000` for `dec`:"
      ]
    },
    {
      "cell_type": "code",
      "metadata": {
        "colab": {
          "base_uri": "https://localhost:8080/"
        },
        "id": "JS9kOyLqTQCA",
        "outputId": "de32d9b0-a73b-456b-a2eb-cc6af44dd50e"
      },
      "source": [
        "tmass_coords = SkyCoord(tmass_table['RAJ2000'], \n",
        "                        tmass_table['DEJ2000'])\n",
        "len(tmass_coords)"
      ],
      "execution_count": 43,
      "outputs": [
        {
          "output_type": "execute_result",
          "data": {
            "text/plain": [
              "5014"
            ]
          },
          "metadata": {
            "tags": []
          },
          "execution_count": 43
        }
      ]
    },
    {
      "cell_type": "markdown",
      "metadata": {
        "id": "N6s2QKBeTQCA"
      },
      "source": [
        "Note also that the table contains a \"Date\" column that specifies the epoch of the coordinates. Are all of these epochs the same?"
      ]
    },
    {
      "cell_type": "code",
      "metadata": {
        "colab": {
          "base_uri": "https://localhost:8080/",
          "height": 57
        },
        "id": "8cL-fUDhTQCB",
        "outputId": "cbfde62b-70da-4b0f-82ad-345450f23cb9"
      },
      "source": [
        "np.unique(tmass_table['Date'])"
      ],
      "execution_count": 44,
      "outputs": [
        {
          "output_type": "execute_result",
          "data": {
            "text/html": [
              "&lt;MaskedColumn name=&apos;Date&apos; dtype=&apos;str10&apos; length=1&gt;\n",
              "<table>\n",
              "<tr><td>1999-10-19</td></tr>\n",
              "</table>"
            ],
            "text/plain": [
              "<MaskedColumn name='Date' dtype='str10' length=1>\n",
              "1999-10-19"
            ]
          },
          "metadata": {
            "tags": []
          },
          "execution_count": 44
        }
      ]
    },
    {
      "cell_type": "markdown",
      "metadata": {
        "id": "Fx14x2KATQCB"
      },
      "source": [
        "It looks like all of the sources in our 2MASS table have the same epoch, so let's create an `astropy.time.Time` object to represent this date:"
      ]
    },
    {
      "cell_type": "code",
      "metadata": {
        "id": "8sbxeoirTQCC"
      },
      "source": [
        "tmass_epoch = Time(np.unique(tmass_table['Date']))"
      ],
      "execution_count": 45,
      "outputs": []
    },
    {
      "cell_type": "markdown",
      "metadata": {
        "id": "0mRHU9SOTQCC"
      },
      "source": [
        "We now want to cross-match our *Gaia*-selected candidate members of NGC 188, `ngc_members_coords`, with this table of photometry from 2MASS. However, as noted previously, the *Gaia* coordinates are given at a different epoch J2015.5, which is nearly ~16 years after the 2MASS epoch of the data we downloaded (1999-10-19 or roughly J1999.88). We will therefore first use the `SkyCoord.apply_space_motion()` method ([docs](http://docs.astropy.org/en/latest/api/astropy.coordinates.SkyCoord.html#astropy.coordinates.SkyCoord.apply_space_motion)) to transform the *Gaia* positions back to the 2MASS epoch before we do the cross-match:"
      ]
    },
    {
      "cell_type": "code",
      "metadata": {
        "colab": {
          "base_uri": "https://localhost:8080/"
        },
        "id": "scEowJEaTQCC",
        "outputId": "4c2fc1c6-2d64-4789-912e-b36a143f8d4d"
      },
      "source": [
        "# you can ignore the warning raised here\n",
        "ngc188_members_coords_1999 = ngc188_members_coords.apply_space_motion(\n",
        "    tmass_epoch)"
      ],
      "execution_count": 46,
      "outputs": [
        {
          "output_type": "stream",
          "text": [
            "/usr/local/lib/python3.7/dist-packages/erfa/core.py:155: ErfaWarning: ERFA function \"pmsafe\" yielded 205 of \"excessive velocity (Note 7)\"\n",
            "  ErfaWarning)\n"
          ],
          "name": "stderr"
        }
      ]
    },
    {
      "cell_type": "markdown",
      "metadata": {
        "id": "2HDYBmChTQCD"
      },
      "source": [
        "The object `ngc188_members_coords_1999` now contains the coordinate information for our *Gaia*-selected members of NGC 188, as we think they would appear if observed on 1999-10-19.\n",
        "\n",
        "We can now use the ``SkyCoord.match_to_catalog_sky`` method to match these two catalogs ([docs](http://docs.astropy.org/en/latest/coordinates/matchsep.html#astropy-coordinates-matching)), using the `ngc188_members_coords_1999` as our NGC 188 members coordinates. \n",
        "\n",
        "Note that order matters with this method: Here we will match *Gaia* to 2MASS. `SkyCoord.match_to_catalog_sky` returns three objects: (1) the indices into `tmass_coords` that get the closest matches in `ngc188_members_coords_1999`, (2) the angular separation between each `ngc188_members_coords_1999` coordinate and the closest source in `tmass_coords`, and (3) the 3D distance between each `ngc188_members_coords_1999` coordinate and the closest source in `tmass_coords`. Here, the 3D distances will not be useful because the 2MASS coordinates do not have associated distance information, so we will ignore these quantities:"
      ]
    },
    {
      "cell_type": "code",
      "metadata": {
        "id": "_rH2HEMDTQCE"
      },
      "source": [
        "idx_gaia, sep2d_gaia, _ = ngc188_members_coords_1999.match_to_catalog_sky(\n",
        "    tmass_coords)"
      ],
      "execution_count": 47,
      "outputs": []
    },
    {
      "cell_type": "markdown",
      "metadata": {
        "id": "_A3OjBU1TQCE"
      },
      "source": [
        "Let's now look at the distribution of separations (in arcseconds) for all of the cross-matched sources:"
      ]
    },
    {
      "cell_type": "code",
      "metadata": {
        "colab": {
          "base_uri": "https://localhost:8080/",
          "height": 297
        },
        "id": "_bcP8MXKTQCE",
        "outputId": "ce60ea1e-8a91-4b9d-fba4-952e4ef8ed3a"
      },
      "source": [
        "plt.hist(sep2d_gaia.arcsec, histtype='step', \n",
        "         bins=np.logspace(-2, 2., 64))\n",
        "plt.xlabel('separation [arcsec]')\n",
        "plt.xscale('log')\n",
        "plt.yscale('log')\n",
        "plt.tight_layout()"
      ],
      "execution_count": 48,
      "outputs": [
        {
          "output_type": "display_data",
          "data": {
            "image/png": "[encoded data removed]",
            "text/plain": [
              "<Figure size 432x288 with 1 Axes>"
            ]
          },
          "metadata": {
            "tags": [],
            "needs_background": "light"
          }
        }
      ]
    },
    {
      "cell_type": "markdown",
      "metadata": {
        "id": "2n3YO_2GTQCF"
      },
      "source": [
        "From this, it looks like all of sources in our *Gaia* NGC 188 member list cross-match to another sources within a few arcseconds, so these all seem like they are correctly matches to a 2MASS source!"
      ]
    },
    {
      "cell_type": "code",
      "metadata": {
        "colab": {
          "base_uri": "https://localhost:8080/"
        },
        "id": "KhN6F8FQTQCF",
        "outputId": "677d4dac-abe2-4859-ec1e-e139bcd64070"
      },
      "source": [
        "(sep2d_gaia < 2*u.arcsec).sum(), len(ngc188_members)"
      ],
      "execution_count": 49,
      "outputs": [
        {
          "output_type": "execute_result",
          "data": {
            "text/plain": [
              "(215, 216)"
            ]
          },
          "metadata": {
            "tags": []
          },
          "execution_count": 49
        }
      ]
    },
    {
      "cell_type": "markdown",
      "metadata": {
        "id": "o3IIoCqSTQCF"
      },
      "source": [
        "With our cross-match done, we can now make `Gaia`+2MASS color–magnitude diagrams of our candidate NGC 188 members using the information returned by the cross-match:"
      ]
    },
    {
      "cell_type": "code",
      "metadata": {
        "id": "slezreWRTQCF"
      },
      "source": [
        "Jmag = tmass_table['Jmag'][idx_gaia]  # note that we use the index array returned above\n",
        "Gmag = ngc188_members['phot_g_mean_mag']\n",
        "Bmag = ngc188_members['phot_bp_mean_mag']"
      ],
      "execution_count": 50,
      "outputs": []
    },
    {
      "cell_type": "code",
      "metadata": {
        "colab": {
          "base_uri": "https://localhost:8080/",
          "height": 369
        },
        "id": "FNDpwPKBTQCG",
        "outputId": "594b9eca-abff-4d2e-b573-ac690f81df7f"
      },
      "source": [
        "fig, axes = plt.subplots(1, 2, figsize=(10, 5))\n",
        "\n",
        "ax = axes[0]\n",
        "ax.scatter(Gmag - Jmag, Gmag, \n",
        "           marker='o', color='k', \n",
        "           linewidth=0, alpha=0.5)\n",
        "ax.set_xlabel('$G - J$')\n",
        "ax.set_ylabel('$G$')\n",
        "ax.set_xlim(0, 3)\n",
        "ax.set_ylim(19, 10) # backwards because magnitudes!\n",
        "\n",
        "ax = axes[1]\n",
        "ax.scatter(Bmag - Gmag, Jmag, \n",
        "           marker='o', color='k', \n",
        "           linewidth=0, alpha=0.5)\n",
        "ax.set_xlabel('$G_{BP} - G$')\n",
        "ax.set_ylabel('$J$')\n",
        "ax.set_xlim(0.2, 1)\n",
        "ax.set_ylim(17, 8) # backwards because magnitudes!\n",
        "\n",
        "fig.tight_layout()"
      ],
      "execution_count": 51,
      "outputs": [
        {
          "output_type": "display_data",
          "data": {
            "image/png": "[encoded data removed]",
            "text/plain": [
              "<Figure size 720x360 with 2 Axes>"
            ]
          },
          "metadata": {
            "tags": [],
            "needs_background": "light"
          }
        }
      ]
    },
    {
      "cell_type": "markdown",
      "metadata": {
        "id": "NF4zkqjxTQCG"
      },
      "source": [
        "Those both look like color-magnitude diagrams of a main sequence + red giant branch of an intermediate-age stellar cluster, so it looks like our selection and cross-matching has worked!\n",
        "\n",
        "For more on what matching options are available, check out the [separation and matching section of the Astropy documentation](https://astropy.readthedocs.io/en/stable/coordinates/matchsep.html). Or for more on what you can do with `SkyCoord`, see [its API documentation](http://astropy.readthedocs.org/en/stable/api/astropy.coordinates.SkyCoord.html)."
      ]
    },
    {
      "cell_type": "code",
      "metadata": {
        "id": "oQrU-7lqTQCG"
      },
      "source": [
        ""
      ],
      "execution_count": 51,
      "outputs": []
    }
  ]
}