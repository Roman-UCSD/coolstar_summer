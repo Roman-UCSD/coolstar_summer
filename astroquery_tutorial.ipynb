{
  "nbformat": 4,
  "nbformat_minor": 0,
  "metadata": {
    "colab": {
      "name": "ENLACE_astroquery_notes.ipynb",
      "provenance": [],
      "collapsed_sections": []
    },
    "kernelspec": {
      "name": "python3",
      "display_name": "Python 3"
    },
    "language_info": {
      "name": "python"
    }
  },
  "cells": [
    {
      "cell_type": "markdown",
      "metadata": {
        "id": "VH2hfcGrcNqi"
      },
      "source": [
        "## AstroQuery\n",
        "\n",
        "**AstroQuery** is a Python library to query and analyze astronomical catalogues. Many astronomical catalogues are available online through a web service called [VizieR](https://vizier.u-strasbg.fr/viz-bin/VizieR) operated by CDS (Strasbourg Astronomical Data Centre). VizieR catalogues can be loaded into Python using AstroQuery as will be demonstrated in this notebook.\n",
        "\n",
        "This notebook is based on the corresponding [AstroPy tutorial](https://learn.astropy.org/rst-tutorials/4-Coordinates-Crossmatch.html?highlight=filtertutorials).\n",
        "\n",
        "We will attempt to construct an optical / infrared colour-magnitude diagram for open cluster [NGC 188](https://en.wikipedia.org/wiki/NGC_188). Optical magnitudes will be taken from Gaia EDR3 catalogue ([I/350](https://vizier.u-strasbg.fr/viz-bin/VizieR-3?-source=I/350) on VizieR). Infrared magnitudes will be taken from the 2MASS catalogue ([II/246](https://vizier.u-strasbg.fr/viz-bin/VizieR-3?-source=II/246/out) on VizieR)."
      ]
    },
    {
      "cell_type": "markdown",
      "metadata": {
        "id": "i0bENKexflpi"
      },
      "source": [
        "## Install AstroQuery\n",
        "\n",
        "To install AstroQuery, run `pip install astroquery` in your terminal (use Conda Propmpt on Windows). On Google Colab, run the cell below:"
      ]
    },
    {
      "cell_type": "code",
      "metadata": {
        "colab": {
          "base_uri": "https://localhost:8080/"
        },
        "id": "UMQhXjTBfyZS",
        "outputId": "5a762254-cad7-4e31-b900-a70b2d4d0db7"
      },
      "source": [
        "!pip install astroquery"
      ],
      "execution_count": 1,
      "outputs": [
        {
          "output_type": "stream",
          "text": [
            "Requirement already satisfied: astroquery in /usr/local/lib/python3.7/dist-packages (0.4.2)\n",
            "Requirement already satisfied: astropy>=3.1.2 in /usr/local/lib/python3.7/dist-packages (from astroquery) (4.2.1)\n",
            "Requirement already satisfied: beautifulsoup4>=4.3.2 in /usr/local/lib/python3.7/dist-packages (from astroquery) (4.6.3)\n",
            "Requirement already satisfied: html5lib>=0.999 in /usr/local/lib/python3.7/dist-packages (from astroquery) (1.0.1)\n",
            "Requirement already satisfied: numpy>=1.15.0 in /usr/local/lib/python3.7/dist-packages (from astroquery) (1.19.5)\n",
            "Requirement already satisfied: pyvo>=1.1 in /usr/local/lib/python3.7/dist-packages (from astroquery) (1.1)\n",
            "Requirement already satisfied: keyring>=4.0 in /usr/local/lib/python3.7/dist-packages (from astroquery) (23.0.1)\n",
            "Requirement already satisfied: six in /usr/local/lib/python3.7/dist-packages (from astroquery) (1.15.0)\n",
            "Requirement already satisfied: requests>=2.4.3 in /usr/local/lib/python3.7/dist-packages (from astroquery) (2.23.0)\n",
            "Requirement already satisfied: pyerfa in /usr/local/lib/python3.7/dist-packages (from astropy>=3.1.2->astroquery) (2.0.0)\n",
            "Requirement already satisfied: webencodings in /usr/local/lib/python3.7/dist-packages (from html5lib>=0.999->astroquery) (0.5.1)\n",
            "Requirement already satisfied: mimeparse in /usr/local/lib/python3.7/dist-packages (from pyvo>=1.1->astroquery) (0.1.3)\n",
            "Requirement already satisfied: jeepney>=0.4.2; sys_platform == \"linux\" in /usr/local/lib/python3.7/dist-packages (from keyring>=4.0->astroquery) (0.6.0)\n",
            "Requirement already satisfied: importlib-metadata>=3.6 in /usr/local/lib/python3.7/dist-packages (from keyring>=4.0->astroquery) (4.5.0)\n",
            "Requirement already satisfied: SecretStorage>=3.2; sys_platform == \"linux\" in /usr/local/lib/python3.7/dist-packages (from keyring>=4.0->astroquery) (3.3.1)\n",
            "Requirement already satisfied: urllib3!=1.25.0,!=1.25.1,<1.26,>=1.21.1 in /usr/local/lib/python3.7/dist-packages (from requests>=2.4.3->astroquery) (1.24.3)\n",
            "Requirement already satisfied: certifi>=2017.4.17 in /usr/local/lib/python3.7/dist-packages (from requests>=2.4.3->astroquery) (2021.5.30)\n",
            "Requirement already satisfied: idna<3,>=2.5 in /usr/local/lib/python3.7/dist-packages (from requests>=2.4.3->astroquery) (2.10)\n",
            "Requirement already satisfied: chardet<4,>=3.0.2 in /usr/local/lib/python3.7/dist-packages (from requests>=2.4.3->astroquery) (3.0.4)\n",
            "Requirement already satisfied: typing-extensions>=3.6.4; python_version < \"3.8\" in /usr/local/lib/python3.7/dist-packages (from importlib-metadata>=3.6->keyring>=4.0->astroquery) (3.7.4.3)\n",
            "Requirement already satisfied: zipp>=0.5 in /usr/local/lib/python3.7/dist-packages (from importlib-metadata>=3.6->keyring>=4.0->astroquery) (3.4.1)\n",
            "Requirement already satisfied: cryptography>=2.0 in /usr/local/lib/python3.7/dist-packages (from SecretStorage>=3.2; sys_platform == \"linux\"->keyring>=4.0->astroquery) (3.4.7)\n",
            "Requirement already satisfied: cffi>=1.12 in /usr/local/lib/python3.7/dist-packages (from cryptography>=2.0->SecretStorage>=3.2; sys_platform == \"linux\"->keyring>=4.0->astroquery) (1.14.5)\n",
            "Requirement already satisfied: pycparser in /usr/local/lib/python3.7/dist-packages (from cffi>=1.12->cryptography>=2.0->SecretStorage>=3.2; sys_platform == \"linux\"->keyring>=4.0->astroquery) (2.20)\n"
          ],
          "name": "stdout"
        }
      ]
    },
    {
      "cell_type": "markdown",
      "metadata": {
        "id": "CYtRUqVAf2KO"
      },
      "source": [
        "## Load the catalogues"
      ]
    },
    {
      "cell_type": "markdown",
      "metadata": {
        "id": "knkzRzGYBTAu"
      },
      "source": [
        "Define a `SkyCoord` object with the average coordinates of the cluster which may be looked up on [Simbad](http://simbad.u-strasbg.fr/simbad/sim-id?Ident=NGC+188). AstroQuery can query Simbad directly as demonstrated [here](https://astroquery.readthedocs.io/en/latest/simbad/simbad.html); however this feature will not be covered in this tutorial."
      ]
    },
    {
      "cell_type": "code",
      "metadata": {
        "id": "83hQoKr3BQSV"
      },
      "source": [
        "from astropy.coordinates import SkyCoord\n",
        "from astropy import units as u\n",
        "from astropy.coordinates import Angle, Distance\n",
        "\n",
        "# Simbad provides parallax instead of distance. However, we can convert one into\n",
        "# the other using AstroPy tools\n",
        "ngc188_distance = Distance(parallax = Angle(0.5053 * u.mas))\n",
        "\n",
        "ngc188_center_3d = SkyCoord(ra            = 12.11 * u.deg,\n",
        "                            dec           = 85.26 * u.deg,\n",
        "                            distance      = ngc188_distance,\n",
        "                            pm_ra_cosdec  = -2.3087 * u.mas / u.yr,\n",
        "                            pm_dec        = -0.9565 * u.mas / u.yr)"
      ],
      "execution_count": 2,
      "outputs": []
    },
    {
      "cell_type": "markdown",
      "metadata": {
        "id": "JkrzNNn5DCMl"
      },
      "source": [
        "We now query the stars in the cluster from the Gaia EDR3 catalogue on VizieR and define a `SkyCoord` object for them as well:"
      ]
    },
    {
      "cell_type": "code",
      "metadata": {
        "colab": {
          "base_uri": "https://localhost:8080/"
        },
        "id": "bS1HTubzPguh",
        "outputId": "3d87b8f4-732d-41d0-d461-d873dd20005a"
      },
      "source": [
        "from astroquery.vizier import Vizier\n",
        "from astropy.time import Time\n",
        "import numpy as np\n",
        "\n",
        "v = Vizier(catalog = \"I/350\")         #   I/350 is Gaia eDR3 catalogue\n",
        "v.ROW_LIMIT = -1                      #   Remove the default row limit to get\n",
        "                                      #   all the stars\n",
        "\n",
        "# Query all Gaia stars within 0.5 degrees of the cluster centre\n",
        "result = v.query_region(ngc188_center_3d, radius = 0.5 * u.deg)\n",
        "gaia_table = result[0]\n",
        "\n",
        "# Remove stars that are too faint\n",
        "gaia_table = gaia_table[gaia_table['Gmag'] < 19]\n",
        "# Remove stars that are too far away\n",
        "gaia_table = gaia_table[gaia_table['Plx'] > 0.25 * u.mas]\n",
        "\n",
        "# Create a SkyCoord object containing the coordinates of all of the queried stars\n",
        "ngc188_coords = SkyCoord(\n",
        "    ra = gaia_table['RA_ICRS'],\n",
        "    dec = gaia_table['DE_ICRS'],\n",
        "    distance = Distance(parallax = Angle(gaia_table['Plx'])),\n",
        "    pm_ra_cosdec = gaia_table['pmRA'],\n",
        "    pm_dec = gaia_table['pmDE'],\n",
        "    obstime = Time('J2016'))   #  Gaia EDR3 observations are all in J2016\n",
        "\n",
        "# Calculate 3D separations\n",
        "sep3d = ngc188_coords.separation_3d(ngc188_center_3d)\n",
        "# Calculate velocity space separations (use Pythagoras)\n",
        "pm_diff = np.sqrt(\n",
        "    (ngc188_coords.pm_ra_cosdec - ngc188_center_3d.pm_ra_cosdec)**2 +\n",
        "    (ngc188_coords.pm_dec - ngc188_center_3d.pm_dec)**2)\n",
        "\n",
        "# Stars that are too far from each other in 3D space (say, further than\n",
        "# 50 pc) or stars that have very different proper motions (say, more than\n",
        "# 1.5 mas / yr) do not belong to the cluster\n",
        "ngc188_members_mask = (sep3d < 50 * u.pc) & (pm_diff < 1.5 * u.mas/u.yr)\n",
        "ngc188_coords = ngc188_coords[ngc188_members_mask]\n",
        "\n",
        "# Print total number of identified members\n",
        "len(ngc188_coords)"
      ],
      "execution_count": 3,
      "outputs": [
        {
          "output_type": "execute_result",
          "data": {
            "text/plain": [
              "244"
            ]
          },
          "metadata": {
            "tags": []
          },
          "execution_count": 3
        }
      ]
    },
    {
      "cell_type": "markdown",
      "metadata": {
        "id": "-a--b4pBYk4U"
      },
      "source": [
        "Now load cluster stars from the 2MASS catalogue. We are not going to verify membership here because we will eventually cross-match them onto Gaia stars and non-members will not find matches and disappear on their own"
      ]
    },
    {
      "cell_type": "code",
      "metadata": {
        "colab": {
          "base_uri": "https://localhost:8080/"
        },
        "id": "L5D_VFDcB0Jy",
        "outputId": "d5dab10b-8e53-4b6c-bb51-4cb35934502d"
      },
      "source": [
        "v = Vizier(catalog = \"II/246\", columns=['*', 'Date'])       # Include date of observation\n",
        "v.ROW_LIMIT = -1\n",
        "\n",
        "result = v.query_region(ngc188_center_3d, radius = 0.5 * u.deg)\n",
        "tmass_table = result[0]\n",
        "len(tmass_table)"
      ],
      "execution_count": 4,
      "outputs": [
        {
          "output_type": "execute_result",
          "data": {
            "text/plain": [
              "5014"
            ]
          },
          "metadata": {
            "tags": []
          },
          "execution_count": 4
        }
      ]
    },
    {
      "cell_type": "markdown",
      "metadata": {
        "id": "iNC-iKcJDzfI"
      },
      "source": [
        "## Cross-match\n",
        "\n",
        "Define a `Time` object for the date when 2MASS observations were taken:"
      ]
    },
    {
      "cell_type": "code",
      "metadata": {
        "id": "7atNEJDBDibc"
      },
      "source": [
        "tmass_epoch = Time(np.unique(tmass_table['Date']))"
      ],
      "execution_count": 5,
      "outputs": []
    },
    {
      "cell_type": "markdown",
      "metadata": {
        "id": "6UfULKeZEFI_"
      },
      "source": [
        "Define a `SkyCoord` object for 2MASS stars (we only need RA and DEC):"
      ]
    },
    {
      "cell_type": "code",
      "metadata": {
        "id": "T_NjdZiCD5ac"
      },
      "source": [
        "tmass_coords = SkyCoord(tmass_table['RAJ2000'], tmass_table['DEJ2000'])"
      ],
      "execution_count": 6,
      "outputs": []
    },
    {
      "cell_type": "markdown",
      "metadata": {
        "id": "2HdtZ5_YKQ02"
      },
      "source": [
        "Advance Gaia coordinates to the 2MASS observation date so that we could compare the two together:"
      ]
    },
    {
      "cell_type": "code",
      "metadata": {
        "id": "h314QfEKHmV2"
      },
      "source": [
        "ngc188_coords_1999 = ngc188_coords.apply_space_motion(tmass_epoch)"
      ],
      "execution_count": 7,
      "outputs": []
    },
    {
      "cell_type": "markdown",
      "metadata": {
        "id": "5BcQWTLRLSjp"
      },
      "source": [
        "Run the cross-match:"
      ]
    },
    {
      "cell_type": "code",
      "metadata": {
        "id": "EI9iZq-OI2sv"
      },
      "source": [
        "idx_gaia, sep2d_gaia, sep3d = ngc188_coords_1999.match_to_catalog_sky(tmass_coords)\n",
        "\n",
        "# idx_gaia stores indices of matches to each of the Gaia stars in the 2MASS catalogue\n",
        "# sep2d_gaia stores 2D separations between the original star and its match\n",
        "# sep3d stores 3D separations; however, they will be incorrect since we loaded 2MASS\n",
        "# stars without 3D data"
      ],
      "execution_count": 8,
      "outputs": []
    },
    {
      "cell_type": "markdown",
      "metadata": {
        "id": "n9OVBeGrZhDJ"
      },
      "source": [
        "Plot a histogram of separations:"
      ]
    },
    {
      "cell_type": "code",
      "metadata": {
        "colab": {
          "base_uri": "https://localhost:8080/",
          "height": 296
        },
        "id": "wM61etH5NMXW",
        "outputId": "9ef72fd6-b02b-4fff-8654-2f1e020c45b3"
      },
      "source": [
        "import matplotlib.pyplot as plt\n",
        "\n",
        "plt.hist(np.log10(sep2d_gaia.arcsec), bins = 20);\n",
        "plt.xlabel('Separation [arcsec]')"
      ],
      "execution_count": 9,
      "outputs": [
        {
          "output_type": "execute_result",
          "data": {
            "text/plain": [
              "Text(0.5, 0, 'Separation [arcsec]')"
            ]
          },
          "metadata": {
            "tags": []
          },
          "execution_count": 9
        },
        {
          "output_type": "display_data",
          "data": {
            "image/png": "[encoded data removed]",
            "text/plain": [
              "<Figure size 432x288 with 1 Axes>"
            ]
          },
          "metadata": {
            "tags": [],
            "needs_background": "light"
          }
        }
      ]
    },
    {
      "cell_type": "markdown",
      "metadata": {
        "id": "WVysfLavZ0x1"
      },
      "source": [
        "Get apparent J and G magnitudes"
      ]
    },
    {
      "cell_type": "code",
      "metadata": {
        "id": "dUtnrFYgOcm3"
      },
      "source": [
        "Jmag = tmass_table['Jmag'][idx_gaia]          # Use the cross-match indices\n",
        "Gmag = gaia_table[ngc188_members_mask]['Gmag']"
      ],
      "execution_count": 12,
      "outputs": []
    },
    {
      "cell_type": "markdown",
      "metadata": {
        "id": "eY3jzPUlZ7GM"
      },
      "source": [
        "Plot the colour-magnitude diagram:"
      ]
    },
    {
      "cell_type": "code",
      "metadata": {
        "colab": {
          "base_uri": "https://localhost:8080/",
          "height": 300
        },
        "id": "c383Cf1JOrSI",
        "outputId": "41867cdd-e77c-4403-e7e2-5499ce6e7797"
      },
      "source": [
        "plt.plot(Gmag - Jmag, Gmag, 'r.')\n",
        "plt.xlim(0, 3)\n",
        "plt.ylim(19, 10)\n",
        "\n",
        "plt.xlabel('G - J')\n",
        "plt.ylabel('G')"
      ],
      "execution_count": 13,
      "outputs": [
        {
          "output_type": "execute_result",
          "data": {
            "text/plain": [
              "Text(0, 0.5, 'G')"
            ]
          },
          "metadata": {
            "tags": []
          },
          "execution_count": 13
        },
        {
          "output_type": "display_data",
          "data": {
            "image/png": "[encoded data removed]",
            "text/plain": [
              "<Figure size 432x288 with 1 Axes>"
            ]
          },
          "metadata": {
            "tags": [],
            "needs_background": "light"
          }
        }
      ]
    },
    {
      "cell_type": "code",
      "metadata": {
        "id": "k9lBNSUsO5YU"
      },
      "source": [
        ""
      ],
      "execution_count": null,
      "outputs": []
    }
  ]
}