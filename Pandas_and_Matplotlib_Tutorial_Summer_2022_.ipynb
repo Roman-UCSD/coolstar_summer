{
  "nbformat": 4,
  "nbformat_minor": 0,
  "metadata": {
    "celltoolbar": "Slideshow",
    "kernelspec": {
      "display_name": "Python 3",
      "language": "python",
      "name": "python3"
    },
    "language_info": {
      "codemirror_mode": {
        "name": "ipython",
        "version": 3
      },
      "file_extension": ".py",
      "mimetype": "text/x-python",
      "name": "python",
      "nbconvert_exporter": "python",
      "pygments_lexer": "ipython3",
      "version": "3.8.5"
    },
    "colab": {
      "name": "Pandas and Matplotlib Tutorial Summer 2022 .ipynb",
      "provenance": [],
      "toc_visible": true,
      "include_colab_link": true
    },
    "widgets": {
      "application/vnd.jupyter.widget-state+json": {
        "91f050cffe584c05addda40e43186fc7": {
          "model_module": "@jupyter-widgets/controls",
          "model_name": "HBoxModel",
          "model_module_version": "1.5.0",
          "state": {
            "_dom_classes": [],
            "_model_module": "@jupyter-widgets/controls",
            "_model_module_version": "1.5.0",
            "_model_name": "HBoxModel",
            "_view_count": null,
            "_view_module": "@jupyter-widgets/controls",
            "_view_module_version": "1.5.0",
            "_view_name": "HBoxView",
            "box_style": "",
            "children": [
              "IPY_MODEL_6c341780280543b2b182edd148bad7b3",
              "IPY_MODEL_7b68de78038a4590ae2edb35e67629c3",
              "IPY_MODEL_efba5b9621a9466ca18dc39d97571dfd"
            ],
            "layout": "IPY_MODEL_3354cf466a364d198ad948916c6e8388"
          }
        },
        "6c341780280543b2b182edd148bad7b3": {
          "model_module": "@jupyter-widgets/controls",
          "model_name": "HTMLModel",
          "model_module_version": "1.5.0",
          "state": {
            "_dom_classes": [],
            "_model_module": "@jupyter-widgets/controls",
            "_model_module_version": "1.5.0",
            "_model_name": "HTMLModel",
            "_view_count": null,
            "_view_module": "@jupyter-widgets/controls",
            "_view_module_version": "1.5.0",
            "_view_name": "HTMLView",
            "description": "",
            "description_tooltip": null,
            "layout": "IPY_MODEL_effbedf5a6b348e98cb686401f475c54",
            "placeholder": "​",
            "style": "IPY_MODEL_8e01780f73d542d7a5aa956ceb449bf6",
            "value": "100%"
          }
        },
        "7b68de78038a4590ae2edb35e67629c3": {
          "model_module": "@jupyter-widgets/controls",
          "model_name": "FloatProgressModel",
          "model_module_version": "1.5.0",
          "state": {
            "_dom_classes": [],
            "_model_module": "@jupyter-widgets/controls",
            "_model_module_version": "1.5.0",
            "_model_name": "FloatProgressModel",
            "_view_count": null,
            "_view_module": "@jupyter-widgets/controls",
            "_view_module_version": "1.5.0",
            "_view_name": "ProgressView",
            "bar_style": "success",
            "description": "",
            "description_tooltip": null,
            "layout": "IPY_MODEL_3064ee5316e74a9bacdfa0bf3a7be65f",
            "max": 10,
            "min": 0,
            "orientation": "horizontal",
            "style": "IPY_MODEL_6406bad55e03463cac27bf960568fc32",
            "value": 10
          }
        },
        "efba5b9621a9466ca18dc39d97571dfd": {
          "model_module": "@jupyter-widgets/controls",
          "model_name": "HTMLModel",
          "model_module_version": "1.5.0",
          "state": {
            "_dom_classes": [],
            "_model_module": "@jupyter-widgets/controls",
            "_model_module_version": "1.5.0",
            "_model_name": "HTMLModel",
            "_view_count": null,
            "_view_module": "@jupyter-widgets/controls",
            "_view_module_version": "1.5.0",
            "_view_name": "HTMLView",
            "description": "",
            "description_tooltip": null,
            "layout": "IPY_MODEL_ce39c4ca592d4f1a8020f4683106cb48",
            "placeholder": "​",
            "style": "IPY_MODEL_7aacec8c3fea4191ab8fe0b23048338f",
            "value": " 10/10 [00:00&lt;00:00, 133.61it/s]"
          }
        },
        "3354cf466a364d198ad948916c6e8388": {
          "model_module": "@jupyter-widgets/base",
          "model_name": "LayoutModel",
          "model_module_version": "1.2.0",
          "state": {
            "_model_module": "@jupyter-widgets/base",
            "_model_module_version": "1.2.0",
            "_model_name": "LayoutModel",
            "_view_count": null,
            "_view_module": "@jupyter-widgets/base",
            "_view_module_version": "1.2.0",
            "_view_name": "LayoutView",
            "align_content": null,
            "align_items": null,
            "align_self": null,
            "border": null,
            "bottom": null,
            "display": null,
            "flex": null,
            "flex_flow": null,
            "grid_area": null,
            "grid_auto_columns": null,
            "grid_auto_flow": null,
            "grid_auto_rows": null,
            "grid_column": null,
            "grid_gap": null,
            "grid_row": null,
            "grid_template_areas": null,
            "grid_template_columns": null,
            "grid_template_rows": null,
            "height": null,
            "justify_content": null,
            "justify_items": null,
            "left": null,
            "margin": null,
            "max_height": null,
            "max_width": null,
            "min_height": null,
            "min_width": null,
            "object_fit": null,
            "object_position": null,
            "order": null,
            "overflow": null,
            "overflow_x": null,
            "overflow_y": null,
            "padding": null,
            "right": null,
            "top": null,
            "visibility": null,
            "width": null
          }
        },
        "effbedf5a6b348e98cb686401f475c54": {
          "model_module": "@jupyter-widgets/base",
          "model_name": "LayoutModel",
          "model_module_version": "1.2.0",
          "state": {
            "_model_module": "@jupyter-widgets/base",
            "_model_module_version": "1.2.0",
            "_model_name": "LayoutModel",
            "_view_count": null,
            "_view_module": "@jupyter-widgets/base",
            "_view_module_version": "1.2.0",
            "_view_name": "LayoutView",
            "align_content": null,
            "align_items": null,
            "align_self": null,
            "border": null,
            "bottom": null,
            "display": null,
            "flex": null,
            "flex_flow": null,
            "grid_area": null,
            "grid_auto_columns": null,
            "grid_auto_flow": null,
            "grid_auto_rows": null,
            "grid_column": null,
            "grid_gap": null,
            "grid_row": null,
            "grid_template_areas": null,
            "grid_template_columns": null,
            "grid_template_rows": null,
            "height": null,
            "justify_content": null,
            "justify_items": null,
            "left": null,
            "margin": null,
            "max_height": null,
            "max_width": null,
            "min_height": null,
            "min_width": null,
            "object_fit": null,
            "object_position": null,
            "order": null,
            "overflow": null,
            "overflow_x": null,
            "overflow_y": null,
            "padding": null,
            "right": null,
            "top": null,
            "visibility": null,
            "width": null
          }
        },
        "8e01780f73d542d7a5aa956ceb449bf6": {
          "model_module": "@jupyter-widgets/controls",
          "model_name": "DescriptionStyleModel",
          "model_module_version": "1.5.0",
          "state": {
            "_model_module": "@jupyter-widgets/controls",
            "_model_module_version": "1.5.0",
            "_model_name": "DescriptionStyleModel",
            "_view_count": null,
            "_view_module": "@jupyter-widgets/base",
            "_view_module_version": "1.2.0",
            "_view_name": "StyleView",
            "description_width": ""
          }
        },
        "3064ee5316e74a9bacdfa0bf3a7be65f": {
          "model_module": "@jupyter-widgets/base",
          "model_name": "LayoutModel",
          "model_module_version": "1.2.0",
          "state": {
            "_model_module": "@jupyter-widgets/base",
            "_model_module_version": "1.2.0",
            "_model_name": "LayoutModel",
            "_view_count": null,
            "_view_module": "@jupyter-widgets/base",
            "_view_module_version": "1.2.0",
            "_view_name": "LayoutView",
            "align_content": null,
            "align_items": null,
            "align_self": null,
            "border": null,
            "bottom": null,
            "display": null,
            "flex": null,
            "flex_flow": null,
            "grid_area": null,
            "grid_auto_columns": null,
            "grid_auto_flow": null,
            "grid_auto_rows": null,
            "grid_column": null,
            "grid_gap": null,
            "grid_row": null,
            "grid_template_areas": null,
            "grid_template_columns": null,
            "grid_template_rows": null,
            "height": null,
            "justify_content": null,
            "justify_items": null,
            "left": null,
            "margin": null,
            "max_height": null,
            "max_width": null,
            "min_height": null,
            "min_width": null,
            "object_fit": null,
            "object_position": null,
            "order": null,
            "overflow": null,
            "overflow_x": null,
            "overflow_y": null,
            "padding": null,
            "right": null,
            "top": null,
            "visibility": null,
            "width": null
          }
        },
        "6406bad55e03463cac27bf960568fc32": {
          "model_module": "@jupyter-widgets/controls",
          "model_name": "ProgressStyleModel",
          "model_module_version": "1.5.0",
          "state": {
            "_model_module": "@jupyter-widgets/controls",
            "_model_module_version": "1.5.0",
            "_model_name": "ProgressStyleModel",
            "_view_count": null,
            "_view_module": "@jupyter-widgets/base",
            "_view_module_version": "1.2.0",
            "_view_name": "StyleView",
            "bar_color": null,
            "description_width": ""
          }
        },
        "ce39c4ca592d4f1a8020f4683106cb48": {
          "model_module": "@jupyter-widgets/base",
          "model_name": "LayoutModel",
          "model_module_version": "1.2.0",
          "state": {
            "_model_module": "@jupyter-widgets/base",
            "_model_module_version": "1.2.0",
            "_model_name": "LayoutModel",
            "_view_count": null,
            "_view_module": "@jupyter-widgets/base",
            "_view_module_version": "1.2.0",
            "_view_name": "LayoutView",
            "align_content": null,
            "align_items": null,
            "align_self": null,
            "border": null,
            "bottom": null,
            "display": null,
            "flex": null,
            "flex_flow": null,
            "grid_area": null,
            "grid_auto_columns": null,
            "grid_auto_flow": null,
            "grid_auto_rows": null,
            "grid_column": null,
            "grid_gap": null,
            "grid_row": null,
            "grid_template_areas": null,
            "grid_template_columns": null,
            "grid_template_rows": null,
            "height": null,
            "justify_content": null,
            "justify_items": null,
            "left": null,
            "margin": null,
            "max_height": null,
            "max_width": null,
            "min_height": null,
            "min_width": null,
            "object_fit": null,
            "object_position": null,
            "order": null,
            "overflow": null,
            "overflow_x": null,
            "overflow_y": null,
            "padding": null,
            "right": null,
            "top": null,
            "visibility": null,
            "width": null
          }
        },
        "7aacec8c3fea4191ab8fe0b23048338f": {
          "model_module": "@jupyter-widgets/controls",
          "model_name": "DescriptionStyleModel",
          "model_module_version": "1.5.0",
          "state": {
            "_model_module": "@jupyter-widgets/controls",
            "_model_module_version": "1.5.0",
            "_model_name": "DescriptionStyleModel",
            "_view_count": null,
            "_view_module": "@jupyter-widgets/base",
            "_view_module_version": "1.2.0",
            "_view_name": "StyleView",
            "description_width": ""
          }
        }
      }
    }
  },
  "cells": [
    {
      "cell_type": "markdown",
      "metadata": {
        "id": "view-in-github",
        "colab_type": "text"
      },
      "source": [
        "<a href=\"https://colab.research.google.com/github/Roman-UCSD/coolstar_summer/blob/main/Pandas_and_Matplotlib_Tutorial_Summer_2022_.ipynb\" target=\"_parent\"><img src=\"https://colab.research.google.com/assets/colab-badge.svg\" alt=\"Open In Colab\"/></a>"
      ]
    },
    {
      "cell_type": "markdown",
      "metadata": {
        "id": "YK8_9srczGMN"
      },
      "source": [
        "CA, June 30, 2022\n",
        "\n",
        "### Learning Goals \n",
        "\n",
        "After this tutorial you will learn the following things about the Pandas Library\n",
        "*   How to create and ccess data inside a dataframe \n",
        "*   How to read and write data in a pandas dataframe \n",
        "*   How to combine dataframes \n",
        "*   How to apply functions to columns and rows in a pandas dataframe\n",
        "\n",
        "You will also learn the following things about the Matplotlib and Seaborn libraries\n",
        "\n",
        "*   How to create a scatter plot, line plot and a histogram in Matplotlib\n",
        "*   How to display uncertainties in a plot\n",
        "*   How to use subplots\n",
        "*   How make figures in different styles\n",
        "\n",
        "### Useful links \n",
        "\n",
        "Pandas documentation https://pandas.pydata.org/docs/\n",
        "\n",
        "Mapltolib documentatuon https://matplotlib.org/stable/index.html\n",
        "\n",
        "Seaborn documentation https://seaborn.pydata.org/\n",
        "\n",
        "\n",
        "\n",
        "This notebook can be accessed here  [INSERT LINK]\n",
        "\n",
        "\n",
        "If you are running this notebook locally, make sure to install matplotlib and seaborn. If you don't have seaborn installed type the command `pip install seaborn` in your terminal\n",
        "\n",
        "\n",
        "There are many other libraries in python e.g arviz, altair, bokeh but I'll stick to matplotlib and seaborn for visualization \n",
        "    \n",
        "\n",
        "\n"
      ]
    },
    {
      "cell_type": "code",
      "metadata": {
        "id": "_VFEgXKuzGMW"
      },
      "source": [
        "import numpy as np\n",
        "import matplotlib.pyplot as plt\n",
        "import seaborn as sns\n",
        "import pandas as pd\n",
        "\n",
        "#use this command to get plots directly in your notebook\n",
        "%matplotlib inline\n",
        "#use this command to for a more interactive plot\n",
        "#%matplotlib notebook"
      ],
      "execution_count": 1,
      "outputs": []
    },
    {
      "cell_type": "markdown",
      "source": [
        "# Introduction to Pandas"
      ],
      "metadata": {
        "id": "XVcH3BlLmmR-"
      }
    },
    {
      "cell_type": "markdown",
      "source": [
        "Pandas is open-source python library that was developped in the early 2010s. It's main features deal with manipulating tabular data which has made it popular among observational astronomers."
      ],
      "metadata": {
        "id": "7zArPAksmsiZ"
      }
    },
    {
      "cell_type": "markdown",
      "source": [
        "#### Part 1. Introduction to DataFrame Objects\n",
        "\n",
        "This is the main object in pandas, you can create an empty dataframe by calling it directly\n",
        "\n"
      ],
      "metadata": {
        "id": "zswZSwr2nb9W"
      }
    },
    {
      "cell_type": "code",
      "source": [
        "df= pd.DataFrame()\n",
        "df #this is an empty dataframe"
      ],
      "metadata": {
        "colab": {
          "base_uri": "https://localhost:8080/",
          "height": 0
        },
        "id": "M5gXzdWdot_z",
        "outputId": "677cb52b-2bd4-49c8-9758-b6ae664915ff"
      },
      "execution_count": 2,
      "outputs": [
        {
          "output_type": "execute_result",
          "data": {
            "text/plain": [
              "Empty DataFrame\n",
              "Columns: []\n",
              "Index: []"
            ],
            "text/html": [
              "\n",
              "  <div id=\"df-d2553c08-09b0-4177-9fab-9825a1e5a650\">\n",
              "    <div class=\"colab-df-container\">\n",
              "      <div>\n",
              "<style scoped>\n",
              "    .dataframe tbody tr th:only-of-type {\n",
              "        vertical-align: middle;\n",
              "    }\n",
              "\n",
              "    .dataframe tbody tr th {\n",
              "        vertical-align: top;\n",
              "    }\n",
              "\n",
              "    .dataframe thead th {\n",
              "        text-align: right;\n",
              "    }\n",
              "</style>\n",
              "<table border=\"1\" class=\"dataframe\">\n",
              "  <thead>\n",
              "    <tr style=\"text-align: right;\">\n",
              "      <th></th>\n",
              "    </tr>\n",
              "  </thead>\n",
              "  <tbody>\n",
              "  </tbody>\n",
              "</table>\n",
              "</div>\n",
              "      <button class=\"colab-df-convert\" onclick=\"convertToInteractive('df-d2553c08-09b0-4177-9fab-9825a1e5a650')\"\n",
              "              title=\"Convert this dataframe to an interactive table.\"\n",
              "              style=\"display:none;\">\n",
              "        \n",
              "  <svg xmlns=\"http://www.w3.org/2000/svg\" height=\"24px\"viewBox=\"0 0 24 24\"\n",
              "       width=\"24px\">\n",
              "    <path d=\"M0 0h24v24H0V0z\" fill=\"none\"/>\n",
              "    <path d=\"M18.56 5.44l.94 2.06.94-2.06 2.06-.94-2.06-.94-.94-2.06-.94 2.06-2.06.94zm-11 1L8.5 8.5l.94-2.06 2.06-.94-2.06-.94L8.5 2.5l-.94 2.06-2.06.94zm10 10l.94 2.06.94-2.06 2.06-.94-2.06-.94-.94-2.06-.94 2.06-2.06.94z\"/><path d=\"M17.41 7.96l-1.37-1.37c-.4-.4-.92-.59-1.43-.59-.52 0-1.04.2-1.43.59L10.3 9.45l-7.72 7.72c-.78.78-.78 2.05 0 2.83L4 21.41c.39.39.9.59 1.41.59.51 0 1.02-.2 1.41-.59l7.78-7.78 2.81-2.81c.8-.78.8-2.07 0-2.86zM5.41 20L4 18.59l7.72-7.72 1.47 1.35L5.41 20z\"/>\n",
              "  </svg>\n",
              "      </button>\n",
              "      \n",
              "  <style>\n",
              "    .colab-df-container {\n",
              "      display:flex;\n",
              "      flex-wrap:wrap;\n",
              "      gap: 12px;\n",
              "    }\n",
              "\n",
              "    .colab-df-convert {\n",
              "      background-color: #E8F0FE;\n",
              "      border: none;\n",
              "      border-radius: 50%;\n",
              "      cursor: pointer;\n",
              "      display: none;\n",
              "      fill: #1967D2;\n",
              "      height: 32px;\n",
              "      padding: 0 0 0 0;\n",
              "      width: 32px;\n",
              "    }\n",
              "\n",
              "    .colab-df-convert:hover {\n",
              "      background-color: #E2EBFA;\n",
              "      box-shadow: 0px 1px 2px rgba(60, 64, 67, 0.3), 0px 1px 3px 1px rgba(60, 64, 67, 0.15);\n",
              "      fill: #174EA6;\n",
              "    }\n",
              "\n",
              "    [theme=dark] .colab-df-convert {\n",
              "      background-color: #3B4455;\n",
              "      fill: #D2E3FC;\n",
              "    }\n",
              "\n",
              "    [theme=dark] .colab-df-convert:hover {\n",
              "      background-color: #434B5C;\n",
              "      box-shadow: 0px 1px 3px 1px rgba(0, 0, 0, 0.15);\n",
              "      filter: drop-shadow(0px 1px 2px rgba(0, 0, 0, 0.3));\n",
              "      fill: #FFFFFF;\n",
              "    }\n",
              "  </style>\n",
              "\n",
              "      <script>\n",
              "        const buttonEl =\n",
              "          document.querySelector('#df-d2553c08-09b0-4177-9fab-9825a1e5a650 button.colab-df-convert');\n",
              "        buttonEl.style.display =\n",
              "          google.colab.kernel.accessAllowed ? 'block' : 'none';\n",
              "\n",
              "        async function convertToInteractive(key) {\n",
              "          const element = document.querySelector('#df-d2553c08-09b0-4177-9fab-9825a1e5a650');\n",
              "          const dataTable =\n",
              "            await google.colab.kernel.invokeFunction('convertToInteractive',\n",
              "                                                     [key], {});\n",
              "          if (!dataTable) return;\n",
              "\n",
              "          const docLinkHtml = 'Like what you see? Visit the ' +\n",
              "            '<a target=\"_blank\" href=https://colab.research.google.com/notebooks/data_table.ipynb>data table notebook</a>'\n",
              "            + ' to learn more about interactive tables.';\n",
              "          element.innerHTML = '';\n",
              "          dataTable['output_type'] = 'display_data';\n",
              "          await google.colab.output.renderOutput(dataTable, element);\n",
              "          const docLink = document.createElement('div');\n",
              "          docLink.innerHTML = docLinkHtml;\n",
              "          element.appendChild(docLink);\n",
              "        }\n",
              "      </script>\n",
              "    </div>\n",
              "  </div>\n",
              "  "
            ]
          },
          "metadata": {},
          "execution_count": 2
        }
      ]
    },
    {
      "cell_type": "markdown",
      "source": [
        "We can populate the dataframe with data from a random numpy array\n"
      ],
      "metadata": {
        "id": "INOhzsxCo1ON"
      }
    },
    {
      "cell_type": "code",
      "source": [
        "arr= np.random.uniform(0, 1, (10, 2))\n",
        "print (arr)\n",
        "\n",
        "df['x']= arr[:,0]\n",
        "df['y'] = arr[:,1]\n",
        "\n",
        "print (df)"
      ],
      "metadata": {
        "colab": {
          "base_uri": "https://localhost:8080/"
        },
        "id": "hgiXi6mcpG28",
        "outputId": "5e4faf64-71b0-4a3f-c22a-0ef17482dc36"
      },
      "execution_count": 3,
      "outputs": [
        {
          "output_type": "stream",
          "name": "stdout",
          "text": [
            "[[0.22744675 0.14154374]\n",
            " [0.89181039 0.8673349 ]\n",
            " [0.8306518  0.93669918]\n",
            " [0.82042221 0.76881233]\n",
            " [0.11968504 0.10697718]\n",
            " [0.22931413 0.87102282]\n",
            " [0.99290794 0.39062113]\n",
            " [0.85585173 0.60903692]\n",
            " [0.61801473 0.75722341]\n",
            " [0.81722754 0.77064057]]\n",
            "          x         y\n",
            "0  0.227447  0.141544\n",
            "1  0.891810  0.867335\n",
            "2  0.830652  0.936699\n",
            "3  0.820422  0.768812\n",
            "4  0.119685  0.106977\n",
            "5  0.229314  0.871023\n",
            "6  0.992908  0.390621\n",
            "7  0.855852  0.609037\n",
            "8  0.618015  0.757223\n",
            "9  0.817228  0.770641\n"
          ]
        }
      ]
    },
    {
      "cell_type": "markdown",
      "source": [
        "We can visualize the first three rows in the array"
      ],
      "metadata": {
        "id": "paru6h18p826"
      }
    },
    {
      "cell_type": "code",
      "source": [
        "df.head(3)"
      ],
      "metadata": {
        "colab": {
          "base_uri": "https://localhost:8080/",
          "height": 0
        },
        "id": "2nglz_PRp4Fd",
        "outputId": "a6eb7368-416a-4808-c014-fd8bc4ea25f3"
      },
      "execution_count": 4,
      "outputs": [
        {
          "output_type": "execute_result",
          "data": {
            "text/plain": [
              "          x         y\n",
              "0  0.227447  0.141544\n",
              "1  0.891810  0.867335\n",
              "2  0.830652  0.936699"
            ],
            "text/html": [
              "\n",
              "  <div id=\"df-4d31bb21-3e79-496e-a777-1156794b93f5\">\n",
              "    <div class=\"colab-df-container\">\n",
              "      <div>\n",
              "<style scoped>\n",
              "    .dataframe tbody tr th:only-of-type {\n",
              "        vertical-align: middle;\n",
              "    }\n",
              "\n",
              "    .dataframe tbody tr th {\n",
              "        vertical-align: top;\n",
              "    }\n",
              "\n",
              "    .dataframe thead th {\n",
              "        text-align: right;\n",
              "    }\n",
              "</style>\n",
              "<table border=\"1\" class=\"dataframe\">\n",
              "  <thead>\n",
              "    <tr style=\"text-align: right;\">\n",
              "      <th></th>\n",
              "      <th>x</th>\n",
              "      <th>y</th>\n",
              "    </tr>\n",
              "  </thead>\n",
              "  <tbody>\n",
              "    <tr>\n",
              "      <th>0</th>\n",
              "      <td>0.227447</td>\n",
              "      <td>0.141544</td>\n",
              "    </tr>\n",
              "    <tr>\n",
              "      <th>1</th>\n",
              "      <td>0.891810</td>\n",
              "      <td>0.867335</td>\n",
              "    </tr>\n",
              "    <tr>\n",
              "      <th>2</th>\n",
              "      <td>0.830652</td>\n",
              "      <td>0.936699</td>\n",
              "    </tr>\n",
              "  </tbody>\n",
              "</table>\n",
              "</div>\n",
              "      <button class=\"colab-df-convert\" onclick=\"convertToInteractive('df-4d31bb21-3e79-496e-a777-1156794b93f5')\"\n",
              "              title=\"Convert this dataframe to an interactive table.\"\n",
              "              style=\"display:none;\">\n",
              "        \n",
              "  <svg xmlns=\"http://www.w3.org/2000/svg\" height=\"24px\"viewBox=\"0 0 24 24\"\n",
              "       width=\"24px\">\n",
              "    <path d=\"M0 0h24v24H0V0z\" fill=\"none\"/>\n",
              "    <path d=\"M18.56 5.44l.94 2.06.94-2.06 2.06-.94-2.06-.94-.94-2.06-.94 2.06-2.06.94zm-11 1L8.5 8.5l.94-2.06 2.06-.94-2.06-.94L8.5 2.5l-.94 2.06-2.06.94zm10 10l.94 2.06.94-2.06 2.06-.94-2.06-.94-.94-2.06-.94 2.06-2.06.94z\"/><path d=\"M17.41 7.96l-1.37-1.37c-.4-.4-.92-.59-1.43-.59-.52 0-1.04.2-1.43.59L10.3 9.45l-7.72 7.72c-.78.78-.78 2.05 0 2.83L4 21.41c.39.39.9.59 1.41.59.51 0 1.02-.2 1.41-.59l7.78-7.78 2.81-2.81c.8-.78.8-2.07 0-2.86zM5.41 20L4 18.59l7.72-7.72 1.47 1.35L5.41 20z\"/>\n",
              "  </svg>\n",
              "      </button>\n",
              "      \n",
              "  <style>\n",
              "    .colab-df-container {\n",
              "      display:flex;\n",
              "      flex-wrap:wrap;\n",
              "      gap: 12px;\n",
              "    }\n",
              "\n",
              "    .colab-df-convert {\n",
              "      background-color: #E8F0FE;\n",
              "      border: none;\n",
              "      border-radius: 50%;\n",
              "      cursor: pointer;\n",
              "      display: none;\n",
              "      fill: #1967D2;\n",
              "      height: 32px;\n",
              "      padding: 0 0 0 0;\n",
              "      width: 32px;\n",
              "    }\n",
              "\n",
              "    .colab-df-convert:hover {\n",
              "      background-color: #E2EBFA;\n",
              "      box-shadow: 0px 1px 2px rgba(60, 64, 67, 0.3), 0px 1px 3px 1px rgba(60, 64, 67, 0.15);\n",
              "      fill: #174EA6;\n",
              "    }\n",
              "\n",
              "    [theme=dark] .colab-df-convert {\n",
              "      background-color: #3B4455;\n",
              "      fill: #D2E3FC;\n",
              "    }\n",
              "\n",
              "    [theme=dark] .colab-df-convert:hover {\n",
              "      background-color: #434B5C;\n",
              "      box-shadow: 0px 1px 3px 1px rgba(0, 0, 0, 0.15);\n",
              "      filter: drop-shadow(0px 1px 2px rgba(0, 0, 0, 0.3));\n",
              "      fill: #FFFFFF;\n",
              "    }\n",
              "  </style>\n",
              "\n",
              "      <script>\n",
              "        const buttonEl =\n",
              "          document.querySelector('#df-4d31bb21-3e79-496e-a777-1156794b93f5 button.colab-df-convert');\n",
              "        buttonEl.style.display =\n",
              "          google.colab.kernel.accessAllowed ? 'block' : 'none';\n",
              "\n",
              "        async function convertToInteractive(key) {\n",
              "          const element = document.querySelector('#df-4d31bb21-3e79-496e-a777-1156794b93f5');\n",
              "          const dataTable =\n",
              "            await google.colab.kernel.invokeFunction('convertToInteractive',\n",
              "                                                     [key], {});\n",
              "          if (!dataTable) return;\n",
              "\n",
              "          const docLinkHtml = 'Like what you see? Visit the ' +\n",
              "            '<a target=\"_blank\" href=https://colab.research.google.com/notebooks/data_table.ipynb>data table notebook</a>'\n",
              "            + ' to learn more about interactive tables.';\n",
              "          element.innerHTML = '';\n",
              "          dataTable['output_type'] = 'display_data';\n",
              "          await google.colab.output.renderOutput(dataTable, element);\n",
              "          const docLink = document.createElement('div');\n",
              "          docLink.innerHTML = docLinkHtml;\n",
              "          element.appendChild(docLink);\n",
              "        }\n",
              "      </script>\n",
              "    </div>\n",
              "  </div>\n",
              "  "
            ]
          },
          "metadata": {},
          "execution_count": 4
        }
      ]
    },
    {
      "cell_type": "code",
      "source": [
        "df.tail(3)"
      ],
      "metadata": {
        "colab": {
          "base_uri": "https://localhost:8080/",
          "height": 0
        },
        "id": "ANgyEUgxuHcb",
        "outputId": "e1517c5d-c1ad-4174-9226-436e3a2217fb"
      },
      "execution_count": 5,
      "outputs": [
        {
          "output_type": "execute_result",
          "data": {
            "text/plain": [
              "          x         y\n",
              "7  0.855852  0.609037\n",
              "8  0.618015  0.757223\n",
              "9  0.817228  0.770641"
            ],
            "text/html": [
              "\n",
              "  <div id=\"df-61bfa1cb-6d8f-4ea2-8d6c-48082e24cf0c\">\n",
              "    <div class=\"colab-df-container\">\n",
              "      <div>\n",
              "<style scoped>\n",
              "    .dataframe tbody tr th:only-of-type {\n",
              "        vertical-align: middle;\n",
              "    }\n",
              "\n",
              "    .dataframe tbody tr th {\n",
              "        vertical-align: top;\n",
              "    }\n",
              "\n",
              "    .dataframe thead th {\n",
              "        text-align: right;\n",
              "    }\n",
              "</style>\n",
              "<table border=\"1\" class=\"dataframe\">\n",
              "  <thead>\n",
              "    <tr style=\"text-align: right;\">\n",
              "      <th></th>\n",
              "      <th>x</th>\n",
              "      <th>y</th>\n",
              "    </tr>\n",
              "  </thead>\n",
              "  <tbody>\n",
              "    <tr>\n",
              "      <th>7</th>\n",
              "      <td>0.855852</td>\n",
              "      <td>0.609037</td>\n",
              "    </tr>\n",
              "    <tr>\n",
              "      <th>8</th>\n",
              "      <td>0.618015</td>\n",
              "      <td>0.757223</td>\n",
              "    </tr>\n",
              "    <tr>\n",
              "      <th>9</th>\n",
              "      <td>0.817228</td>\n",
              "      <td>0.770641</td>\n",
              "    </tr>\n",
              "  </tbody>\n",
              "</table>\n",
              "</div>\n",
              "      <button class=\"colab-df-convert\" onclick=\"convertToInteractive('df-61bfa1cb-6d8f-4ea2-8d6c-48082e24cf0c')\"\n",
              "              title=\"Convert this dataframe to an interactive table.\"\n",
              "              style=\"display:none;\">\n",
              "        \n",
              "  <svg xmlns=\"http://www.w3.org/2000/svg\" height=\"24px\"viewBox=\"0 0 24 24\"\n",
              "       width=\"24px\">\n",
              "    <path d=\"M0 0h24v24H0V0z\" fill=\"none\"/>\n",
              "    <path d=\"M18.56 5.44l.94 2.06.94-2.06 2.06-.94-2.06-.94-.94-2.06-.94 2.06-2.06.94zm-11 1L8.5 8.5l.94-2.06 2.06-.94-2.06-.94L8.5 2.5l-.94 2.06-2.06.94zm10 10l.94 2.06.94-2.06 2.06-.94-2.06-.94-.94-2.06-.94 2.06-2.06.94z\"/><path d=\"M17.41 7.96l-1.37-1.37c-.4-.4-.92-.59-1.43-.59-.52 0-1.04.2-1.43.59L10.3 9.45l-7.72 7.72c-.78.78-.78 2.05 0 2.83L4 21.41c.39.39.9.59 1.41.59.51 0 1.02-.2 1.41-.59l7.78-7.78 2.81-2.81c.8-.78.8-2.07 0-2.86zM5.41 20L4 18.59l7.72-7.72 1.47 1.35L5.41 20z\"/>\n",
              "  </svg>\n",
              "      </button>\n",
              "      \n",
              "  <style>\n",
              "    .colab-df-container {\n",
              "      display:flex;\n",
              "      flex-wrap:wrap;\n",
              "      gap: 12px;\n",
              "    }\n",
              "\n",
              "    .colab-df-convert {\n",
              "      background-color: #E8F0FE;\n",
              "      border: none;\n",
              "      border-radius: 50%;\n",
              "      cursor: pointer;\n",
              "      display: none;\n",
              "      fill: #1967D2;\n",
              "      height: 32px;\n",
              "      padding: 0 0 0 0;\n",
              "      width: 32px;\n",
              "    }\n",
              "\n",
              "    .colab-df-convert:hover {\n",
              "      background-color: #E2EBFA;\n",
              "      box-shadow: 0px 1px 2px rgba(60, 64, 67, 0.3), 0px 1px 3px 1px rgba(60, 64, 67, 0.15);\n",
              "      fill: #174EA6;\n",
              "    }\n",
              "\n",
              "    [theme=dark] .colab-df-convert {\n",
              "      background-color: #3B4455;\n",
              "      fill: #D2E3FC;\n",
              "    }\n",
              "\n",
              "    [theme=dark] .colab-df-convert:hover {\n",
              "      background-color: #434B5C;\n",
              "      box-shadow: 0px 1px 3px 1px rgba(0, 0, 0, 0.15);\n",
              "      filter: drop-shadow(0px 1px 2px rgba(0, 0, 0, 0.3));\n",
              "      fill: #FFFFFF;\n",
              "    }\n",
              "  </style>\n",
              "\n",
              "      <script>\n",
              "        const buttonEl =\n",
              "          document.querySelector('#df-61bfa1cb-6d8f-4ea2-8d6c-48082e24cf0c button.colab-df-convert');\n",
              "        buttonEl.style.display =\n",
              "          google.colab.kernel.accessAllowed ? 'block' : 'none';\n",
              "\n",
              "        async function convertToInteractive(key) {\n",
              "          const element = document.querySelector('#df-61bfa1cb-6d8f-4ea2-8d6c-48082e24cf0c');\n",
              "          const dataTable =\n",
              "            await google.colab.kernel.invokeFunction('convertToInteractive',\n",
              "                                                     [key], {});\n",
              "          if (!dataTable) return;\n",
              "\n",
              "          const docLinkHtml = 'Like what you see? Visit the ' +\n",
              "            '<a target=\"_blank\" href=https://colab.research.google.com/notebooks/data_table.ipynb>data table notebook</a>'\n",
              "            + ' to learn more about interactive tables.';\n",
              "          element.innerHTML = '';\n",
              "          dataTable['output_type'] = 'display_data';\n",
              "          await google.colab.output.renderOutput(dataTable, element);\n",
              "          const docLink = document.createElement('div');\n",
              "          docLink.innerHTML = docLinkHtml;\n",
              "          element.appendChild(docLink);\n",
              "        }\n",
              "      </script>\n",
              "    </div>\n",
              "  </div>\n",
              "  "
            ]
          },
          "metadata": {},
          "execution_count": 5
        }
      ]
    },
    {
      "cell_type": "markdown",
      "source": [
        "You can get a quick summary of the data "
      ],
      "metadata": {
        "id": "7LhI4zMFUy7X"
      }
    },
    {
      "cell_type": "code",
      "source": [
        "df.describe()"
      ],
      "metadata": {
        "colab": {
          "base_uri": "https://localhost:8080/",
          "height": 0
        },
        "id": "f1DUxmrqUwKR",
        "outputId": "47cc4e9e-4571-4b55-adb8-7dc14c0abf14"
      },
      "execution_count": 6,
      "outputs": [
        {
          "output_type": "execute_result",
          "data": {
            "text/plain": [
              "               x          y\n",
              "count  10.000000  10.000000\n",
              "mean    0.640333   0.621991\n",
              "std     0.324025   0.304222\n",
              "min     0.119685   0.106977\n",
              "25%     0.326489   0.445225\n",
              "50%     0.818825   0.763018\n",
              "75%     0.849552   0.843161\n",
              "max     0.992908   0.936699"
            ],
            "text/html": [
              "\n",
              "  <div id=\"df-d224f001-421d-43f4-92c3-cc5600e24b5e\">\n",
              "    <div class=\"colab-df-container\">\n",
              "      <div>\n",
              "<style scoped>\n",
              "    .dataframe tbody tr th:only-of-type {\n",
              "        vertical-align: middle;\n",
              "    }\n",
              "\n",
              "    .dataframe tbody tr th {\n",
              "        vertical-align: top;\n",
              "    }\n",
              "\n",
              "    .dataframe thead th {\n",
              "        text-align: right;\n",
              "    }\n",
              "</style>\n",
              "<table border=\"1\" class=\"dataframe\">\n",
              "  <thead>\n",
              "    <tr style=\"text-align: right;\">\n",
              "      <th></th>\n",
              "      <th>x</th>\n",
              "      <th>y</th>\n",
              "    </tr>\n",
              "  </thead>\n",
              "  <tbody>\n",
              "    <tr>\n",
              "      <th>count</th>\n",
              "      <td>10.000000</td>\n",
              "      <td>10.000000</td>\n",
              "    </tr>\n",
              "    <tr>\n",
              "      <th>mean</th>\n",
              "      <td>0.640333</td>\n",
              "      <td>0.621991</td>\n",
              "    </tr>\n",
              "    <tr>\n",
              "      <th>std</th>\n",
              "      <td>0.324025</td>\n",
              "      <td>0.304222</td>\n",
              "    </tr>\n",
              "    <tr>\n",
              "      <th>min</th>\n",
              "      <td>0.119685</td>\n",
              "      <td>0.106977</td>\n",
              "    </tr>\n",
              "    <tr>\n",
              "      <th>25%</th>\n",
              "      <td>0.326489</td>\n",
              "      <td>0.445225</td>\n",
              "    </tr>\n",
              "    <tr>\n",
              "      <th>50%</th>\n",
              "      <td>0.818825</td>\n",
              "      <td>0.763018</td>\n",
              "    </tr>\n",
              "    <tr>\n",
              "      <th>75%</th>\n",
              "      <td>0.849552</td>\n",
              "      <td>0.843161</td>\n",
              "    </tr>\n",
              "    <tr>\n",
              "      <th>max</th>\n",
              "      <td>0.992908</td>\n",
              "      <td>0.936699</td>\n",
              "    </tr>\n",
              "  </tbody>\n",
              "</table>\n",
              "</div>\n",
              "      <button class=\"colab-df-convert\" onclick=\"convertToInteractive('df-d224f001-421d-43f4-92c3-cc5600e24b5e')\"\n",
              "              title=\"Convert this dataframe to an interactive table.\"\n",
              "              style=\"display:none;\">\n",
              "        \n",
              "  <svg xmlns=\"http://www.w3.org/2000/svg\" height=\"24px\"viewBox=\"0 0 24 24\"\n",
              "       width=\"24px\">\n",
              "    <path d=\"M0 0h24v24H0V0z\" fill=\"none\"/>\n",
              "    <path d=\"M18.56 5.44l.94 2.06.94-2.06 2.06-.94-2.06-.94-.94-2.06-.94 2.06-2.06.94zm-11 1L8.5 8.5l.94-2.06 2.06-.94-2.06-.94L8.5 2.5l-.94 2.06-2.06.94zm10 10l.94 2.06.94-2.06 2.06-.94-2.06-.94-.94-2.06-.94 2.06-2.06.94z\"/><path d=\"M17.41 7.96l-1.37-1.37c-.4-.4-.92-.59-1.43-.59-.52 0-1.04.2-1.43.59L10.3 9.45l-7.72 7.72c-.78.78-.78 2.05 0 2.83L4 21.41c.39.39.9.59 1.41.59.51 0 1.02-.2 1.41-.59l7.78-7.78 2.81-2.81c.8-.78.8-2.07 0-2.86zM5.41 20L4 18.59l7.72-7.72 1.47 1.35L5.41 20z\"/>\n",
              "  </svg>\n",
              "      </button>\n",
              "      \n",
              "  <style>\n",
              "    .colab-df-container {\n",
              "      display:flex;\n",
              "      flex-wrap:wrap;\n",
              "      gap: 12px;\n",
              "    }\n",
              "\n",
              "    .colab-df-convert {\n",
              "      background-color: #E8F0FE;\n",
              "      border: none;\n",
              "      border-radius: 50%;\n",
              "      cursor: pointer;\n",
              "      display: none;\n",
              "      fill: #1967D2;\n",
              "      height: 32px;\n",
              "      padding: 0 0 0 0;\n",
              "      width: 32px;\n",
              "    }\n",
              "\n",
              "    .colab-df-convert:hover {\n",
              "      background-color: #E2EBFA;\n",
              "      box-shadow: 0px 1px 2px rgba(60, 64, 67, 0.3), 0px 1px 3px 1px rgba(60, 64, 67, 0.15);\n",
              "      fill: #174EA6;\n",
              "    }\n",
              "\n",
              "    [theme=dark] .colab-df-convert {\n",
              "      background-color: #3B4455;\n",
              "      fill: #D2E3FC;\n",
              "    }\n",
              "\n",
              "    [theme=dark] .colab-df-convert:hover {\n",
              "      background-color: #434B5C;\n",
              "      box-shadow: 0px 1px 3px 1px rgba(0, 0, 0, 0.15);\n",
              "      filter: drop-shadow(0px 1px 2px rgba(0, 0, 0, 0.3));\n",
              "      fill: #FFFFFF;\n",
              "    }\n",
              "  </style>\n",
              "\n",
              "      <script>\n",
              "        const buttonEl =\n",
              "          document.querySelector('#df-d224f001-421d-43f4-92c3-cc5600e24b5e button.colab-df-convert');\n",
              "        buttonEl.style.display =\n",
              "          google.colab.kernel.accessAllowed ? 'block' : 'none';\n",
              "\n",
              "        async function convertToInteractive(key) {\n",
              "          const element = document.querySelector('#df-d224f001-421d-43f4-92c3-cc5600e24b5e');\n",
              "          const dataTable =\n",
              "            await google.colab.kernel.invokeFunction('convertToInteractive',\n",
              "                                                     [key], {});\n",
              "          if (!dataTable) return;\n",
              "\n",
              "          const docLinkHtml = 'Like what you see? Visit the ' +\n",
              "            '<a target=\"_blank\" href=https://colab.research.google.com/notebooks/data_table.ipynb>data table notebook</a>'\n",
              "            + ' to learn more about interactive tables.';\n",
              "          element.innerHTML = '';\n",
              "          dataTable['output_type'] = 'display_data';\n",
              "          await google.colab.output.renderOutput(dataTable, element);\n",
              "          const docLink = document.createElement('div');\n",
              "          docLink.innerHTML = docLinkHtml;\n",
              "          element.appendChild(docLink);\n",
              "        }\n",
              "      </script>\n",
              "    </div>\n",
              "  </div>\n",
              "  "
            ]
          },
          "metadata": {},
          "execution_count": 6
        }
      ]
    },
    {
      "cell_type": "markdown",
      "source": [
        "Let's showcase some general properties of a dataframe object\n",
        "\n",
        "df.index is the index that keeps track labels for rows. The default is an array of integer but you are able to change it. \n"
      ],
      "metadata": {
        "id": "kv79fr-zspdG"
      }
    },
    {
      "cell_type": "code",
      "source": [
        "df.index"
      ],
      "metadata": {
        "colab": {
          "base_uri": "https://localhost:8080/"
        },
        "id": "nqDy54G3tD6e",
        "outputId": "995020ea-79e8-4986-db6c-324068df0e9a"
      },
      "execution_count": 7,
      "outputs": [
        {
          "output_type": "execute_result",
          "data": {
            "text/plain": [
              "RangeIndex(start=0, stop=10, step=1)"
            ]
          },
          "metadata": {},
          "execution_count": 7
        }
      ]
    },
    {
      "cell_type": "markdown",
      "source": [
        "Let's modify the index to strings instead of integers"
      ],
      "metadata": {
        "id": "TRYLXIhStG5G"
      }
    },
    {
      "cell_type": "code",
      "source": [
        "df.index= ['row'+str(x) for x in range(len(df))]\n",
        "df.index"
      ],
      "metadata": {
        "colab": {
          "base_uri": "https://localhost:8080/"
        },
        "id": "FIpY_WTutGC5",
        "outputId": "f54c06af-2eb1-4237-909b-60663f38dcd1"
      },
      "execution_count": 8,
      "outputs": [
        {
          "output_type": "execute_result",
          "data": {
            "text/plain": [
              "Index(['row0', 'row1', 'row2', 'row3', 'row4', 'row5', 'row6', 'row7', 'row8',\n",
              "       'row9'],\n",
              "      dtype='object')"
            ]
          },
          "metadata": {},
          "execution_count": 8
        }
      ]
    },
    {
      "cell_type": "code",
      "source": [
        "df"
      ],
      "metadata": {
        "colab": {
          "base_uri": "https://localhost:8080/",
          "height": 0
        },
        "id": "C59J762itV7V",
        "outputId": "1dbb795e-6f3f-40eb-df71-21f0242dbd4f"
      },
      "execution_count": 9,
      "outputs": [
        {
          "output_type": "execute_result",
          "data": {
            "text/plain": [
              "             x         y\n",
              "row0  0.227447  0.141544\n",
              "row1  0.891810  0.867335\n",
              "row2  0.830652  0.936699\n",
              "row3  0.820422  0.768812\n",
              "row4  0.119685  0.106977\n",
              "row5  0.229314  0.871023\n",
              "row6  0.992908  0.390621\n",
              "row7  0.855852  0.609037\n",
              "row8  0.618015  0.757223\n",
              "row9  0.817228  0.770641"
            ],
            "text/html": [
              "\n",
              "  <div id=\"df-b5c0e399-d66b-47c6-b433-76c49f5b3d17\">\n",
              "    <div class=\"colab-df-container\">\n",
              "      <div>\n",
              "<style scoped>\n",
              "    .dataframe tbody tr th:only-of-type {\n",
              "        vertical-align: middle;\n",
              "    }\n",
              "\n",
              "    .dataframe tbody tr th {\n",
              "        vertical-align: top;\n",
              "    }\n",
              "\n",
              "    .dataframe thead th {\n",
              "        text-align: right;\n",
              "    }\n",
              "</style>\n",
              "<table border=\"1\" class=\"dataframe\">\n",
              "  <thead>\n",
              "    <tr style=\"text-align: right;\">\n",
              "      <th></th>\n",
              "      <th>x</th>\n",
              "      <th>y</th>\n",
              "    </tr>\n",
              "  </thead>\n",
              "  <tbody>\n",
              "    <tr>\n",
              "      <th>row0</th>\n",
              "      <td>0.227447</td>\n",
              "      <td>0.141544</td>\n",
              "    </tr>\n",
              "    <tr>\n",
              "      <th>row1</th>\n",
              "      <td>0.891810</td>\n",
              "      <td>0.867335</td>\n",
              "    </tr>\n",
              "    <tr>\n",
              "      <th>row2</th>\n",
              "      <td>0.830652</td>\n",
              "      <td>0.936699</td>\n",
              "    </tr>\n",
              "    <tr>\n",
              "      <th>row3</th>\n",
              "      <td>0.820422</td>\n",
              "      <td>0.768812</td>\n",
              "    </tr>\n",
              "    <tr>\n",
              "      <th>row4</th>\n",
              "      <td>0.119685</td>\n",
              "      <td>0.106977</td>\n",
              "    </tr>\n",
              "    <tr>\n",
              "      <th>row5</th>\n",
              "      <td>0.229314</td>\n",
              "      <td>0.871023</td>\n",
              "    </tr>\n",
              "    <tr>\n",
              "      <th>row6</th>\n",
              "      <td>0.992908</td>\n",
              "      <td>0.390621</td>\n",
              "    </tr>\n",
              "    <tr>\n",
              "      <th>row7</th>\n",
              "      <td>0.855852</td>\n",
              "      <td>0.609037</td>\n",
              "    </tr>\n",
              "    <tr>\n",
              "      <th>row8</th>\n",
              "      <td>0.618015</td>\n",
              "      <td>0.757223</td>\n",
              "    </tr>\n",
              "    <tr>\n",
              "      <th>row9</th>\n",
              "      <td>0.817228</td>\n",
              "      <td>0.770641</td>\n",
              "    </tr>\n",
              "  </tbody>\n",
              "</table>\n",
              "</div>\n",
              "      <button class=\"colab-df-convert\" onclick=\"convertToInteractive('df-b5c0e399-d66b-47c6-b433-76c49f5b3d17')\"\n",
              "              title=\"Convert this dataframe to an interactive table.\"\n",
              "              style=\"display:none;\">\n",
              "        \n",
              "  <svg xmlns=\"http://www.w3.org/2000/svg\" height=\"24px\"viewBox=\"0 0 24 24\"\n",
              "       width=\"24px\">\n",
              "    <path d=\"M0 0h24v24H0V0z\" fill=\"none\"/>\n",
              "    <path d=\"M18.56 5.44l.94 2.06.94-2.06 2.06-.94-2.06-.94-.94-2.06-.94 2.06-2.06.94zm-11 1L8.5 8.5l.94-2.06 2.06-.94-2.06-.94L8.5 2.5l-.94 2.06-2.06.94zm10 10l.94 2.06.94-2.06 2.06-.94-2.06-.94-.94-2.06-.94 2.06-2.06.94z\"/><path d=\"M17.41 7.96l-1.37-1.37c-.4-.4-.92-.59-1.43-.59-.52 0-1.04.2-1.43.59L10.3 9.45l-7.72 7.72c-.78.78-.78 2.05 0 2.83L4 21.41c.39.39.9.59 1.41.59.51 0 1.02-.2 1.41-.59l7.78-7.78 2.81-2.81c.8-.78.8-2.07 0-2.86zM5.41 20L4 18.59l7.72-7.72 1.47 1.35L5.41 20z\"/>\n",
              "  </svg>\n",
              "      </button>\n",
              "      \n",
              "  <style>\n",
              "    .colab-df-container {\n",
              "      display:flex;\n",
              "      flex-wrap:wrap;\n",
              "      gap: 12px;\n",
              "    }\n",
              "\n",
              "    .colab-df-convert {\n",
              "      background-color: #E8F0FE;\n",
              "      border: none;\n",
              "      border-radius: 50%;\n",
              "      cursor: pointer;\n",
              "      display: none;\n",
              "      fill: #1967D2;\n",
              "      height: 32px;\n",
              "      padding: 0 0 0 0;\n",
              "      width: 32px;\n",
              "    }\n",
              "\n",
              "    .colab-df-convert:hover {\n",
              "      background-color: #E2EBFA;\n",
              "      box-shadow: 0px 1px 2px rgba(60, 64, 67, 0.3), 0px 1px 3px 1px rgba(60, 64, 67, 0.15);\n",
              "      fill: #174EA6;\n",
              "    }\n",
              "\n",
              "    [theme=dark] .colab-df-convert {\n",
              "      background-color: #3B4455;\n",
              "      fill: #D2E3FC;\n",
              "    }\n",
              "\n",
              "    [theme=dark] .colab-df-convert:hover {\n",
              "      background-color: #434B5C;\n",
              "      box-shadow: 0px 1px 3px 1px rgba(0, 0, 0, 0.15);\n",
              "      filter: drop-shadow(0px 1px 2px rgba(0, 0, 0, 0.3));\n",
              "      fill: #FFFFFF;\n",
              "    }\n",
              "  </style>\n",
              "\n",
              "      <script>\n",
              "        const buttonEl =\n",
              "          document.querySelector('#df-b5c0e399-d66b-47c6-b433-76c49f5b3d17 button.colab-df-convert');\n",
              "        buttonEl.style.display =\n",
              "          google.colab.kernel.accessAllowed ? 'block' : 'none';\n",
              "\n",
              "        async function convertToInteractive(key) {\n",
              "          const element = document.querySelector('#df-b5c0e399-d66b-47c6-b433-76c49f5b3d17');\n",
              "          const dataTable =\n",
              "            await google.colab.kernel.invokeFunction('convertToInteractive',\n",
              "                                                     [key], {});\n",
              "          if (!dataTable) return;\n",
              "\n",
              "          const docLinkHtml = 'Like what you see? Visit the ' +\n",
              "            '<a target=\"_blank\" href=https://colab.research.google.com/notebooks/data_table.ipynb>data table notebook</a>'\n",
              "            + ' to learn more about interactive tables.';\n",
              "          element.innerHTML = '';\n",
              "          dataTable['output_type'] = 'display_data';\n",
              "          await google.colab.output.renderOutput(dataTable, element);\n",
              "          const docLink = document.createElement('div');\n",
              "          docLink.innerHTML = docLinkHtml;\n",
              "          element.appendChild(docLink);\n",
              "        }\n",
              "      </script>\n",
              "    </div>\n",
              "  </div>\n",
              "  "
            ]
          },
          "metadata": {},
          "execution_count": 9
        }
      ]
    },
    {
      "cell_type": "markdown",
      "source": [
        "🔑 Useful: you can reset the index of a dataframe"
      ],
      "metadata": {
        "id": "LmBPHCjuwMcg"
      }
    },
    {
      "cell_type": "code",
      "source": [
        "df.reset_index(drop=True) #drop=True allows you to drop the previous index"
      ],
      "metadata": {
        "colab": {
          "base_uri": "https://localhost:8080/",
          "height": 0
        },
        "id": "gk5mC7O2wHg_",
        "outputId": "2b71434c-9828-435a-a3ae-73539e0a97f3"
      },
      "execution_count": 10,
      "outputs": [
        {
          "output_type": "execute_result",
          "data": {
            "text/plain": [
              "          x         y\n",
              "0  0.227447  0.141544\n",
              "1  0.891810  0.867335\n",
              "2  0.830652  0.936699\n",
              "3  0.820422  0.768812\n",
              "4  0.119685  0.106977\n",
              "5  0.229314  0.871023\n",
              "6  0.992908  0.390621\n",
              "7  0.855852  0.609037\n",
              "8  0.618015  0.757223\n",
              "9  0.817228  0.770641"
            ],
            "text/html": [
              "\n",
              "  <div id=\"df-f68a00fb-d307-49cc-87e0-57a933f4ee0d\">\n",
              "    <div class=\"colab-df-container\">\n",
              "      <div>\n",
              "<style scoped>\n",
              "    .dataframe tbody tr th:only-of-type {\n",
              "        vertical-align: middle;\n",
              "    }\n",
              "\n",
              "    .dataframe tbody tr th {\n",
              "        vertical-align: top;\n",
              "    }\n",
              "\n",
              "    .dataframe thead th {\n",
              "        text-align: right;\n",
              "    }\n",
              "</style>\n",
              "<table border=\"1\" class=\"dataframe\">\n",
              "  <thead>\n",
              "    <tr style=\"text-align: right;\">\n",
              "      <th></th>\n",
              "      <th>x</th>\n",
              "      <th>y</th>\n",
              "    </tr>\n",
              "  </thead>\n",
              "  <tbody>\n",
              "    <tr>\n",
              "      <th>0</th>\n",
              "      <td>0.227447</td>\n",
              "      <td>0.141544</td>\n",
              "    </tr>\n",
              "    <tr>\n",
              "      <th>1</th>\n",
              "      <td>0.891810</td>\n",
              "      <td>0.867335</td>\n",
              "    </tr>\n",
              "    <tr>\n",
              "      <th>2</th>\n",
              "      <td>0.830652</td>\n",
              "      <td>0.936699</td>\n",
              "    </tr>\n",
              "    <tr>\n",
              "      <th>3</th>\n",
              "      <td>0.820422</td>\n",
              "      <td>0.768812</td>\n",
              "    </tr>\n",
              "    <tr>\n",
              "      <th>4</th>\n",
              "      <td>0.119685</td>\n",
              "      <td>0.106977</td>\n",
              "    </tr>\n",
              "    <tr>\n",
              "      <th>5</th>\n",
              "      <td>0.229314</td>\n",
              "      <td>0.871023</td>\n",
              "    </tr>\n",
              "    <tr>\n",
              "      <th>6</th>\n",
              "      <td>0.992908</td>\n",
              "      <td>0.390621</td>\n",
              "    </tr>\n",
              "    <tr>\n",
              "      <th>7</th>\n",
              "      <td>0.855852</td>\n",
              "      <td>0.609037</td>\n",
              "    </tr>\n",
              "    <tr>\n",
              "      <th>8</th>\n",
              "      <td>0.618015</td>\n",
              "      <td>0.757223</td>\n",
              "    </tr>\n",
              "    <tr>\n",
              "      <th>9</th>\n",
              "      <td>0.817228</td>\n",
              "      <td>0.770641</td>\n",
              "    </tr>\n",
              "  </tbody>\n",
              "</table>\n",
              "</div>\n",
              "      <button class=\"colab-df-convert\" onclick=\"convertToInteractive('df-f68a00fb-d307-49cc-87e0-57a933f4ee0d')\"\n",
              "              title=\"Convert this dataframe to an interactive table.\"\n",
              "              style=\"display:none;\">\n",
              "        \n",
              "  <svg xmlns=\"http://www.w3.org/2000/svg\" height=\"24px\"viewBox=\"0 0 24 24\"\n",
              "       width=\"24px\">\n",
              "    <path d=\"M0 0h24v24H0V0z\" fill=\"none\"/>\n",
              "    <path d=\"M18.56 5.44l.94 2.06.94-2.06 2.06-.94-2.06-.94-.94-2.06-.94 2.06-2.06.94zm-11 1L8.5 8.5l.94-2.06 2.06-.94-2.06-.94L8.5 2.5l-.94 2.06-2.06.94zm10 10l.94 2.06.94-2.06 2.06-.94-2.06-.94-.94-2.06-.94 2.06-2.06.94z\"/><path d=\"M17.41 7.96l-1.37-1.37c-.4-.4-.92-.59-1.43-.59-.52 0-1.04.2-1.43.59L10.3 9.45l-7.72 7.72c-.78.78-.78 2.05 0 2.83L4 21.41c.39.39.9.59 1.41.59.51 0 1.02-.2 1.41-.59l7.78-7.78 2.81-2.81c.8-.78.8-2.07 0-2.86zM5.41 20L4 18.59l7.72-7.72 1.47 1.35L5.41 20z\"/>\n",
              "  </svg>\n",
              "      </button>\n",
              "      \n",
              "  <style>\n",
              "    .colab-df-container {\n",
              "      display:flex;\n",
              "      flex-wrap:wrap;\n",
              "      gap: 12px;\n",
              "    }\n",
              "\n",
              "    .colab-df-convert {\n",
              "      background-color: #E8F0FE;\n",
              "      border: none;\n",
              "      border-radius: 50%;\n",
              "      cursor: pointer;\n",
              "      display: none;\n",
              "      fill: #1967D2;\n",
              "      height: 32px;\n",
              "      padding: 0 0 0 0;\n",
              "      width: 32px;\n",
              "    }\n",
              "\n",
              "    .colab-df-convert:hover {\n",
              "      background-color: #E2EBFA;\n",
              "      box-shadow: 0px 1px 2px rgba(60, 64, 67, 0.3), 0px 1px 3px 1px rgba(60, 64, 67, 0.15);\n",
              "      fill: #174EA6;\n",
              "    }\n",
              "\n",
              "    [theme=dark] .colab-df-convert {\n",
              "      background-color: #3B4455;\n",
              "      fill: #D2E3FC;\n",
              "    }\n",
              "\n",
              "    [theme=dark] .colab-df-convert:hover {\n",
              "      background-color: #434B5C;\n",
              "      box-shadow: 0px 1px 3px 1px rgba(0, 0, 0, 0.15);\n",
              "      filter: drop-shadow(0px 1px 2px rgba(0, 0, 0, 0.3));\n",
              "      fill: #FFFFFF;\n",
              "    }\n",
              "  </style>\n",
              "\n",
              "      <script>\n",
              "        const buttonEl =\n",
              "          document.querySelector('#df-f68a00fb-d307-49cc-87e0-57a933f4ee0d button.colab-df-convert');\n",
              "        buttonEl.style.display =\n",
              "          google.colab.kernel.accessAllowed ? 'block' : 'none';\n",
              "\n",
              "        async function convertToInteractive(key) {\n",
              "          const element = document.querySelector('#df-f68a00fb-d307-49cc-87e0-57a933f4ee0d');\n",
              "          const dataTable =\n",
              "            await google.colab.kernel.invokeFunction('convertToInteractive',\n",
              "                                                     [key], {});\n",
              "          if (!dataTable) return;\n",
              "\n",
              "          const docLinkHtml = 'Like what you see? Visit the ' +\n",
              "            '<a target=\"_blank\" href=https://colab.research.google.com/notebooks/data_table.ipynb>data table notebook</a>'\n",
              "            + ' to learn more about interactive tables.';\n",
              "          element.innerHTML = '';\n",
              "          dataTable['output_type'] = 'display_data';\n",
              "          await google.colab.output.renderOutput(dataTable, element);\n",
              "          const docLink = document.createElement('div');\n",
              "          docLink.innerHTML = docLinkHtml;\n",
              "          element.appendChild(docLink);\n",
              "        }\n",
              "      </script>\n",
              "    </div>\n",
              "  </div>\n",
              "  "
            ]
          },
          "metadata": {},
          "execution_count": 10
        }
      ]
    },
    {
      "cell_type": "markdown",
      "source": [
        "Columns: we can access columns in a pandas frame "
      ],
      "metadata": {
        "id": "-wbN3EYkwaCx"
      }
    },
    {
      "cell_type": "code",
      "source": [
        "df.columns"
      ],
      "metadata": {
        "colab": {
          "base_uri": "https://localhost:8080/"
        },
        "id": "7qa-Lngtwa7J",
        "outputId": "ec530abd-106a-49d1-80cf-b776b32b0804"
      },
      "execution_count": 11,
      "outputs": [
        {
          "output_type": "execute_result",
          "data": {
            "text/plain": [
              "Index(['x', 'y'], dtype='object')"
            ]
          },
          "metadata": {},
          "execution_count": 11
        }
      ]
    },
    {
      "cell_type": "markdown",
      "source": [
        "💪 Exercise: Change the name of the rows in this dataframe to have them start from 1 instead of 0 (row1, row2 and so on)"
      ],
      "metadata": {
        "id": "NEEAGXTOqWlz"
      }
    },
    {
      "cell_type": "markdown",
      "source": [
        "### Part 2. Introduction Series Objects"
      ],
      "metadata": {
        "id": "rJEgNEUhqUvr"
      }
    },
    {
      "cell_type": "markdown",
      "source": [
        "The Series object is similar to a dataframe object, but it only takes one-dimensional array. But you can combine multiple Series into a DataFrame"
      ],
      "metadata": {
        "id": "OgWAcjMSqaRP"
      }
    },
    {
      "cell_type": "code",
      "source": [
        "s=pd.Series(arr[:,0])\n",
        "s"
      ],
      "metadata": {
        "colab": {
          "base_uri": "https://localhost:8080/"
        },
        "id": "gjFLxTN5sZna",
        "outputId": "4b8001e2-7efa-4302-b074-f38df7eb7511"
      },
      "execution_count": 12,
      "outputs": [
        {
          "output_type": "execute_result",
          "data": {
            "text/plain": [
              "0    0.227447\n",
              "1    0.891810\n",
              "2    0.830652\n",
              "3    0.820422\n",
              "4    0.119685\n",
              "5    0.229314\n",
              "6    0.992908\n",
              "7    0.855852\n",
              "8    0.618015\n",
              "9    0.817228\n",
              "dtype: float64"
            ]
          },
          "metadata": {},
          "execution_count": 12
        }
      ]
    },
    {
      "cell_type": "code",
      "source": [
        "df.columns"
      ],
      "metadata": {
        "colab": {
          "base_uri": "https://localhost:8080/"
        },
        "id": "4VQMKD9NvOMI",
        "outputId": "2dc2c659-f174-4181-ba13-aad2ec7c937b"
      },
      "execution_count": 13,
      "outputs": [
        {
          "output_type": "execute_result",
          "data": {
            "text/plain": [
              "Index(['x', 'y'], dtype='object')"
            ]
          },
          "metadata": {},
          "execution_count": 13
        }
      ]
    },
    {
      "cell_type": "markdown",
      "source": [
        "It's possible to create a Series or Data object from a dictionary"
      ],
      "metadata": {
        "id": "I7ox04uXwp46"
      }
    },
    {
      "cell_type": "code",
      "source": [
        "dct= dict({'x': arr[:,0], 'y': arr[:,1]})\n",
        "pd.Series(dct)"
      ],
      "metadata": {
        "colab": {
          "base_uri": "https://localhost:8080/"
        },
        "id": "revuQhdfwzsN",
        "outputId": "769cf889-1230-49c5-847b-4f43cf3cd6a8"
      },
      "execution_count": 14,
      "outputs": [
        {
          "output_type": "execute_result",
          "data": {
            "text/plain": [
              "x    [0.22744674699821488, 0.8918103869535258, 0.83...\n",
              "y    [0.14154374120030766, 0.867334895998503, 0.936...\n",
              "dtype: object"
            ]
          },
          "metadata": {},
          "execution_count": 14
        }
      ]
    },
    {
      "cell_type": "markdown",
      "source": [
        "💪 Exercise: Create 2 Series objects, one for x and one y and combine them into a pandas DataFrame\n"
      ],
      "metadata": {
        "id": "E_mFv20oWCto"
      }
    },
    {
      "cell_type": "markdown",
      "source": [
        "### Part 3. Reading and writing Data"
      ],
      "metadata": {
        "id": "G0QgUchRtcwg"
      }
    },
    {
      "cell_type": "markdown",
      "source": [
        "Pandas allows you to read and write tables into files \n",
        "\n",
        "For more information on all the read methods, see the documentation  https://pandas.pydata.org/docs/reference/io.html\n",
        "\n",
        "Pandas can read and write many types of files the most types of files in astronomy are\n",
        "*   CSV, TXT, ASCII files\n",
        "*   HDF files\n",
        "*   Excel tables\n",
        "*   XML files\n",
        "*   LATEX file\n",
        "*   SQL tables\n",
        "*   HTML files\n",
        "*  🛑 PICKLE file ---> be careful with these files\n",
        "\n",
        "\n",
        "In most cases the syntax to read files is pd.read_csv, pd.read_hdf etc..\n",
        "\n",
        "To write files, this is done directly from the dataframe e.g df.to_csv etc..\n"
      ],
      "metadata": {
        "id": "YP6kvuUaWOpM"
      }
    },
    {
      "cell_type": "markdown",
      "source": [
        "###  Part 4: Accessing cells, rows and columns in DataFrames"
      ],
      "metadata": {
        "id": "YHrKZuilx2Pk"
      }
    },
    {
      "cell_type": "markdown",
      "source": [
        "- Accessing columns"
      ],
      "metadata": {
        "id": "UWtVc2BOdkqO"
      }
    },
    {
      "cell_type": "code",
      "source": [
        "df['x']"
      ],
      "metadata": {
        "colab": {
          "base_uri": "https://localhost:8080/"
        },
        "id": "-e3ODdTIdj06",
        "outputId": "c2743665-9a78-4996-dd29-e302bbe4c245"
      },
      "execution_count": 15,
      "outputs": [
        {
          "output_type": "execute_result",
          "data": {
            "text/plain": [
              "row0    0.227447\n",
              "row1    0.891810\n",
              "row2    0.830652\n",
              "row3    0.820422\n",
              "row4    0.119685\n",
              "row5    0.229314\n",
              "row6    0.992908\n",
              "row7    0.855852\n",
              "row8    0.618015\n",
              "row9    0.817228\n",
              "Name: x, dtype: float64"
            ]
          },
          "metadata": {},
          "execution_count": 15
        }
      ]
    },
    {
      "cell_type": "markdown",
      "source": [
        "Columns are also properties of DataFrames so you can call them directly.\n"
      ],
      "metadata": {
        "id": "3K3HmcQidwaT"
      }
    },
    {
      "cell_type": "code",
      "source": [
        "df.x"
      ],
      "metadata": {
        "colab": {
          "base_uri": "https://localhost:8080/"
        },
        "id": "PY-GV7s6dzjp",
        "outputId": "88443705-07f8-4c1f-82c1-88875830a66e"
      },
      "execution_count": 16,
      "outputs": [
        {
          "output_type": "execute_result",
          "data": {
            "text/plain": [
              "row0    0.227447\n",
              "row1    0.891810\n",
              "row2    0.830652\n",
              "row3    0.820422\n",
              "row4    0.119685\n",
              "row5    0.229314\n",
              "row6    0.992908\n",
              "row7    0.855852\n",
              "row8    0.618015\n",
              "row9    0.817228\n",
              "Name: x, dtype: float64"
            ]
          },
          "metadata": {},
          "execution_count": 16
        }
      ]
    },
    {
      "cell_type": "markdown",
      "source": [
        "- Boolean indexing\n",
        "\n",
        "Pandas allows you to select specific rows by passing a boolean index\n",
        "\n",
        "For example, let's select where the x> 0.5"
      ],
      "metadata": {
        "id": "AvF-aLLJbUa-"
      }
    },
    {
      "cell_type": "code",
      "source": [
        "mask = df.x >0.5\n",
        "mask"
      ],
      "metadata": {
        "colab": {
          "base_uri": "https://localhost:8080/"
        },
        "id": "4cdurB2edOuw",
        "outputId": "51db32a8-8434-427f-e185-05b3b965cbb9"
      },
      "execution_count": 17,
      "outputs": [
        {
          "output_type": "execute_result",
          "data": {
            "text/plain": [
              "row0    False\n",
              "row1     True\n",
              "row2     True\n",
              "row3     True\n",
              "row4    False\n",
              "row5    False\n",
              "row6     True\n",
              "row7     True\n",
              "row8     True\n",
              "row9     True\n",
              "Name: x, dtype: bool"
            ]
          },
          "metadata": {},
          "execution_count": 17
        }
      ]
    },
    {
      "cell_type": "code",
      "source": [
        "df[ mask]"
      ],
      "metadata": {
        "colab": {
          "base_uri": "https://localhost:8080/",
          "height": 269
        },
        "id": "RlORHJNWeKW9",
        "outputId": "272d6cc8-b242-4bbc-97f2-8bc40cd0c8df"
      },
      "execution_count": 18,
      "outputs": [
        {
          "output_type": "execute_result",
          "data": {
            "text/plain": [
              "             x         y\n",
              "row1  0.891810  0.867335\n",
              "row2  0.830652  0.936699\n",
              "row3  0.820422  0.768812\n",
              "row6  0.992908  0.390621\n",
              "row7  0.855852  0.609037\n",
              "row8  0.618015  0.757223\n",
              "row9  0.817228  0.770641"
            ],
            "text/html": [
              "\n",
              "  <div id=\"df-e84a7c56-9ff1-46cb-bab1-221873b39ae5\">\n",
              "    <div class=\"colab-df-container\">\n",
              "      <div>\n",
              "<style scoped>\n",
              "    .dataframe tbody tr th:only-of-type {\n",
              "        vertical-align: middle;\n",
              "    }\n",
              "\n",
              "    .dataframe tbody tr th {\n",
              "        vertical-align: top;\n",
              "    }\n",
              "\n",
              "    .dataframe thead th {\n",
              "        text-align: right;\n",
              "    }\n",
              "</style>\n",
              "<table border=\"1\" class=\"dataframe\">\n",
              "  <thead>\n",
              "    <tr style=\"text-align: right;\">\n",
              "      <th></th>\n",
              "      <th>x</th>\n",
              "      <th>y</th>\n",
              "    </tr>\n",
              "  </thead>\n",
              "  <tbody>\n",
              "    <tr>\n",
              "      <th>row1</th>\n",
              "      <td>0.891810</td>\n",
              "      <td>0.867335</td>\n",
              "    </tr>\n",
              "    <tr>\n",
              "      <th>row2</th>\n",
              "      <td>0.830652</td>\n",
              "      <td>0.936699</td>\n",
              "    </tr>\n",
              "    <tr>\n",
              "      <th>row3</th>\n",
              "      <td>0.820422</td>\n",
              "      <td>0.768812</td>\n",
              "    </tr>\n",
              "    <tr>\n",
              "      <th>row6</th>\n",
              "      <td>0.992908</td>\n",
              "      <td>0.390621</td>\n",
              "    </tr>\n",
              "    <tr>\n",
              "      <th>row7</th>\n",
              "      <td>0.855852</td>\n",
              "      <td>0.609037</td>\n",
              "    </tr>\n",
              "    <tr>\n",
              "      <th>row8</th>\n",
              "      <td>0.618015</td>\n",
              "      <td>0.757223</td>\n",
              "    </tr>\n",
              "    <tr>\n",
              "      <th>row9</th>\n",
              "      <td>0.817228</td>\n",
              "      <td>0.770641</td>\n",
              "    </tr>\n",
              "  </tbody>\n",
              "</table>\n",
              "</div>\n",
              "      <button class=\"colab-df-convert\" onclick=\"convertToInteractive('df-e84a7c56-9ff1-46cb-bab1-221873b39ae5')\"\n",
              "              title=\"Convert this dataframe to an interactive table.\"\n",
              "              style=\"display:none;\">\n",
              "        \n",
              "  <svg xmlns=\"http://www.w3.org/2000/svg\" height=\"24px\"viewBox=\"0 0 24 24\"\n",
              "       width=\"24px\">\n",
              "    <path d=\"M0 0h24v24H0V0z\" fill=\"none\"/>\n",
              "    <path d=\"M18.56 5.44l.94 2.06.94-2.06 2.06-.94-2.06-.94-.94-2.06-.94 2.06-2.06.94zm-11 1L8.5 8.5l.94-2.06 2.06-.94-2.06-.94L8.5 2.5l-.94 2.06-2.06.94zm10 10l.94 2.06.94-2.06 2.06-.94-2.06-.94-.94-2.06-.94 2.06-2.06.94z\"/><path d=\"M17.41 7.96l-1.37-1.37c-.4-.4-.92-.59-1.43-.59-.52 0-1.04.2-1.43.59L10.3 9.45l-7.72 7.72c-.78.78-.78 2.05 0 2.83L4 21.41c.39.39.9.59 1.41.59.51 0 1.02-.2 1.41-.59l7.78-7.78 2.81-2.81c.8-.78.8-2.07 0-2.86zM5.41 20L4 18.59l7.72-7.72 1.47 1.35L5.41 20z\"/>\n",
              "  </svg>\n",
              "      </button>\n",
              "      \n",
              "  <style>\n",
              "    .colab-df-container {\n",
              "      display:flex;\n",
              "      flex-wrap:wrap;\n",
              "      gap: 12px;\n",
              "    }\n",
              "\n",
              "    .colab-df-convert {\n",
              "      background-color: #E8F0FE;\n",
              "      border: none;\n",
              "      border-radius: 50%;\n",
              "      cursor: pointer;\n",
              "      display: none;\n",
              "      fill: #1967D2;\n",
              "      height: 32px;\n",
              "      padding: 0 0 0 0;\n",
              "      width: 32px;\n",
              "    }\n",
              "\n",
              "    .colab-df-convert:hover {\n",
              "      background-color: #E2EBFA;\n",
              "      box-shadow: 0px 1px 2px rgba(60, 64, 67, 0.3), 0px 1px 3px 1px rgba(60, 64, 67, 0.15);\n",
              "      fill: #174EA6;\n",
              "    }\n",
              "\n",
              "    [theme=dark] .colab-df-convert {\n",
              "      background-color: #3B4455;\n",
              "      fill: #D2E3FC;\n",
              "    }\n",
              "\n",
              "    [theme=dark] .colab-df-convert:hover {\n",
              "      background-color: #434B5C;\n",
              "      box-shadow: 0px 1px 3px 1px rgba(0, 0, 0, 0.15);\n",
              "      filter: drop-shadow(0px 1px 2px rgba(0, 0, 0, 0.3));\n",
              "      fill: #FFFFFF;\n",
              "    }\n",
              "  </style>\n",
              "\n",
              "      <script>\n",
              "        const buttonEl =\n",
              "          document.querySelector('#df-e84a7c56-9ff1-46cb-bab1-221873b39ae5 button.colab-df-convert');\n",
              "        buttonEl.style.display =\n",
              "          google.colab.kernel.accessAllowed ? 'block' : 'none';\n",
              "\n",
              "        async function convertToInteractive(key) {\n",
              "          const element = document.querySelector('#df-e84a7c56-9ff1-46cb-bab1-221873b39ae5');\n",
              "          const dataTable =\n",
              "            await google.colab.kernel.invokeFunction('convertToInteractive',\n",
              "                                                     [key], {});\n",
              "          if (!dataTable) return;\n",
              "\n",
              "          const docLinkHtml = 'Like what you see? Visit the ' +\n",
              "            '<a target=\"_blank\" href=https://colab.research.google.com/notebooks/data_table.ipynb>data table notebook</a>'\n",
              "            + ' to learn more about interactive tables.';\n",
              "          element.innerHTML = '';\n",
              "          dataTable['output_type'] = 'display_data';\n",
              "          await google.colab.output.renderOutput(dataTable, element);\n",
              "          const docLink = document.createElement('div');\n",
              "          docLink.innerHTML = docLinkHtml;\n",
              "          element.appendChild(docLink);\n",
              "        }\n",
              "      </script>\n",
              "    </div>\n",
              "  </div>\n",
              "  "
            ]
          },
          "metadata": {},
          "execution_count": 18
        }
      ]
    },
    {
      "cell_type": "markdown",
      "source": [
        "- Selecting by label "
      ],
      "metadata": {
        "id": "vgcWNbaVePB2"
      }
    },
    {
      "cell_type": "code",
      "source": [
        "df.loc['row5']"
      ],
      "metadata": {
        "colab": {
          "base_uri": "https://localhost:8080/"
        },
        "id": "bWyRnd4SeYNP",
        "outputId": "36bb95d4-d218-4486-ef43-4f867969e1bc"
      },
      "execution_count": 19,
      "outputs": [
        {
          "output_type": "execute_result",
          "data": {
            "text/plain": [
              "x    0.229314\n",
              "y    0.871023\n",
              "Name: row5, dtype: float64"
            ]
          },
          "metadata": {},
          "execution_count": 19
        }
      ]
    },
    {
      "cell_type": "code",
      "source": [
        "df.loc['row5', ['x']]"
      ],
      "metadata": {
        "colab": {
          "base_uri": "https://localhost:8080/"
        },
        "id": "a8mdfazaeljs",
        "outputId": "0626fcc4-8223-487c-f786-9bd3436ef9cf"
      },
      "execution_count": 20,
      "outputs": [
        {
          "output_type": "execute_result",
          "data": {
            "text/plain": [
              "x    0.229314\n",
              "Name: row5, dtype: float64"
            ]
          },
          "metadata": {},
          "execution_count": 20
        }
      ]
    },
    {
      "cell_type": "markdown",
      "source": [
        "- Selecting by position\n"
      ],
      "metadata": {
        "id": "0c6V36cle72q"
      }
    },
    {
      "cell_type": "code",
      "source": [
        "df.iloc[0]"
      ],
      "metadata": {
        "colab": {
          "base_uri": "https://localhost:8080/"
        },
        "id": "kCEKGV48e-s-",
        "outputId": "15dc58aa-5a3b-42c8-8289-2e5251fd42a9"
      },
      "execution_count": 21,
      "outputs": [
        {
          "output_type": "execute_result",
          "data": {
            "text/plain": [
              "x    0.227447\n",
              "y    0.141544\n",
              "Name: row0, dtype: float64"
            ]
          },
          "metadata": {},
          "execution_count": 21
        }
      ]
    },
    {
      "cell_type": "code",
      "source": [
        "df.iloc[-1]"
      ],
      "metadata": {
        "colab": {
          "base_uri": "https://localhost:8080/"
        },
        "id": "ih7xrBc1fAOc",
        "outputId": "c10e183d-56a6-4802-eeb7-c3230acca511"
      },
      "execution_count": 22,
      "outputs": [
        {
          "output_type": "execute_result",
          "data": {
            "text/plain": [
              "x    0.817228\n",
              "y    0.770641\n",
              "Name: row9, dtype: float64"
            ]
          },
          "metadata": {},
          "execution_count": 22
        }
      ]
    },
    {
      "cell_type": "markdown",
      "source": [
        "- Querying\n",
        "\n",
        "This is my second favorite feature in pandas, you can write complex queries to the data \n",
        "\n",
        "For more examples see https://pandas.pydata.org/docs/reference/api/pandas.DataFrame.query.html "
      ],
      "metadata": {
        "id": "HoZqk_sxfErg"
      }
    },
    {
      "cell_type": "code",
      "source": [
        "df.query('x > 0.5 and y < 0.5')"
      ],
      "metadata": {
        "colab": {
          "base_uri": "https://localhost:8080/",
          "height": 81
        },
        "id": "7IPborfZfZTk",
        "outputId": "071fc42b-1b7a-457a-8f2a-ff3deb082a02"
      },
      "execution_count": 23,
      "outputs": [
        {
          "output_type": "execute_result",
          "data": {
            "text/plain": [
              "             x         y\n",
              "row6  0.992908  0.390621"
            ],
            "text/html": [
              "\n",
              "  <div id=\"df-ccd7b234-9946-4b08-bea2-3251de905ca0\">\n",
              "    <div class=\"colab-df-container\">\n",
              "      <div>\n",
              "<style scoped>\n",
              "    .dataframe tbody tr th:only-of-type {\n",
              "        vertical-align: middle;\n",
              "    }\n",
              "\n",
              "    .dataframe tbody tr th {\n",
              "        vertical-align: top;\n",
              "    }\n",
              "\n",
              "    .dataframe thead th {\n",
              "        text-align: right;\n",
              "    }\n",
              "</style>\n",
              "<table border=\"1\" class=\"dataframe\">\n",
              "  <thead>\n",
              "    <tr style=\"text-align: right;\">\n",
              "      <th></th>\n",
              "      <th>x</th>\n",
              "      <th>y</th>\n",
              "    </tr>\n",
              "  </thead>\n",
              "  <tbody>\n",
              "    <tr>\n",
              "      <th>row6</th>\n",
              "      <td>0.992908</td>\n",
              "      <td>0.390621</td>\n",
              "    </tr>\n",
              "  </tbody>\n",
              "</table>\n",
              "</div>\n",
              "      <button class=\"colab-df-convert\" onclick=\"convertToInteractive('df-ccd7b234-9946-4b08-bea2-3251de905ca0')\"\n",
              "              title=\"Convert this dataframe to an interactive table.\"\n",
              "              style=\"display:none;\">\n",
              "        \n",
              "  <svg xmlns=\"http://www.w3.org/2000/svg\" height=\"24px\"viewBox=\"0 0 24 24\"\n",
              "       width=\"24px\">\n",
              "    <path d=\"M0 0h24v24H0V0z\" fill=\"none\"/>\n",
              "    <path d=\"M18.56 5.44l.94 2.06.94-2.06 2.06-.94-2.06-.94-.94-2.06-.94 2.06-2.06.94zm-11 1L8.5 8.5l.94-2.06 2.06-.94-2.06-.94L8.5 2.5l-.94 2.06-2.06.94zm10 10l.94 2.06.94-2.06 2.06-.94-2.06-.94-.94-2.06-.94 2.06-2.06.94z\"/><path d=\"M17.41 7.96l-1.37-1.37c-.4-.4-.92-.59-1.43-.59-.52 0-1.04.2-1.43.59L10.3 9.45l-7.72 7.72c-.78.78-.78 2.05 0 2.83L4 21.41c.39.39.9.59 1.41.59.51 0 1.02-.2 1.41-.59l7.78-7.78 2.81-2.81c.8-.78.8-2.07 0-2.86zM5.41 20L4 18.59l7.72-7.72 1.47 1.35L5.41 20z\"/>\n",
              "  </svg>\n",
              "      </button>\n",
              "      \n",
              "  <style>\n",
              "    .colab-df-container {\n",
              "      display:flex;\n",
              "      flex-wrap:wrap;\n",
              "      gap: 12px;\n",
              "    }\n",
              "\n",
              "    .colab-df-convert {\n",
              "      background-color: #E8F0FE;\n",
              "      border: none;\n",
              "      border-radius: 50%;\n",
              "      cursor: pointer;\n",
              "      display: none;\n",
              "      fill: #1967D2;\n",
              "      height: 32px;\n",
              "      padding: 0 0 0 0;\n",
              "      width: 32px;\n",
              "    }\n",
              "\n",
              "    .colab-df-convert:hover {\n",
              "      background-color: #E2EBFA;\n",
              "      box-shadow: 0px 1px 2px rgba(60, 64, 67, 0.3), 0px 1px 3px 1px rgba(60, 64, 67, 0.15);\n",
              "      fill: #174EA6;\n",
              "    }\n",
              "\n",
              "    [theme=dark] .colab-df-convert {\n",
              "      background-color: #3B4455;\n",
              "      fill: #D2E3FC;\n",
              "    }\n",
              "\n",
              "    [theme=dark] .colab-df-convert:hover {\n",
              "      background-color: #434B5C;\n",
              "      box-shadow: 0px 1px 3px 1px rgba(0, 0, 0, 0.15);\n",
              "      filter: drop-shadow(0px 1px 2px rgba(0, 0, 0, 0.3));\n",
              "      fill: #FFFFFF;\n",
              "    }\n",
              "  </style>\n",
              "\n",
              "      <script>\n",
              "        const buttonEl =\n",
              "          document.querySelector('#df-ccd7b234-9946-4b08-bea2-3251de905ca0 button.colab-df-convert');\n",
              "        buttonEl.style.display =\n",
              "          google.colab.kernel.accessAllowed ? 'block' : 'none';\n",
              "\n",
              "        async function convertToInteractive(key) {\n",
              "          const element = document.querySelector('#df-ccd7b234-9946-4b08-bea2-3251de905ca0');\n",
              "          const dataTable =\n",
              "            await google.colab.kernel.invokeFunction('convertToInteractive',\n",
              "                                                     [key], {});\n",
              "          if (!dataTable) return;\n",
              "\n",
              "          const docLinkHtml = 'Like what you see? Visit the ' +\n",
              "            '<a target=\"_blank\" href=https://colab.research.google.com/notebooks/data_table.ipynb>data table notebook</a>'\n",
              "            + ' to learn more about interactive tables.';\n",
              "          element.innerHTML = '';\n",
              "          dataTable['output_type'] = 'display_data';\n",
              "          await google.colab.output.renderOutput(dataTable, element);\n",
              "          const docLink = document.createElement('div');\n",
              "          docLink.innerHTML = docLinkHtml;\n",
              "          element.appendChild(docLink);\n",
              "        }\n",
              "      </script>\n",
              "    </div>\n",
              "  </div>\n",
              "  "
            ]
          },
          "metadata": {},
          "execution_count": 23
        }
      ]
    },
    {
      "cell_type": "markdown",
      "source": [
        "💪 Exercise: select rows where x and y values are both between 0.1 and 0.7"
      ],
      "metadata": {
        "id": "Ua88uWGkrPd2"
      }
    },
    {
      "cell_type": "markdown",
      "source": [
        "### Part 5. Sorting Data"
      ],
      "metadata": {
        "id": "B-x5SuaQU62b"
      }
    },
    {
      "cell_type": "markdown",
      "source": [
        "Pandas has implemented sorting"
      ],
      "metadata": {
        "id": "VaZr5k56fq0i"
      }
    },
    {
      "cell_type": "code",
      "source": [
        "df.sort_values(by='x')"
      ],
      "metadata": {
        "colab": {
          "base_uri": "https://localhost:8080/",
          "height": 363
        },
        "id": "ikqWuzPcfzHT",
        "outputId": "71b56552-c8b7-45c3-d11c-97ec7a3ca6d9"
      },
      "execution_count": 24,
      "outputs": [
        {
          "output_type": "execute_result",
          "data": {
            "text/plain": [
              "             x         y\n",
              "row4  0.119685  0.106977\n",
              "row0  0.227447  0.141544\n",
              "row5  0.229314  0.871023\n",
              "row8  0.618015  0.757223\n",
              "row9  0.817228  0.770641\n",
              "row3  0.820422  0.768812\n",
              "row2  0.830652  0.936699\n",
              "row7  0.855852  0.609037\n",
              "row1  0.891810  0.867335\n",
              "row6  0.992908  0.390621"
            ],
            "text/html": [
              "\n",
              "  <div id=\"df-efe4bda2-4a2d-42cf-b2b8-8175cb12cf53\">\n",
              "    <div class=\"colab-df-container\">\n",
              "      <div>\n",
              "<style scoped>\n",
              "    .dataframe tbody tr th:only-of-type {\n",
              "        vertical-align: middle;\n",
              "    }\n",
              "\n",
              "    .dataframe tbody tr th {\n",
              "        vertical-align: top;\n",
              "    }\n",
              "\n",
              "    .dataframe thead th {\n",
              "        text-align: right;\n",
              "    }\n",
              "</style>\n",
              "<table border=\"1\" class=\"dataframe\">\n",
              "  <thead>\n",
              "    <tr style=\"text-align: right;\">\n",
              "      <th></th>\n",
              "      <th>x</th>\n",
              "      <th>y</th>\n",
              "    </tr>\n",
              "  </thead>\n",
              "  <tbody>\n",
              "    <tr>\n",
              "      <th>row4</th>\n",
              "      <td>0.119685</td>\n",
              "      <td>0.106977</td>\n",
              "    </tr>\n",
              "    <tr>\n",
              "      <th>row0</th>\n",
              "      <td>0.227447</td>\n",
              "      <td>0.141544</td>\n",
              "    </tr>\n",
              "    <tr>\n",
              "      <th>row5</th>\n",
              "      <td>0.229314</td>\n",
              "      <td>0.871023</td>\n",
              "    </tr>\n",
              "    <tr>\n",
              "      <th>row8</th>\n",
              "      <td>0.618015</td>\n",
              "      <td>0.757223</td>\n",
              "    </tr>\n",
              "    <tr>\n",
              "      <th>row9</th>\n",
              "      <td>0.817228</td>\n",
              "      <td>0.770641</td>\n",
              "    </tr>\n",
              "    <tr>\n",
              "      <th>row3</th>\n",
              "      <td>0.820422</td>\n",
              "      <td>0.768812</td>\n",
              "    </tr>\n",
              "    <tr>\n",
              "      <th>row2</th>\n",
              "      <td>0.830652</td>\n",
              "      <td>0.936699</td>\n",
              "    </tr>\n",
              "    <tr>\n",
              "      <th>row7</th>\n",
              "      <td>0.855852</td>\n",
              "      <td>0.609037</td>\n",
              "    </tr>\n",
              "    <tr>\n",
              "      <th>row1</th>\n",
              "      <td>0.891810</td>\n",
              "      <td>0.867335</td>\n",
              "    </tr>\n",
              "    <tr>\n",
              "      <th>row6</th>\n",
              "      <td>0.992908</td>\n",
              "      <td>0.390621</td>\n",
              "    </tr>\n",
              "  </tbody>\n",
              "</table>\n",
              "</div>\n",
              "      <button class=\"colab-df-convert\" onclick=\"convertToInteractive('df-efe4bda2-4a2d-42cf-b2b8-8175cb12cf53')\"\n",
              "              title=\"Convert this dataframe to an interactive table.\"\n",
              "              style=\"display:none;\">\n",
              "        \n",
              "  <svg xmlns=\"http://www.w3.org/2000/svg\" height=\"24px\"viewBox=\"0 0 24 24\"\n",
              "       width=\"24px\">\n",
              "    <path d=\"M0 0h24v24H0V0z\" fill=\"none\"/>\n",
              "    <path d=\"M18.56 5.44l.94 2.06.94-2.06 2.06-.94-2.06-.94-.94-2.06-.94 2.06-2.06.94zm-11 1L8.5 8.5l.94-2.06 2.06-.94-2.06-.94L8.5 2.5l-.94 2.06-2.06.94zm10 10l.94 2.06.94-2.06 2.06-.94-2.06-.94-.94-2.06-.94 2.06-2.06.94z\"/><path d=\"M17.41 7.96l-1.37-1.37c-.4-.4-.92-.59-1.43-.59-.52 0-1.04.2-1.43.59L10.3 9.45l-7.72 7.72c-.78.78-.78 2.05 0 2.83L4 21.41c.39.39.9.59 1.41.59.51 0 1.02-.2 1.41-.59l7.78-7.78 2.81-2.81c.8-.78.8-2.07 0-2.86zM5.41 20L4 18.59l7.72-7.72 1.47 1.35L5.41 20z\"/>\n",
              "  </svg>\n",
              "      </button>\n",
              "      \n",
              "  <style>\n",
              "    .colab-df-container {\n",
              "      display:flex;\n",
              "      flex-wrap:wrap;\n",
              "      gap: 12px;\n",
              "    }\n",
              "\n",
              "    .colab-df-convert {\n",
              "      background-color: #E8F0FE;\n",
              "      border: none;\n",
              "      border-radius: 50%;\n",
              "      cursor: pointer;\n",
              "      display: none;\n",
              "      fill: #1967D2;\n",
              "      height: 32px;\n",
              "      padding: 0 0 0 0;\n",
              "      width: 32px;\n",
              "    }\n",
              "\n",
              "    .colab-df-convert:hover {\n",
              "      background-color: #E2EBFA;\n",
              "      box-shadow: 0px 1px 2px rgba(60, 64, 67, 0.3), 0px 1px 3px 1px rgba(60, 64, 67, 0.15);\n",
              "      fill: #174EA6;\n",
              "    }\n",
              "\n",
              "    [theme=dark] .colab-df-convert {\n",
              "      background-color: #3B4455;\n",
              "      fill: #D2E3FC;\n",
              "    }\n",
              "\n",
              "    [theme=dark] .colab-df-convert:hover {\n",
              "      background-color: #434B5C;\n",
              "      box-shadow: 0px 1px 3px 1px rgba(0, 0, 0, 0.15);\n",
              "      filter: drop-shadow(0px 1px 2px rgba(0, 0, 0, 0.3));\n",
              "      fill: #FFFFFF;\n",
              "    }\n",
              "  </style>\n",
              "\n",
              "      <script>\n",
              "        const buttonEl =\n",
              "          document.querySelector('#df-efe4bda2-4a2d-42cf-b2b8-8175cb12cf53 button.colab-df-convert');\n",
              "        buttonEl.style.display =\n",
              "          google.colab.kernel.accessAllowed ? 'block' : 'none';\n",
              "\n",
              "        async function convertToInteractive(key) {\n",
              "          const element = document.querySelector('#df-efe4bda2-4a2d-42cf-b2b8-8175cb12cf53');\n",
              "          const dataTable =\n",
              "            await google.colab.kernel.invokeFunction('convertToInteractive',\n",
              "                                                     [key], {});\n",
              "          if (!dataTable) return;\n",
              "\n",
              "          const docLinkHtml = 'Like what you see? Visit the ' +\n",
              "            '<a target=\"_blank\" href=https://colab.research.google.com/notebooks/data_table.ipynb>data table notebook</a>'\n",
              "            + ' to learn more about interactive tables.';\n",
              "          element.innerHTML = '';\n",
              "          dataTable['output_type'] = 'display_data';\n",
              "          await google.colab.output.renderOutput(dataTable, element);\n",
              "          const docLink = document.createElement('div');\n",
              "          docLink.innerHTML = docLinkHtml;\n",
              "          element.appendChild(docLink);\n",
              "        }\n",
              "      </script>\n",
              "    </div>\n",
              "  </div>\n",
              "  "
            ]
          },
          "metadata": {},
          "execution_count": 24
        }
      ]
    },
    {
      "cell_type": "markdown",
      "source": [
        "You can also sort by row or column"
      ],
      "metadata": {
        "id": "YfTfPd-VgjWg"
      }
    },
    {
      "cell_type": "code",
      "source": [
        "df.sort_index(axis=0) #0 for index and 1 for colunns"
      ],
      "metadata": {
        "colab": {
          "base_uri": "https://localhost:8080/",
          "height": 363
        },
        "id": "SioqYG98gicl",
        "outputId": "eea06e88-6ea0-473f-e7f6-5d50c3d1799f"
      },
      "execution_count": 25,
      "outputs": [
        {
          "output_type": "execute_result",
          "data": {
            "text/plain": [
              "             x         y\n",
              "row0  0.227447  0.141544\n",
              "row1  0.891810  0.867335\n",
              "row2  0.830652  0.936699\n",
              "row3  0.820422  0.768812\n",
              "row4  0.119685  0.106977\n",
              "row5  0.229314  0.871023\n",
              "row6  0.992908  0.390621\n",
              "row7  0.855852  0.609037\n",
              "row8  0.618015  0.757223\n",
              "row9  0.817228  0.770641"
            ],
            "text/html": [
              "\n",
              "  <div id=\"df-68f1a813-4c09-4111-ad39-389fbb1b9503\">\n",
              "    <div class=\"colab-df-container\">\n",
              "      <div>\n",
              "<style scoped>\n",
              "    .dataframe tbody tr th:only-of-type {\n",
              "        vertical-align: middle;\n",
              "    }\n",
              "\n",
              "    .dataframe tbody tr th {\n",
              "        vertical-align: top;\n",
              "    }\n",
              "\n",
              "    .dataframe thead th {\n",
              "        text-align: right;\n",
              "    }\n",
              "</style>\n",
              "<table border=\"1\" class=\"dataframe\">\n",
              "  <thead>\n",
              "    <tr style=\"text-align: right;\">\n",
              "      <th></th>\n",
              "      <th>x</th>\n",
              "      <th>y</th>\n",
              "    </tr>\n",
              "  </thead>\n",
              "  <tbody>\n",
              "    <tr>\n",
              "      <th>row0</th>\n",
              "      <td>0.227447</td>\n",
              "      <td>0.141544</td>\n",
              "    </tr>\n",
              "    <tr>\n",
              "      <th>row1</th>\n",
              "      <td>0.891810</td>\n",
              "      <td>0.867335</td>\n",
              "    </tr>\n",
              "    <tr>\n",
              "      <th>row2</th>\n",
              "      <td>0.830652</td>\n",
              "      <td>0.936699</td>\n",
              "    </tr>\n",
              "    <tr>\n",
              "      <th>row3</th>\n",
              "      <td>0.820422</td>\n",
              "      <td>0.768812</td>\n",
              "    </tr>\n",
              "    <tr>\n",
              "      <th>row4</th>\n",
              "      <td>0.119685</td>\n",
              "      <td>0.106977</td>\n",
              "    </tr>\n",
              "    <tr>\n",
              "      <th>row5</th>\n",
              "      <td>0.229314</td>\n",
              "      <td>0.871023</td>\n",
              "    </tr>\n",
              "    <tr>\n",
              "      <th>row6</th>\n",
              "      <td>0.992908</td>\n",
              "      <td>0.390621</td>\n",
              "    </tr>\n",
              "    <tr>\n",
              "      <th>row7</th>\n",
              "      <td>0.855852</td>\n",
              "      <td>0.609037</td>\n",
              "    </tr>\n",
              "    <tr>\n",
              "      <th>row8</th>\n",
              "      <td>0.618015</td>\n",
              "      <td>0.757223</td>\n",
              "    </tr>\n",
              "    <tr>\n",
              "      <th>row9</th>\n",
              "      <td>0.817228</td>\n",
              "      <td>0.770641</td>\n",
              "    </tr>\n",
              "  </tbody>\n",
              "</table>\n",
              "</div>\n",
              "      <button class=\"colab-df-convert\" onclick=\"convertToInteractive('df-68f1a813-4c09-4111-ad39-389fbb1b9503')\"\n",
              "              title=\"Convert this dataframe to an interactive table.\"\n",
              "              style=\"display:none;\">\n",
              "        \n",
              "  <svg xmlns=\"http://www.w3.org/2000/svg\" height=\"24px\"viewBox=\"0 0 24 24\"\n",
              "       width=\"24px\">\n",
              "    <path d=\"M0 0h24v24H0V0z\" fill=\"none\"/>\n",
              "    <path d=\"M18.56 5.44l.94 2.06.94-2.06 2.06-.94-2.06-.94-.94-2.06-.94 2.06-2.06.94zm-11 1L8.5 8.5l.94-2.06 2.06-.94-2.06-.94L8.5 2.5l-.94 2.06-2.06.94zm10 10l.94 2.06.94-2.06 2.06-.94-2.06-.94-.94-2.06-.94 2.06-2.06.94z\"/><path d=\"M17.41 7.96l-1.37-1.37c-.4-.4-.92-.59-1.43-.59-.52 0-1.04.2-1.43.59L10.3 9.45l-7.72 7.72c-.78.78-.78 2.05 0 2.83L4 21.41c.39.39.9.59 1.41.59.51 0 1.02-.2 1.41-.59l7.78-7.78 2.81-2.81c.8-.78.8-2.07 0-2.86zM5.41 20L4 18.59l7.72-7.72 1.47 1.35L5.41 20z\"/>\n",
              "  </svg>\n",
              "      </button>\n",
              "      \n",
              "  <style>\n",
              "    .colab-df-container {\n",
              "      display:flex;\n",
              "      flex-wrap:wrap;\n",
              "      gap: 12px;\n",
              "    }\n",
              "\n",
              "    .colab-df-convert {\n",
              "      background-color: #E8F0FE;\n",
              "      border: none;\n",
              "      border-radius: 50%;\n",
              "      cursor: pointer;\n",
              "      display: none;\n",
              "      fill: #1967D2;\n",
              "      height: 32px;\n",
              "      padding: 0 0 0 0;\n",
              "      width: 32px;\n",
              "    }\n",
              "\n",
              "    .colab-df-convert:hover {\n",
              "      background-color: #E2EBFA;\n",
              "      box-shadow: 0px 1px 2px rgba(60, 64, 67, 0.3), 0px 1px 3px 1px rgba(60, 64, 67, 0.15);\n",
              "      fill: #174EA6;\n",
              "    }\n",
              "\n",
              "    [theme=dark] .colab-df-convert {\n",
              "      background-color: #3B4455;\n",
              "      fill: #D2E3FC;\n",
              "    }\n",
              "\n",
              "    [theme=dark] .colab-df-convert:hover {\n",
              "      background-color: #434B5C;\n",
              "      box-shadow: 0px 1px 3px 1px rgba(0, 0, 0, 0.15);\n",
              "      filter: drop-shadow(0px 1px 2px rgba(0, 0, 0, 0.3));\n",
              "      fill: #FFFFFF;\n",
              "    }\n",
              "  </style>\n",
              "\n",
              "      <script>\n",
              "        const buttonEl =\n",
              "          document.querySelector('#df-68f1a813-4c09-4111-ad39-389fbb1b9503 button.colab-df-convert');\n",
              "        buttonEl.style.display =\n",
              "          google.colab.kernel.accessAllowed ? 'block' : 'none';\n",
              "\n",
              "        async function convertToInteractive(key) {\n",
              "          const element = document.querySelector('#df-68f1a813-4c09-4111-ad39-389fbb1b9503');\n",
              "          const dataTable =\n",
              "            await google.colab.kernel.invokeFunction('convertToInteractive',\n",
              "                                                     [key], {});\n",
              "          if (!dataTable) return;\n",
              "\n",
              "          const docLinkHtml = 'Like what you see? Visit the ' +\n",
              "            '<a target=\"_blank\" href=https://colab.research.google.com/notebooks/data_table.ipynb>data table notebook</a>'\n",
              "            + ' to learn more about interactive tables.';\n",
              "          element.innerHTML = '';\n",
              "          dataTable['output_type'] = 'display_data';\n",
              "          await google.colab.output.renderOutput(dataTable, element);\n",
              "          const docLink = document.createElement('div');\n",
              "          docLink.innerHTML = docLinkHtml;\n",
              "          element.appendChild(docLink);\n",
              "        }\n",
              "      </script>\n",
              "    </div>\n",
              "  </div>\n",
              "  "
            ]
          },
          "metadata": {},
          "execution_count": 25
        }
      ]
    },
    {
      "cell_type": "code",
      "source": [
        "df.sort_index(axis=1) #0 for index and 1 for colunns"
      ],
      "metadata": {
        "colab": {
          "base_uri": "https://localhost:8080/",
          "height": 363
        },
        "id": "qXzs_XgIg3xT",
        "outputId": "03e08f78-a99a-4917-970a-455dc4b02286"
      },
      "execution_count": 26,
      "outputs": [
        {
          "output_type": "execute_result",
          "data": {
            "text/plain": [
              "             x         y\n",
              "row0  0.227447  0.141544\n",
              "row1  0.891810  0.867335\n",
              "row2  0.830652  0.936699\n",
              "row3  0.820422  0.768812\n",
              "row4  0.119685  0.106977\n",
              "row5  0.229314  0.871023\n",
              "row6  0.992908  0.390621\n",
              "row7  0.855852  0.609037\n",
              "row8  0.618015  0.757223\n",
              "row9  0.817228  0.770641"
            ],
            "text/html": [
              "\n",
              "  <div id=\"df-eadedc4e-b294-465d-9ccc-ad1f60ee2c84\">\n",
              "    <div class=\"colab-df-container\">\n",
              "      <div>\n",
              "<style scoped>\n",
              "    .dataframe tbody tr th:only-of-type {\n",
              "        vertical-align: middle;\n",
              "    }\n",
              "\n",
              "    .dataframe tbody tr th {\n",
              "        vertical-align: top;\n",
              "    }\n",
              "\n",
              "    .dataframe thead th {\n",
              "        text-align: right;\n",
              "    }\n",
              "</style>\n",
              "<table border=\"1\" class=\"dataframe\">\n",
              "  <thead>\n",
              "    <tr style=\"text-align: right;\">\n",
              "      <th></th>\n",
              "      <th>x</th>\n",
              "      <th>y</th>\n",
              "    </tr>\n",
              "  </thead>\n",
              "  <tbody>\n",
              "    <tr>\n",
              "      <th>row0</th>\n",
              "      <td>0.227447</td>\n",
              "      <td>0.141544</td>\n",
              "    </tr>\n",
              "    <tr>\n",
              "      <th>row1</th>\n",
              "      <td>0.891810</td>\n",
              "      <td>0.867335</td>\n",
              "    </tr>\n",
              "    <tr>\n",
              "      <th>row2</th>\n",
              "      <td>0.830652</td>\n",
              "      <td>0.936699</td>\n",
              "    </tr>\n",
              "    <tr>\n",
              "      <th>row3</th>\n",
              "      <td>0.820422</td>\n",
              "      <td>0.768812</td>\n",
              "    </tr>\n",
              "    <tr>\n",
              "      <th>row4</th>\n",
              "      <td>0.119685</td>\n",
              "      <td>0.106977</td>\n",
              "    </tr>\n",
              "    <tr>\n",
              "      <th>row5</th>\n",
              "      <td>0.229314</td>\n",
              "      <td>0.871023</td>\n",
              "    </tr>\n",
              "    <tr>\n",
              "      <th>row6</th>\n",
              "      <td>0.992908</td>\n",
              "      <td>0.390621</td>\n",
              "    </tr>\n",
              "    <tr>\n",
              "      <th>row7</th>\n",
              "      <td>0.855852</td>\n",
              "      <td>0.609037</td>\n",
              "    </tr>\n",
              "    <tr>\n",
              "      <th>row8</th>\n",
              "      <td>0.618015</td>\n",
              "      <td>0.757223</td>\n",
              "    </tr>\n",
              "    <tr>\n",
              "      <th>row9</th>\n",
              "      <td>0.817228</td>\n",
              "      <td>0.770641</td>\n",
              "    </tr>\n",
              "  </tbody>\n",
              "</table>\n",
              "</div>\n",
              "      <button class=\"colab-df-convert\" onclick=\"convertToInteractive('df-eadedc4e-b294-465d-9ccc-ad1f60ee2c84')\"\n",
              "              title=\"Convert this dataframe to an interactive table.\"\n",
              "              style=\"display:none;\">\n",
              "        \n",
              "  <svg xmlns=\"http://www.w3.org/2000/svg\" height=\"24px\"viewBox=\"0 0 24 24\"\n",
              "       width=\"24px\">\n",
              "    <path d=\"M0 0h24v24H0V0z\" fill=\"none\"/>\n",
              "    <path d=\"M18.56 5.44l.94 2.06.94-2.06 2.06-.94-2.06-.94-.94-2.06-.94 2.06-2.06.94zm-11 1L8.5 8.5l.94-2.06 2.06-.94-2.06-.94L8.5 2.5l-.94 2.06-2.06.94zm10 10l.94 2.06.94-2.06 2.06-.94-2.06-.94-.94-2.06-.94 2.06-2.06.94z\"/><path d=\"M17.41 7.96l-1.37-1.37c-.4-.4-.92-.59-1.43-.59-.52 0-1.04.2-1.43.59L10.3 9.45l-7.72 7.72c-.78.78-.78 2.05 0 2.83L4 21.41c.39.39.9.59 1.41.59.51 0 1.02-.2 1.41-.59l7.78-7.78 2.81-2.81c.8-.78.8-2.07 0-2.86zM5.41 20L4 18.59l7.72-7.72 1.47 1.35L5.41 20z\"/>\n",
              "  </svg>\n",
              "      </button>\n",
              "      \n",
              "  <style>\n",
              "    .colab-df-container {\n",
              "      display:flex;\n",
              "      flex-wrap:wrap;\n",
              "      gap: 12px;\n",
              "    }\n",
              "\n",
              "    .colab-df-convert {\n",
              "      background-color: #E8F0FE;\n",
              "      border: none;\n",
              "      border-radius: 50%;\n",
              "      cursor: pointer;\n",
              "      display: none;\n",
              "      fill: #1967D2;\n",
              "      height: 32px;\n",
              "      padding: 0 0 0 0;\n",
              "      width: 32px;\n",
              "    }\n",
              "\n",
              "    .colab-df-convert:hover {\n",
              "      background-color: #E2EBFA;\n",
              "      box-shadow: 0px 1px 2px rgba(60, 64, 67, 0.3), 0px 1px 3px 1px rgba(60, 64, 67, 0.15);\n",
              "      fill: #174EA6;\n",
              "    }\n",
              "\n",
              "    [theme=dark] .colab-df-convert {\n",
              "      background-color: #3B4455;\n",
              "      fill: #D2E3FC;\n",
              "    }\n",
              "\n",
              "    [theme=dark] .colab-df-convert:hover {\n",
              "      background-color: #434B5C;\n",
              "      box-shadow: 0px 1px 3px 1px rgba(0, 0, 0, 0.15);\n",
              "      filter: drop-shadow(0px 1px 2px rgba(0, 0, 0, 0.3));\n",
              "      fill: #FFFFFF;\n",
              "    }\n",
              "  </style>\n",
              "\n",
              "      <script>\n",
              "        const buttonEl =\n",
              "          document.querySelector('#df-eadedc4e-b294-465d-9ccc-ad1f60ee2c84 button.colab-df-convert');\n",
              "        buttonEl.style.display =\n",
              "          google.colab.kernel.accessAllowed ? 'block' : 'none';\n",
              "\n",
              "        async function convertToInteractive(key) {\n",
              "          const element = document.querySelector('#df-eadedc4e-b294-465d-9ccc-ad1f60ee2c84');\n",
              "          const dataTable =\n",
              "            await google.colab.kernel.invokeFunction('convertToInteractive',\n",
              "                                                     [key], {});\n",
              "          if (!dataTable) return;\n",
              "\n",
              "          const docLinkHtml = 'Like what you see? Visit the ' +\n",
              "            '<a target=\"_blank\" href=https://colab.research.google.com/notebooks/data_table.ipynb>data table notebook</a>'\n",
              "            + ' to learn more about interactive tables.';\n",
              "          element.innerHTML = '';\n",
              "          dataTable['output_type'] = 'display_data';\n",
              "          await google.colab.output.renderOutput(dataTable, element);\n",
              "          const docLink = document.createElement('div');\n",
              "          docLink.innerHTML = docLinkHtml;\n",
              "          element.appendChild(docLink);\n",
              "        }\n",
              "      </script>\n",
              "    </div>\n",
              "  </div>\n",
              "  "
            ]
          },
          "metadata": {},
          "execution_count": 26
        }
      ]
    },
    {
      "cell_type": "markdown",
      "source": [
        "## Part 6: Combining DataFrames"
      ],
      "metadata": {
        "id": "2lYMi_fjtirw"
      }
    },
    {
      "cell_type": "markdown",
      "source": [
        "There are mutiple ways to combine various dataframes\n",
        "\n",
        "- Concat: horizontal combines dataframes "
      ],
      "metadata": {
        "id": "hevrjvhYhB2Z"
      }
    },
    {
      "cell_type": "code",
      "source": [
        "#let's create another random dataframe\n",
        "\n",
        "df2=pd.DataFrame()\n",
        "\n",
        "df2['x']=np.random.uniform(0, 1, 20)\n",
        "df2['y']= np.random.uniform(0, 1, 20)\n",
        "df2.index=['row'+str(i) for i in range(len(df2))]\n",
        "dfc= pd.concat([df, df2])\n",
        "dfc"
      ],
      "metadata": {
        "colab": {
          "base_uri": "https://localhost:8080/",
          "height": 0
        },
        "id": "5R3JiE-yhBUj",
        "outputId": "f865376c-d5ea-4a73-c3d1-26dd07c9a8b4"
      },
      "execution_count": 27,
      "outputs": [
        {
          "output_type": "execute_result",
          "data": {
            "text/plain": [
              "              x         y\n",
              "row0   0.227447  0.141544\n",
              "row1   0.891810  0.867335\n",
              "row2   0.830652  0.936699\n",
              "row3   0.820422  0.768812\n",
              "row4   0.119685  0.106977\n",
              "row5   0.229314  0.871023\n",
              "row6   0.992908  0.390621\n",
              "row7   0.855852  0.609037\n",
              "row8   0.618015  0.757223\n",
              "row9   0.817228  0.770641\n",
              "row0   0.581730  0.158856\n",
              "row1   0.333166  0.297551\n",
              "row2   0.409063  0.790742\n",
              "row3   0.468270  0.784751\n",
              "row4   0.228762  0.028733\n",
              "row5   0.099337  0.399319\n",
              "row6   0.714478  0.309347\n",
              "row7   0.690281  0.264192\n",
              "row8   0.801684  0.108614\n",
              "row9   0.738363  0.550745\n",
              "row10  0.575041  0.007570\n",
              "row11  0.592014  0.378881\n",
              "row12  0.489877  0.168311\n",
              "row13  0.857700  0.762117\n",
              "row14  0.863432  0.389072\n",
              "row15  0.600589  0.279521\n",
              "row16  0.536062  0.999133\n",
              "row17  0.573818  0.845488\n",
              "row18  0.560521  0.343048\n",
              "row19  0.672136  0.736330"
            ],
            "text/html": [
              "\n",
              "  <div id=\"df-b9dbe28b-89c4-4994-b64d-06cbeb920638\">\n",
              "    <div class=\"colab-df-container\">\n",
              "      <div>\n",
              "<style scoped>\n",
              "    .dataframe tbody tr th:only-of-type {\n",
              "        vertical-align: middle;\n",
              "    }\n",
              "\n",
              "    .dataframe tbody tr th {\n",
              "        vertical-align: top;\n",
              "    }\n",
              "\n",
              "    .dataframe thead th {\n",
              "        text-align: right;\n",
              "    }\n",
              "</style>\n",
              "<table border=\"1\" class=\"dataframe\">\n",
              "  <thead>\n",
              "    <tr style=\"text-align: right;\">\n",
              "      <th></th>\n",
              "      <th>x</th>\n",
              "      <th>y</th>\n",
              "    </tr>\n",
              "  </thead>\n",
              "  <tbody>\n",
              "    <tr>\n",
              "      <th>row0</th>\n",
              "      <td>0.227447</td>\n",
              "      <td>0.141544</td>\n",
              "    </tr>\n",
              "    <tr>\n",
              "      <th>row1</th>\n",
              "      <td>0.891810</td>\n",
              "      <td>0.867335</td>\n",
              "    </tr>\n",
              "    <tr>\n",
              "      <th>row2</th>\n",
              "      <td>0.830652</td>\n",
              "      <td>0.936699</td>\n",
              "    </tr>\n",
              "    <tr>\n",
              "      <th>row3</th>\n",
              "      <td>0.820422</td>\n",
              "      <td>0.768812</td>\n",
              "    </tr>\n",
              "    <tr>\n",
              "      <th>row4</th>\n",
              "      <td>0.119685</td>\n",
              "      <td>0.106977</td>\n",
              "    </tr>\n",
              "    <tr>\n",
              "      <th>row5</th>\n",
              "      <td>0.229314</td>\n",
              "      <td>0.871023</td>\n",
              "    </tr>\n",
              "    <tr>\n",
              "      <th>row6</th>\n",
              "      <td>0.992908</td>\n",
              "      <td>0.390621</td>\n",
              "    </tr>\n",
              "    <tr>\n",
              "      <th>row7</th>\n",
              "      <td>0.855852</td>\n",
              "      <td>0.609037</td>\n",
              "    </tr>\n",
              "    <tr>\n",
              "      <th>row8</th>\n",
              "      <td>0.618015</td>\n",
              "      <td>0.757223</td>\n",
              "    </tr>\n",
              "    <tr>\n",
              "      <th>row9</th>\n",
              "      <td>0.817228</td>\n",
              "      <td>0.770641</td>\n",
              "    </tr>\n",
              "    <tr>\n",
              "      <th>row0</th>\n",
              "      <td>0.581730</td>\n",
              "      <td>0.158856</td>\n",
              "    </tr>\n",
              "    <tr>\n",
              "      <th>row1</th>\n",
              "      <td>0.333166</td>\n",
              "      <td>0.297551</td>\n",
              "    </tr>\n",
              "    <tr>\n",
              "      <th>row2</th>\n",
              "      <td>0.409063</td>\n",
              "      <td>0.790742</td>\n",
              "    </tr>\n",
              "    <tr>\n",
              "      <th>row3</th>\n",
              "      <td>0.468270</td>\n",
              "      <td>0.784751</td>\n",
              "    </tr>\n",
              "    <tr>\n",
              "      <th>row4</th>\n",
              "      <td>0.228762</td>\n",
              "      <td>0.028733</td>\n",
              "    </tr>\n",
              "    <tr>\n",
              "      <th>row5</th>\n",
              "      <td>0.099337</td>\n",
              "      <td>0.399319</td>\n",
              "    </tr>\n",
              "    <tr>\n",
              "      <th>row6</th>\n",
              "      <td>0.714478</td>\n",
              "      <td>0.309347</td>\n",
              "    </tr>\n",
              "    <tr>\n",
              "      <th>row7</th>\n",
              "      <td>0.690281</td>\n",
              "      <td>0.264192</td>\n",
              "    </tr>\n",
              "    <tr>\n",
              "      <th>row8</th>\n",
              "      <td>0.801684</td>\n",
              "      <td>0.108614</td>\n",
              "    </tr>\n",
              "    <tr>\n",
              "      <th>row9</th>\n",
              "      <td>0.738363</td>\n",
              "      <td>0.550745</td>\n",
              "    </tr>\n",
              "    <tr>\n",
              "      <th>row10</th>\n",
              "      <td>0.575041</td>\n",
              "      <td>0.007570</td>\n",
              "    </tr>\n",
              "    <tr>\n",
              "      <th>row11</th>\n",
              "      <td>0.592014</td>\n",
              "      <td>0.378881</td>\n",
              "    </tr>\n",
              "    <tr>\n",
              "      <th>row12</th>\n",
              "      <td>0.489877</td>\n",
              "      <td>0.168311</td>\n",
              "    </tr>\n",
              "    <tr>\n",
              "      <th>row13</th>\n",
              "      <td>0.857700</td>\n",
              "      <td>0.762117</td>\n",
              "    </tr>\n",
              "    <tr>\n",
              "      <th>row14</th>\n",
              "      <td>0.863432</td>\n",
              "      <td>0.389072</td>\n",
              "    </tr>\n",
              "    <tr>\n",
              "      <th>row15</th>\n",
              "      <td>0.600589</td>\n",
              "      <td>0.279521</td>\n",
              "    </tr>\n",
              "    <tr>\n",
              "      <th>row16</th>\n",
              "      <td>0.536062</td>\n",
              "      <td>0.999133</td>\n",
              "    </tr>\n",
              "    <tr>\n",
              "      <th>row17</th>\n",
              "      <td>0.573818</td>\n",
              "      <td>0.845488</td>\n",
              "    </tr>\n",
              "    <tr>\n",
              "      <th>row18</th>\n",
              "      <td>0.560521</td>\n",
              "      <td>0.343048</td>\n",
              "    </tr>\n",
              "    <tr>\n",
              "      <th>row19</th>\n",
              "      <td>0.672136</td>\n",
              "      <td>0.736330</td>\n",
              "    </tr>\n",
              "  </tbody>\n",
              "</table>\n",
              "</div>\n",
              "      <button class=\"colab-df-convert\" onclick=\"convertToInteractive('df-b9dbe28b-89c4-4994-b64d-06cbeb920638')\"\n",
              "              title=\"Convert this dataframe to an interactive table.\"\n",
              "              style=\"display:none;\">\n",
              "        \n",
              "  <svg xmlns=\"http://www.w3.org/2000/svg\" height=\"24px\"viewBox=\"0 0 24 24\"\n",
              "       width=\"24px\">\n",
              "    <path d=\"M0 0h24v24H0V0z\" fill=\"none\"/>\n",
              "    <path d=\"M18.56 5.44l.94 2.06.94-2.06 2.06-.94-2.06-.94-.94-2.06-.94 2.06-2.06.94zm-11 1L8.5 8.5l.94-2.06 2.06-.94-2.06-.94L8.5 2.5l-.94 2.06-2.06.94zm10 10l.94 2.06.94-2.06 2.06-.94-2.06-.94-.94-2.06-.94 2.06-2.06.94z\"/><path d=\"M17.41 7.96l-1.37-1.37c-.4-.4-.92-.59-1.43-.59-.52 0-1.04.2-1.43.59L10.3 9.45l-7.72 7.72c-.78.78-.78 2.05 0 2.83L4 21.41c.39.39.9.59 1.41.59.51 0 1.02-.2 1.41-.59l7.78-7.78 2.81-2.81c.8-.78.8-2.07 0-2.86zM5.41 20L4 18.59l7.72-7.72 1.47 1.35L5.41 20z\"/>\n",
              "  </svg>\n",
              "      </button>\n",
              "      \n",
              "  <style>\n",
              "    .colab-df-container {\n",
              "      display:flex;\n",
              "      flex-wrap:wrap;\n",
              "      gap: 12px;\n",
              "    }\n",
              "\n",
              "    .colab-df-convert {\n",
              "      background-color: #E8F0FE;\n",
              "      border: none;\n",
              "      border-radius: 50%;\n",
              "      cursor: pointer;\n",
              "      display: none;\n",
              "      fill: #1967D2;\n",
              "      height: 32px;\n",
              "      padding: 0 0 0 0;\n",
              "      width: 32px;\n",
              "    }\n",
              "\n",
              "    .colab-df-convert:hover {\n",
              "      background-color: #E2EBFA;\n",
              "      box-shadow: 0px 1px 2px rgba(60, 64, 67, 0.3), 0px 1px 3px 1px rgba(60, 64, 67, 0.15);\n",
              "      fill: #174EA6;\n",
              "    }\n",
              "\n",
              "    [theme=dark] .colab-df-convert {\n",
              "      background-color: #3B4455;\n",
              "      fill: #D2E3FC;\n",
              "    }\n",
              "\n",
              "    [theme=dark] .colab-df-convert:hover {\n",
              "      background-color: #434B5C;\n",
              "      box-shadow: 0px 1px 3px 1px rgba(0, 0, 0, 0.15);\n",
              "      filter: drop-shadow(0px 1px 2px rgba(0, 0, 0, 0.3));\n",
              "      fill: #FFFFFF;\n",
              "    }\n",
              "  </style>\n",
              "\n",
              "      <script>\n",
              "        const buttonEl =\n",
              "          document.querySelector('#df-b9dbe28b-89c4-4994-b64d-06cbeb920638 button.colab-df-convert');\n",
              "        buttonEl.style.display =\n",
              "          google.colab.kernel.accessAllowed ? 'block' : 'none';\n",
              "\n",
              "        async function convertToInteractive(key) {\n",
              "          const element = document.querySelector('#df-b9dbe28b-89c4-4994-b64d-06cbeb920638');\n",
              "          const dataTable =\n",
              "            await google.colab.kernel.invokeFunction('convertToInteractive',\n",
              "                                                     [key], {});\n",
              "          if (!dataTable) return;\n",
              "\n",
              "          const docLinkHtml = 'Like what you see? Visit the ' +\n",
              "            '<a target=\"_blank\" href=https://colab.research.google.com/notebooks/data_table.ipynb>data table notebook</a>'\n",
              "            + ' to learn more about interactive tables.';\n",
              "          element.innerHTML = '';\n",
              "          dataTable['output_type'] = 'display_data';\n",
              "          await google.colab.output.renderOutput(dataTable, element);\n",
              "          const docLink = document.createElement('div');\n",
              "          docLink.innerHTML = docLinkHtml;\n",
              "          element.appendChild(docLink);\n",
              "        }\n",
              "      </script>\n",
              "    </div>\n",
              "  </div>\n",
              "  "
            ]
          },
          "metadata": {},
          "execution_count": 27
        }
      ]
    },
    {
      "cell_type": "markdown",
      "source": [
        "- Merge: horizontal combines vertically, the two dataframes must have a common key to merge on \n",
        "\n",
        "  For more information see: https://pandas.pydata.org/docs/reference/api/pandas.DataFrame.merge.html\n",
        "\n",
        "  Inner merge: only merge where there is an intersection of keys\n",
        "\n",
        "  Outer merge: union of both keys to create a new key\n",
        "\n",
        "  Left merge: use keys from the left frame\n",
        "\n",
        "  Right merge: use the right key\n"
      ],
      "metadata": {
        "id": "uTJwQxaXiC5S"
      }
    },
    {
      "cell_type": "markdown",
      "source": [
        "For example let's create 2 random dataframes with unique keys, create a label for values > 0.5 and for values < 0.5 and merge them together"
      ],
      "metadata": {
        "id": "a7n2aNoNj1Ic"
      }
    },
    {
      "cell_type": "code",
      "source": [
        "df3=pd.DataFrame()\n",
        "df3['x']=np.random.uniform(0, 1, 20)\n",
        "df3['y']= np.random.uniform(0, 1, 20)\n",
        "df3['unique_key']= (df3.x > 0.5).astype(int)\n",
        "\n",
        "df4=pd.DataFrame()\n",
        "df4['a']=np.random.uniform(0, 1, 10)\n",
        "df4['b']= np.random.uniform(0, 1, 10)\n",
        "df4['unique_key']= (df4.a >0.5).astype(int)"
      ],
      "metadata": {
        "id": "wOmKKi4KjLok"
      },
      "execution_count": 28,
      "outputs": []
    },
    {
      "cell_type": "code",
      "source": [
        "df4.head(5)"
      ],
      "metadata": {
        "colab": {
          "base_uri": "https://localhost:8080/",
          "height": 0
        },
        "id": "it5H1kA9khMN",
        "outputId": "d9c67092-5235-4d42-d087-266a3a18ac87"
      },
      "execution_count": 29,
      "outputs": [
        {
          "output_type": "execute_result",
          "data": {
            "text/plain": [
              "          a         b  unique_key\n",
              "0  0.009747  0.919298           0\n",
              "1  0.012047  0.424114           0\n",
              "2  0.648264  0.035402           1\n",
              "3  0.956935  0.319940           1\n",
              "4  0.148494  0.815427           0"
            ],
            "text/html": [
              "\n",
              "  <div id=\"df-b3a79176-29b4-4053-9748-8b29884033a6\">\n",
              "    <div class=\"colab-df-container\">\n",
              "      <div>\n",
              "<style scoped>\n",
              "    .dataframe tbody tr th:only-of-type {\n",
              "        vertical-align: middle;\n",
              "    }\n",
              "\n",
              "    .dataframe tbody tr th {\n",
              "        vertical-align: top;\n",
              "    }\n",
              "\n",
              "    .dataframe thead th {\n",
              "        text-align: right;\n",
              "    }\n",
              "</style>\n",
              "<table border=\"1\" class=\"dataframe\">\n",
              "  <thead>\n",
              "    <tr style=\"text-align: right;\">\n",
              "      <th></th>\n",
              "      <th>a</th>\n",
              "      <th>b</th>\n",
              "      <th>unique_key</th>\n",
              "    </tr>\n",
              "  </thead>\n",
              "  <tbody>\n",
              "    <tr>\n",
              "      <th>0</th>\n",
              "      <td>0.009747</td>\n",
              "      <td>0.919298</td>\n",
              "      <td>0</td>\n",
              "    </tr>\n",
              "    <tr>\n",
              "      <th>1</th>\n",
              "      <td>0.012047</td>\n",
              "      <td>0.424114</td>\n",
              "      <td>0</td>\n",
              "    </tr>\n",
              "    <tr>\n",
              "      <th>2</th>\n",
              "      <td>0.648264</td>\n",
              "      <td>0.035402</td>\n",
              "      <td>1</td>\n",
              "    </tr>\n",
              "    <tr>\n",
              "      <th>3</th>\n",
              "      <td>0.956935</td>\n",
              "      <td>0.319940</td>\n",
              "      <td>1</td>\n",
              "    </tr>\n",
              "    <tr>\n",
              "      <th>4</th>\n",
              "      <td>0.148494</td>\n",
              "      <td>0.815427</td>\n",
              "      <td>0</td>\n",
              "    </tr>\n",
              "  </tbody>\n",
              "</table>\n",
              "</div>\n",
              "      <button class=\"colab-df-convert\" onclick=\"convertToInteractive('df-b3a79176-29b4-4053-9748-8b29884033a6')\"\n",
              "              title=\"Convert this dataframe to an interactive table.\"\n",
              "              style=\"display:none;\">\n",
              "        \n",
              "  <svg xmlns=\"http://www.w3.org/2000/svg\" height=\"24px\"viewBox=\"0 0 24 24\"\n",
              "       width=\"24px\">\n",
              "    <path d=\"M0 0h24v24H0V0z\" fill=\"none\"/>\n",
              "    <path d=\"M18.56 5.44l.94 2.06.94-2.06 2.06-.94-2.06-.94-.94-2.06-.94 2.06-2.06.94zm-11 1L8.5 8.5l.94-2.06 2.06-.94-2.06-.94L8.5 2.5l-.94 2.06-2.06.94zm10 10l.94 2.06.94-2.06 2.06-.94-2.06-.94-.94-2.06-.94 2.06-2.06.94z\"/><path d=\"M17.41 7.96l-1.37-1.37c-.4-.4-.92-.59-1.43-.59-.52 0-1.04.2-1.43.59L10.3 9.45l-7.72 7.72c-.78.78-.78 2.05 0 2.83L4 21.41c.39.39.9.59 1.41.59.51 0 1.02-.2 1.41-.59l7.78-7.78 2.81-2.81c.8-.78.8-2.07 0-2.86zM5.41 20L4 18.59l7.72-7.72 1.47 1.35L5.41 20z\"/>\n",
              "  </svg>\n",
              "      </button>\n",
              "      \n",
              "  <style>\n",
              "    .colab-df-container {\n",
              "      display:flex;\n",
              "      flex-wrap:wrap;\n",
              "      gap: 12px;\n",
              "    }\n",
              "\n",
              "    .colab-df-convert {\n",
              "      background-color: #E8F0FE;\n",
              "      border: none;\n",
              "      border-radius: 50%;\n",
              "      cursor: pointer;\n",
              "      display: none;\n",
              "      fill: #1967D2;\n",
              "      height: 32px;\n",
              "      padding: 0 0 0 0;\n",
              "      width: 32px;\n",
              "    }\n",
              "\n",
              "    .colab-df-convert:hover {\n",
              "      background-color: #E2EBFA;\n",
              "      box-shadow: 0px 1px 2px rgba(60, 64, 67, 0.3), 0px 1px 3px 1px rgba(60, 64, 67, 0.15);\n",
              "      fill: #174EA6;\n",
              "    }\n",
              "\n",
              "    [theme=dark] .colab-df-convert {\n",
              "      background-color: #3B4455;\n",
              "      fill: #D2E3FC;\n",
              "    }\n",
              "\n",
              "    [theme=dark] .colab-df-convert:hover {\n",
              "      background-color: #434B5C;\n",
              "      box-shadow: 0px 1px 3px 1px rgba(0, 0, 0, 0.15);\n",
              "      filter: drop-shadow(0px 1px 2px rgba(0, 0, 0, 0.3));\n",
              "      fill: #FFFFFF;\n",
              "    }\n",
              "  </style>\n",
              "\n",
              "      <script>\n",
              "        const buttonEl =\n",
              "          document.querySelector('#df-b3a79176-29b4-4053-9748-8b29884033a6 button.colab-df-convert');\n",
              "        buttonEl.style.display =\n",
              "          google.colab.kernel.accessAllowed ? 'block' : 'none';\n",
              "\n",
              "        async function convertToInteractive(key) {\n",
              "          const element = document.querySelector('#df-b3a79176-29b4-4053-9748-8b29884033a6');\n",
              "          const dataTable =\n",
              "            await google.colab.kernel.invokeFunction('convertToInteractive',\n",
              "                                                     [key], {});\n",
              "          if (!dataTable) return;\n",
              "\n",
              "          const docLinkHtml = 'Like what you see? Visit the ' +\n",
              "            '<a target=\"_blank\" href=https://colab.research.google.com/notebooks/data_table.ipynb>data table notebook</a>'\n",
              "            + ' to learn more about interactive tables.';\n",
              "          element.innerHTML = '';\n",
              "          dataTable['output_type'] = 'display_data';\n",
              "          await google.colab.output.renderOutput(dataTable, element);\n",
              "          const docLink = document.createElement('div');\n",
              "          docLink.innerHTML = docLinkHtml;\n",
              "          element.appendChild(docLink);\n",
              "        }\n",
              "      </script>\n",
              "    </div>\n",
              "  </div>\n",
              "  "
            ]
          },
          "metadata": {},
          "execution_count": 29
        }
      ]
    },
    {
      "cell_type": "code",
      "source": [
        "df3.head(5)"
      ],
      "metadata": {
        "colab": {
          "base_uri": "https://localhost:8080/",
          "height": 0
        },
        "id": "cKi-dlLckkHK",
        "outputId": "cd8d50ef-a4c3-4f52-fa26-65c670efb22d"
      },
      "execution_count": 30,
      "outputs": [
        {
          "output_type": "execute_result",
          "data": {
            "text/plain": [
              "          x         y  unique_key\n",
              "0  0.374527  0.397383           0\n",
              "1  0.649827  0.334058           1\n",
              "2  0.553905  0.505691           1\n",
              "3  0.431244  0.092862           0\n",
              "4  0.821183  0.682326           1"
            ],
            "text/html": [
              "\n",
              "  <div id=\"df-8d3d86a8-8ddd-4841-ad17-d39a1cac2199\">\n",
              "    <div class=\"colab-df-container\">\n",
              "      <div>\n",
              "<style scoped>\n",
              "    .dataframe tbody tr th:only-of-type {\n",
              "        vertical-align: middle;\n",
              "    }\n",
              "\n",
              "    .dataframe tbody tr th {\n",
              "        vertical-align: top;\n",
              "    }\n",
              "\n",
              "    .dataframe thead th {\n",
              "        text-align: right;\n",
              "    }\n",
              "</style>\n",
              "<table border=\"1\" class=\"dataframe\">\n",
              "  <thead>\n",
              "    <tr style=\"text-align: right;\">\n",
              "      <th></th>\n",
              "      <th>x</th>\n",
              "      <th>y</th>\n",
              "      <th>unique_key</th>\n",
              "    </tr>\n",
              "  </thead>\n",
              "  <tbody>\n",
              "    <tr>\n",
              "      <th>0</th>\n",
              "      <td>0.374527</td>\n",
              "      <td>0.397383</td>\n",
              "      <td>0</td>\n",
              "    </tr>\n",
              "    <tr>\n",
              "      <th>1</th>\n",
              "      <td>0.649827</td>\n",
              "      <td>0.334058</td>\n",
              "      <td>1</td>\n",
              "    </tr>\n",
              "    <tr>\n",
              "      <th>2</th>\n",
              "      <td>0.553905</td>\n",
              "      <td>0.505691</td>\n",
              "      <td>1</td>\n",
              "    </tr>\n",
              "    <tr>\n",
              "      <th>3</th>\n",
              "      <td>0.431244</td>\n",
              "      <td>0.092862</td>\n",
              "      <td>0</td>\n",
              "    </tr>\n",
              "    <tr>\n",
              "      <th>4</th>\n",
              "      <td>0.821183</td>\n",
              "      <td>0.682326</td>\n",
              "      <td>1</td>\n",
              "    </tr>\n",
              "  </tbody>\n",
              "</table>\n",
              "</div>\n",
              "      <button class=\"colab-df-convert\" onclick=\"convertToInteractive('df-8d3d86a8-8ddd-4841-ad17-d39a1cac2199')\"\n",
              "              title=\"Convert this dataframe to an interactive table.\"\n",
              "              style=\"display:none;\">\n",
              "        \n",
              "  <svg xmlns=\"http://www.w3.org/2000/svg\" height=\"24px\"viewBox=\"0 0 24 24\"\n",
              "       width=\"24px\">\n",
              "    <path d=\"M0 0h24v24H0V0z\" fill=\"none\"/>\n",
              "    <path d=\"M18.56 5.44l.94 2.06.94-2.06 2.06-.94-2.06-.94-.94-2.06-.94 2.06-2.06.94zm-11 1L8.5 8.5l.94-2.06 2.06-.94-2.06-.94L8.5 2.5l-.94 2.06-2.06.94zm10 10l.94 2.06.94-2.06 2.06-.94-2.06-.94-.94-2.06-.94 2.06-2.06.94z\"/><path d=\"M17.41 7.96l-1.37-1.37c-.4-.4-.92-.59-1.43-.59-.52 0-1.04.2-1.43.59L10.3 9.45l-7.72 7.72c-.78.78-.78 2.05 0 2.83L4 21.41c.39.39.9.59 1.41.59.51 0 1.02-.2 1.41-.59l7.78-7.78 2.81-2.81c.8-.78.8-2.07 0-2.86zM5.41 20L4 18.59l7.72-7.72 1.47 1.35L5.41 20z\"/>\n",
              "  </svg>\n",
              "      </button>\n",
              "      \n",
              "  <style>\n",
              "    .colab-df-container {\n",
              "      display:flex;\n",
              "      flex-wrap:wrap;\n",
              "      gap: 12px;\n",
              "    }\n",
              "\n",
              "    .colab-df-convert {\n",
              "      background-color: #E8F0FE;\n",
              "      border: none;\n",
              "      border-radius: 50%;\n",
              "      cursor: pointer;\n",
              "      display: none;\n",
              "      fill: #1967D2;\n",
              "      height: 32px;\n",
              "      padding: 0 0 0 0;\n",
              "      width: 32px;\n",
              "    }\n",
              "\n",
              "    .colab-df-convert:hover {\n",
              "      background-color: #E2EBFA;\n",
              "      box-shadow: 0px 1px 2px rgba(60, 64, 67, 0.3), 0px 1px 3px 1px rgba(60, 64, 67, 0.15);\n",
              "      fill: #174EA6;\n",
              "    }\n",
              "\n",
              "    [theme=dark] .colab-df-convert {\n",
              "      background-color: #3B4455;\n",
              "      fill: #D2E3FC;\n",
              "    }\n",
              "\n",
              "    [theme=dark] .colab-df-convert:hover {\n",
              "      background-color: #434B5C;\n",
              "      box-shadow: 0px 1px 3px 1px rgba(0, 0, 0, 0.15);\n",
              "      filter: drop-shadow(0px 1px 2px rgba(0, 0, 0, 0.3));\n",
              "      fill: #FFFFFF;\n",
              "    }\n",
              "  </style>\n",
              "\n",
              "      <script>\n",
              "        const buttonEl =\n",
              "          document.querySelector('#df-8d3d86a8-8ddd-4841-ad17-d39a1cac2199 button.colab-df-convert');\n",
              "        buttonEl.style.display =\n",
              "          google.colab.kernel.accessAllowed ? 'block' : 'none';\n",
              "\n",
              "        async function convertToInteractive(key) {\n",
              "          const element = document.querySelector('#df-8d3d86a8-8ddd-4841-ad17-d39a1cac2199');\n",
              "          const dataTable =\n",
              "            await google.colab.kernel.invokeFunction('convertToInteractive',\n",
              "                                                     [key], {});\n",
              "          if (!dataTable) return;\n",
              "\n",
              "          const docLinkHtml = 'Like what you see? Visit the ' +\n",
              "            '<a target=\"_blank\" href=https://colab.research.google.com/notebooks/data_table.ipynb>data table notebook</a>'\n",
              "            + ' to learn more about interactive tables.';\n",
              "          element.innerHTML = '';\n",
              "          dataTable['output_type'] = 'display_data';\n",
              "          await google.colab.output.renderOutput(dataTable, element);\n",
              "          const docLink = document.createElement('div');\n",
              "          docLink.innerHTML = docLinkHtml;\n",
              "          element.appendChild(docLink);\n",
              "        }\n",
              "      </script>\n",
              "    </div>\n",
              "  </div>\n",
              "  "
            ]
          },
          "metadata": {},
          "execution_count": 30
        }
      ]
    },
    {
      "cell_type": "code",
      "source": [
        "df4.merge(df3, how='inner', on='unique_key')"
      ],
      "metadata": {
        "colab": {
          "base_uri": "https://localhost:8080/",
          "height": 0
        },
        "id": "k6fFdcXtiZtl",
        "outputId": "b4ec456b-0ad6-4f19-f770-bc8e6d4e729d"
      },
      "execution_count": 31,
      "outputs": [
        {
          "output_type": "execute_result",
          "data": {
            "text/plain": [
              "           a         b  unique_key         x         y\n",
              "0   0.009747  0.919298           0  0.374527  0.397383\n",
              "1   0.009747  0.919298           0  0.431244  0.092862\n",
              "2   0.009747  0.919298           0  0.401080  0.518187\n",
              "3   0.009747  0.919298           0  0.484700  0.923213\n",
              "4   0.009747  0.919298           0  0.027569  0.821870\n",
              "..       ...       ...         ...       ...       ...\n",
              "95  0.879993  0.317938           1  0.961486  0.186002\n",
              "96  0.879993  0.317938           1  0.592642  0.773961\n",
              "97  0.879993  0.317938           1  0.711754  0.021662\n",
              "98  0.879993  0.317938           1  0.722080  0.372937\n",
              "99  0.879993  0.317938           1  0.746378  0.659745\n",
              "\n",
              "[100 rows x 5 columns]"
            ],
            "text/html": [
              "\n",
              "  <div id=\"df-d25ca148-6b63-4040-a56a-6075ec7fd3f8\">\n",
              "    <div class=\"colab-df-container\">\n",
              "      <div>\n",
              "<style scoped>\n",
              "    .dataframe tbody tr th:only-of-type {\n",
              "        vertical-align: middle;\n",
              "    }\n",
              "\n",
              "    .dataframe tbody tr th {\n",
              "        vertical-align: top;\n",
              "    }\n",
              "\n",
              "    .dataframe thead th {\n",
              "        text-align: right;\n",
              "    }\n",
              "</style>\n",
              "<table border=\"1\" class=\"dataframe\">\n",
              "  <thead>\n",
              "    <tr style=\"text-align: right;\">\n",
              "      <th></th>\n",
              "      <th>a</th>\n",
              "      <th>b</th>\n",
              "      <th>unique_key</th>\n",
              "      <th>x</th>\n",
              "      <th>y</th>\n",
              "    </tr>\n",
              "  </thead>\n",
              "  <tbody>\n",
              "    <tr>\n",
              "      <th>0</th>\n",
              "      <td>0.009747</td>\n",
              "      <td>0.919298</td>\n",
              "      <td>0</td>\n",
              "      <td>0.374527</td>\n",
              "      <td>0.397383</td>\n",
              "    </tr>\n",
              "    <tr>\n",
              "      <th>1</th>\n",
              "      <td>0.009747</td>\n",
              "      <td>0.919298</td>\n",
              "      <td>0</td>\n",
              "      <td>0.431244</td>\n",
              "      <td>0.092862</td>\n",
              "    </tr>\n",
              "    <tr>\n",
              "      <th>2</th>\n",
              "      <td>0.009747</td>\n",
              "      <td>0.919298</td>\n",
              "      <td>0</td>\n",
              "      <td>0.401080</td>\n",
              "      <td>0.518187</td>\n",
              "    </tr>\n",
              "    <tr>\n",
              "      <th>3</th>\n",
              "      <td>0.009747</td>\n",
              "      <td>0.919298</td>\n",
              "      <td>0</td>\n",
              "      <td>0.484700</td>\n",
              "      <td>0.923213</td>\n",
              "    </tr>\n",
              "    <tr>\n",
              "      <th>4</th>\n",
              "      <td>0.009747</td>\n",
              "      <td>0.919298</td>\n",
              "      <td>0</td>\n",
              "      <td>0.027569</td>\n",
              "      <td>0.821870</td>\n",
              "    </tr>\n",
              "    <tr>\n",
              "      <th>...</th>\n",
              "      <td>...</td>\n",
              "      <td>...</td>\n",
              "      <td>...</td>\n",
              "      <td>...</td>\n",
              "      <td>...</td>\n",
              "    </tr>\n",
              "    <tr>\n",
              "      <th>95</th>\n",
              "      <td>0.879993</td>\n",
              "      <td>0.317938</td>\n",
              "      <td>1</td>\n",
              "      <td>0.961486</td>\n",
              "      <td>0.186002</td>\n",
              "    </tr>\n",
              "    <tr>\n",
              "      <th>96</th>\n",
              "      <td>0.879993</td>\n",
              "      <td>0.317938</td>\n",
              "      <td>1</td>\n",
              "      <td>0.592642</td>\n",
              "      <td>0.773961</td>\n",
              "    </tr>\n",
              "    <tr>\n",
              "      <th>97</th>\n",
              "      <td>0.879993</td>\n",
              "      <td>0.317938</td>\n",
              "      <td>1</td>\n",
              "      <td>0.711754</td>\n",
              "      <td>0.021662</td>\n",
              "    </tr>\n",
              "    <tr>\n",
              "      <th>98</th>\n",
              "      <td>0.879993</td>\n",
              "      <td>0.317938</td>\n",
              "      <td>1</td>\n",
              "      <td>0.722080</td>\n",
              "      <td>0.372937</td>\n",
              "    </tr>\n",
              "    <tr>\n",
              "      <th>99</th>\n",
              "      <td>0.879993</td>\n",
              "      <td>0.317938</td>\n",
              "      <td>1</td>\n",
              "      <td>0.746378</td>\n",
              "      <td>0.659745</td>\n",
              "    </tr>\n",
              "  </tbody>\n",
              "</table>\n",
              "<p>100 rows × 5 columns</p>\n",
              "</div>\n",
              "      <button class=\"colab-df-convert\" onclick=\"convertToInteractive('df-d25ca148-6b63-4040-a56a-6075ec7fd3f8')\"\n",
              "              title=\"Convert this dataframe to an interactive table.\"\n",
              "              style=\"display:none;\">\n",
              "        \n",
              "  <svg xmlns=\"http://www.w3.org/2000/svg\" height=\"24px\"viewBox=\"0 0 24 24\"\n",
              "       width=\"24px\">\n",
              "    <path d=\"M0 0h24v24H0V0z\" fill=\"none\"/>\n",
              "    <path d=\"M18.56 5.44l.94 2.06.94-2.06 2.06-.94-2.06-.94-.94-2.06-.94 2.06-2.06.94zm-11 1L8.5 8.5l.94-2.06 2.06-.94-2.06-.94L8.5 2.5l-.94 2.06-2.06.94zm10 10l.94 2.06.94-2.06 2.06-.94-2.06-.94-.94-2.06-.94 2.06-2.06.94z\"/><path d=\"M17.41 7.96l-1.37-1.37c-.4-.4-.92-.59-1.43-.59-.52 0-1.04.2-1.43.59L10.3 9.45l-7.72 7.72c-.78.78-.78 2.05 0 2.83L4 21.41c.39.39.9.59 1.41.59.51 0 1.02-.2 1.41-.59l7.78-7.78 2.81-2.81c.8-.78.8-2.07 0-2.86zM5.41 20L4 18.59l7.72-7.72 1.47 1.35L5.41 20z\"/>\n",
              "  </svg>\n",
              "      </button>\n",
              "      \n",
              "  <style>\n",
              "    .colab-df-container {\n",
              "      display:flex;\n",
              "      flex-wrap:wrap;\n",
              "      gap: 12px;\n",
              "    }\n",
              "\n",
              "    .colab-df-convert {\n",
              "      background-color: #E8F0FE;\n",
              "      border: none;\n",
              "      border-radius: 50%;\n",
              "      cursor: pointer;\n",
              "      display: none;\n",
              "      fill: #1967D2;\n",
              "      height: 32px;\n",
              "      padding: 0 0 0 0;\n",
              "      width: 32px;\n",
              "    }\n",
              "\n",
              "    .colab-df-convert:hover {\n",
              "      background-color: #E2EBFA;\n",
              "      box-shadow: 0px 1px 2px rgba(60, 64, 67, 0.3), 0px 1px 3px 1px rgba(60, 64, 67, 0.15);\n",
              "      fill: #174EA6;\n",
              "    }\n",
              "\n",
              "    [theme=dark] .colab-df-convert {\n",
              "      background-color: #3B4455;\n",
              "      fill: #D2E3FC;\n",
              "    }\n",
              "\n",
              "    [theme=dark] .colab-df-convert:hover {\n",
              "      background-color: #434B5C;\n",
              "      box-shadow: 0px 1px 3px 1px rgba(0, 0, 0, 0.15);\n",
              "      filter: drop-shadow(0px 1px 2px rgba(0, 0, 0, 0.3));\n",
              "      fill: #FFFFFF;\n",
              "    }\n",
              "  </style>\n",
              "\n",
              "      <script>\n",
              "        const buttonEl =\n",
              "          document.querySelector('#df-d25ca148-6b63-4040-a56a-6075ec7fd3f8 button.colab-df-convert');\n",
              "        buttonEl.style.display =\n",
              "          google.colab.kernel.accessAllowed ? 'block' : 'none';\n",
              "\n",
              "        async function convertToInteractive(key) {\n",
              "          const element = document.querySelector('#df-d25ca148-6b63-4040-a56a-6075ec7fd3f8');\n",
              "          const dataTable =\n",
              "            await google.colab.kernel.invokeFunction('convertToInteractive',\n",
              "                                                     [key], {});\n",
              "          if (!dataTable) return;\n",
              "\n",
              "          const docLinkHtml = 'Like what you see? Visit the ' +\n",
              "            '<a target=\"_blank\" href=https://colab.research.google.com/notebooks/data_table.ipynb>data table notebook</a>'\n",
              "            + ' to learn more about interactive tables.';\n",
              "          element.innerHTML = '';\n",
              "          dataTable['output_type'] = 'display_data';\n",
              "          await google.colab.output.renderOutput(dataTable, element);\n",
              "          const docLink = document.createElement('div');\n",
              "          docLink.innerHTML = docLinkHtml;\n",
              "          element.appendChild(docLink);\n",
              "        }\n",
              "      </script>\n",
              "    </div>\n",
              "  </div>\n",
              "  "
            ]
          },
          "metadata": {},
          "execution_count": 31
        }
      ]
    },
    {
      "cell_type": "markdown",
      "source": [
        "💪 Exercise: Do left merge of df3 and df4 and query where the values of a, b, x, y and are all between 0.1 and 0.6"
      ],
      "metadata": {
        "id": "E0mUdCLJriaY"
      }
    },
    {
      "cell_type": "markdown",
      "source": [
        "##  Part 7: Applying Operations\n",
        "\n",
        "This is my favorite feature in pandas \n",
        "\n",
        "You can apply functions to pandas dataframes using .apply or .applymap\n",
        "\n",
        "- Applying a function to columns\n"
      ],
      "metadata": {
        "id": "ntQKO_fvlqgx"
      }
    },
    {
      "cell_type": "code",
      "source": [
        "def divide_by_two(x):\n",
        "  return x/2\n",
        "\n",
        "df.x.apply(divide_by_two)\n"
      ],
      "metadata": {
        "colab": {
          "base_uri": "https://localhost:8080/"
        },
        "id": "bYRZbfNSmDdP",
        "outputId": "4ed66421-e7ca-486a-da4d-256c98e0b798"
      },
      "execution_count": 32,
      "outputs": [
        {
          "output_type": "execute_result",
          "data": {
            "text/plain": [
              "row0    0.113723\n",
              "row1    0.445905\n",
              "row2    0.415326\n",
              "row3    0.410211\n",
              "row4    0.059843\n",
              "row5    0.114657\n",
              "row6    0.496454\n",
              "row7    0.427926\n",
              "row8    0.309007\n",
              "row9    0.408614\n",
              "Name: x, dtype: float64"
            ]
          },
          "metadata": {},
          "execution_count": 32
        }
      ]
    },
    {
      "cell_type": "markdown",
      "source": [
        "- Applying functions to Rows\n",
        "\n",
        "You can apply a function horinzotally as well"
      ],
      "metadata": {
        "id": "Q2isaoofmRZE"
      }
    },
    {
      "cell_type": "code",
      "source": [
        "df[['x', 'y']].apply(lambda row : row.x+row.y, axis=1)"
      ],
      "metadata": {
        "colab": {
          "base_uri": "https://localhost:8080/"
        },
        "id": "xjxjaA9qm0NG",
        "outputId": "b15618c2-2eaa-4f60-e091-1e96eb229c1b"
      },
      "execution_count": 33,
      "outputs": [
        {
          "output_type": "execute_result",
          "data": {
            "text/plain": [
              "row0    0.368990\n",
              "row1    1.759145\n",
              "row2    1.767351\n",
              "row3    1.589235\n",
              "row4    0.226662\n",
              "row5    1.100337\n",
              "row6    1.383529\n",
              "row7    1.464889\n",
              "row8    1.375238\n",
              "row9    1.587868\n",
              "dtype: float64"
            ]
          },
          "metadata": {},
          "execution_count": 33
        }
      ]
    },
    {
      "cell_type": "markdown",
      "source": [
        "But of course for this case this will do the job but for more complex functions,this works well\n"
      ],
      "metadata": {
        "id": "yoAAg3brn9ob"
      }
    },
    {
      "cell_type": "code",
      "source": [
        "df.x+df.y"
      ],
      "metadata": {
        "colab": {
          "base_uri": "https://localhost:8080/"
        },
        "id": "1DNs-sLzn_en",
        "outputId": "751171a7-0603-4953-a953-c49ffc97123d"
      },
      "execution_count": 34,
      "outputs": [
        {
          "output_type": "execute_result",
          "data": {
            "text/plain": [
              "row0    0.368990\n",
              "row1    1.759145\n",
              "row2    1.767351\n",
              "row3    1.589235\n",
              "row4    0.226662\n",
              "row5    1.100337\n",
              "row6    1.383529\n",
              "row7    1.464889\n",
              "row8    1.375238\n",
              "row9    1.587868\n",
              "dtype: float64"
            ]
          },
          "metadata": {},
          "execution_count": 34
        }
      ]
    },
    {
      "cell_type": "markdown",
      "source": [
        "💪 Exercise: Add a new column z to df that takes z= $x^2+y^2$. Use the applymap function instead of just adding them manually"
      ],
      "metadata": {
        "id": "hViie1eNsBEE"
      }
    },
    {
      "cell_type": "markdown",
      "source": [
        "You can even get a progress bar using the tqdm module"
      ],
      "metadata": {
        "id": "IVmfnylkn0SG"
      }
    },
    {
      "cell_type": "code",
      "source": [
        "from tqdm.notebook import tqdm\n",
        "tqdm.pandas()\n",
        "df.x.progress_apply(divide_by_two)"
      ],
      "metadata": {
        "colab": {
          "base_uri": "https://localhost:8080/",
          "height": 240,
          "referenced_widgets": [
            "91f050cffe584c05addda40e43186fc7",
            "6c341780280543b2b182edd148bad7b3",
            "7b68de78038a4590ae2edb35e67629c3",
            "efba5b9621a9466ca18dc39d97571dfd",
            "3354cf466a364d198ad948916c6e8388",
            "effbedf5a6b348e98cb686401f475c54",
            "8e01780f73d542d7a5aa956ceb449bf6",
            "3064ee5316e74a9bacdfa0bf3a7be65f",
            "6406bad55e03463cac27bf960568fc32",
            "ce39c4ca592d4f1a8020f4683106cb48",
            "7aacec8c3fea4191ab8fe0b23048338f"
          ]
        },
        "id": "hOanEy8Unm1g",
        "outputId": "beb41d72-07e4-40f2-f15f-44a0422c0571"
      },
      "execution_count": 35,
      "outputs": [
        {
          "output_type": "display_data",
          "data": {
            "text/plain": [
              "  0%|          | 0/10 [00:00<?, ?it/s]"
            ],
            "application/vnd.jupyter.widget-view+json": {
              "version_major": 2,
              "version_minor": 0,
              "model_id": "91f050cffe584c05addda40e43186fc7"
            }
          },
          "metadata": {}
        },
        {
          "output_type": "execute_result",
          "data": {
            "text/plain": [
              "row0    0.113723\n",
              "row1    0.445905\n",
              "row2    0.415326\n",
              "row3    0.410211\n",
              "row4    0.059843\n",
              "row5    0.114657\n",
              "row6    0.496454\n",
              "row7    0.427926\n",
              "row8    0.309007\n",
              "row9    0.408614\n",
              "Name: x, dtype: float64"
            ]
          },
          "metadata": {},
          "execution_count": 35
        }
      ]
    },
    {
      "cell_type": "markdown",
      "source": [
        "## Part 8: Plotting "
      ],
      "metadata": {
        "id": "gPswjdebt22r"
      }
    },
    {
      "cell_type": "markdown",
      "source": [
        "Panda can make plots directly https://pandas.pydata.org/docs/reference/api/pandas.DataFrame.plot.html"
      ],
      "metadata": {
        "id": "oYZx6IwguG3Z"
      }
    },
    {
      "cell_type": "code",
      "source": [
        "df.x.plot(kind='hist', xlabel='values', ylabel='frequency', title='Plot')"
      ],
      "metadata": {
        "colab": {
          "base_uri": "https://localhost:8080/",
          "height": 0
        },
        "id": "RZHuQ4u6uLK0",
        "outputId": "fa383abc-e085-49d9-bdd7-7f424132b085"
      },
      "execution_count": 36,
      "outputs": [
        {
          "output_type": "execute_result",
          "data": {
            "text/plain": [
              "<matplotlib.axes._subplots.AxesSubplot at 0x7fd0ebef9190>"
            ]
          },
          "metadata": {},
          "execution_count": 36
        },
        {
          "output_type": "display_data",
          "data": {
            "text/plain": [
              "<Figure size 432x288 with 1 Axes>"
            ],
            "image/png": "[encoded data removed]"
          },
          "metadata": {
            "needs_background": "light"
          }
        }
      ]
    },
    {
      "cell_type": "markdown",
      "source": [
        "# Introduction to Maptlotlib"
      ],
      "metadata": {
        "id": "Sc0wC_rDnTE4"
      }
    },
    {
      "cell_type": "markdown",
      "source": [
        "Matplotlib is our main visualization library\n",
        "\n",
        "For this part of the exercise we are going to be using the iris dataset https://archive.ics.uci.edu/ml/datasets/iris"
      ],
      "metadata": {
        "id": "EIMAVh2LoIIx"
      }
    },
    {
      "cell_type": "markdown",
      "source": [
        "The data is saved inside the seaborn libray"
      ],
      "metadata": {
        "id": "Hb1XxN7IpTmi"
      }
    },
    {
      "cell_type": "code",
      "metadata": {
        "id": "lrKdeCaKzGMY"
      },
      "source": [
        "data=sns.load_dataset('iris')"
      ],
      "execution_count": 37,
      "outputs": []
    },
    {
      "cell_type": "markdown",
      "source": [
        "Let's visualize the table"
      ],
      "metadata": {
        "id": "dMtLFTAlsbSk"
      }
    },
    {
      "cell_type": "code",
      "metadata": {
        "id": "AVeLyQlQzGMZ",
        "outputId": "5e9938fc-e25d-4393-f63b-0ada50045952",
        "colab": {
          "base_uri": "https://localhost:8080/",
          "height": 206
        }
      },
      "source": [
        "data.head(5) "
      ],
      "execution_count": 38,
      "outputs": [
        {
          "output_type": "execute_result",
          "data": {
            "text/plain": [
              "   sepal_length  sepal_width  petal_length  petal_width species\n",
              "0           5.1          3.5           1.4          0.2  setosa\n",
              "1           4.9          3.0           1.4          0.2  setosa\n",
              "2           4.7          3.2           1.3          0.2  setosa\n",
              "3           4.6          3.1           1.5          0.2  setosa\n",
              "4           5.0          3.6           1.4          0.2  setosa"
            ],
            "text/html": [
              "\n",
              "  <div id=\"df-c6d7443b-46a6-4b38-91ef-dc1fae07a09a\">\n",
              "    <div class=\"colab-df-container\">\n",
              "      <div>\n",
              "<style scoped>\n",
              "    .dataframe tbody tr th:only-of-type {\n",
              "        vertical-align: middle;\n",
              "    }\n",
              "\n",
              "    .dataframe tbody tr th {\n",
              "        vertical-align: top;\n",
              "    }\n",
              "\n",
              "    .dataframe thead th {\n",
              "        text-align: right;\n",
              "    }\n",
              "</style>\n",
              "<table border=\"1\" class=\"dataframe\">\n",
              "  <thead>\n",
              "    <tr style=\"text-align: right;\">\n",
              "      <th></th>\n",
              "      <th>sepal_length</th>\n",
              "      <th>sepal_width</th>\n",
              "      <th>petal_length</th>\n",
              "      <th>petal_width</th>\n",
              "      <th>species</th>\n",
              "    </tr>\n",
              "  </thead>\n",
              "  <tbody>\n",
              "    <tr>\n",
              "      <th>0</th>\n",
              "      <td>5.1</td>\n",
              "      <td>3.5</td>\n",
              "      <td>1.4</td>\n",
              "      <td>0.2</td>\n",
              "      <td>setosa</td>\n",
              "    </tr>\n",
              "    <tr>\n",
              "      <th>1</th>\n",
              "      <td>4.9</td>\n",
              "      <td>3.0</td>\n",
              "      <td>1.4</td>\n",
              "      <td>0.2</td>\n",
              "      <td>setosa</td>\n",
              "    </tr>\n",
              "    <tr>\n",
              "      <th>2</th>\n",
              "      <td>4.7</td>\n",
              "      <td>3.2</td>\n",
              "      <td>1.3</td>\n",
              "      <td>0.2</td>\n",
              "      <td>setosa</td>\n",
              "    </tr>\n",
              "    <tr>\n",
              "      <th>3</th>\n",
              "      <td>4.6</td>\n",
              "      <td>3.1</td>\n",
              "      <td>1.5</td>\n",
              "      <td>0.2</td>\n",
              "      <td>setosa</td>\n",
              "    </tr>\n",
              "    <tr>\n",
              "      <th>4</th>\n",
              "      <td>5.0</td>\n",
              "      <td>3.6</td>\n",
              "      <td>1.4</td>\n",
              "      <td>0.2</td>\n",
              "      <td>setosa</td>\n",
              "    </tr>\n",
              "  </tbody>\n",
              "</table>\n",
              "</div>\n",
              "      <button class=\"colab-df-convert\" onclick=\"convertToInteractive('df-c6d7443b-46a6-4b38-91ef-dc1fae07a09a')\"\n",
              "              title=\"Convert this dataframe to an interactive table.\"\n",
              "              style=\"display:none;\">\n",
              "        \n",
              "  <svg xmlns=\"http://www.w3.org/2000/svg\" height=\"24px\"viewBox=\"0 0 24 24\"\n",
              "       width=\"24px\">\n",
              "    <path d=\"M0 0h24v24H0V0z\" fill=\"none\"/>\n",
              "    <path d=\"M18.56 5.44l.94 2.06.94-2.06 2.06-.94-2.06-.94-.94-2.06-.94 2.06-2.06.94zm-11 1L8.5 8.5l.94-2.06 2.06-.94-2.06-.94L8.5 2.5l-.94 2.06-2.06.94zm10 10l.94 2.06.94-2.06 2.06-.94-2.06-.94-.94-2.06-.94 2.06-2.06.94z\"/><path d=\"M17.41 7.96l-1.37-1.37c-.4-.4-.92-.59-1.43-.59-.52 0-1.04.2-1.43.59L10.3 9.45l-7.72 7.72c-.78.78-.78 2.05 0 2.83L4 21.41c.39.39.9.59 1.41.59.51 0 1.02-.2 1.41-.59l7.78-7.78 2.81-2.81c.8-.78.8-2.07 0-2.86zM5.41 20L4 18.59l7.72-7.72 1.47 1.35L5.41 20z\"/>\n",
              "  </svg>\n",
              "      </button>\n",
              "      \n",
              "  <style>\n",
              "    .colab-df-container {\n",
              "      display:flex;\n",
              "      flex-wrap:wrap;\n",
              "      gap: 12px;\n",
              "    }\n",
              "\n",
              "    .colab-df-convert {\n",
              "      background-color: #E8F0FE;\n",
              "      border: none;\n",
              "      border-radius: 50%;\n",
              "      cursor: pointer;\n",
              "      display: none;\n",
              "      fill: #1967D2;\n",
              "      height: 32px;\n",
              "      padding: 0 0 0 0;\n",
              "      width: 32px;\n",
              "    }\n",
              "\n",
              "    .colab-df-convert:hover {\n",
              "      background-color: #E2EBFA;\n",
              "      box-shadow: 0px 1px 2px rgba(60, 64, 67, 0.3), 0px 1px 3px 1px rgba(60, 64, 67, 0.15);\n",
              "      fill: #174EA6;\n",
              "    }\n",
              "\n",
              "    [theme=dark] .colab-df-convert {\n",
              "      background-color: #3B4455;\n",
              "      fill: #D2E3FC;\n",
              "    }\n",
              "\n",
              "    [theme=dark] .colab-df-convert:hover {\n",
              "      background-color: #434B5C;\n",
              "      box-shadow: 0px 1px 3px 1px rgba(0, 0, 0, 0.15);\n",
              "      filter: drop-shadow(0px 1px 2px rgba(0, 0, 0, 0.3));\n",
              "      fill: #FFFFFF;\n",
              "    }\n",
              "  </style>\n",
              "\n",
              "      <script>\n",
              "        const buttonEl =\n",
              "          document.querySelector('#df-c6d7443b-46a6-4b38-91ef-dc1fae07a09a button.colab-df-convert');\n",
              "        buttonEl.style.display =\n",
              "          google.colab.kernel.accessAllowed ? 'block' : 'none';\n",
              "\n",
              "        async function convertToInteractive(key) {\n",
              "          const element = document.querySelector('#df-c6d7443b-46a6-4b38-91ef-dc1fae07a09a');\n",
              "          const dataTable =\n",
              "            await google.colab.kernel.invokeFunction('convertToInteractive',\n",
              "                                                     [key], {});\n",
              "          if (!dataTable) return;\n",
              "\n",
              "          const docLinkHtml = 'Like what you see? Visit the ' +\n",
              "            '<a target=\"_blank\" href=https://colab.research.google.com/notebooks/data_table.ipynb>data table notebook</a>'\n",
              "            + ' to learn more about interactive tables.';\n",
              "          element.innerHTML = '';\n",
              "          dataTable['output_type'] = 'display_data';\n",
              "          await google.colab.output.renderOutput(dataTable, element);\n",
              "          const docLink = document.createElement('div');\n",
              "          docLink.innerHTML = docLinkHtml;\n",
              "          element.appendChild(docLink);\n",
              "        }\n",
              "      </script>\n",
              "    </div>\n",
              "  </div>\n",
              "  "
            ]
          },
          "metadata": {},
          "execution_count": 38
        }
      ]
    },
    {
      "cell_type": "markdown",
      "metadata": {
        "id": "0eVhz5rHzGMa"
      },
      "source": [
        "#### Part 1. Most Common Plots\n",
        "- Line Plots\n",
        "\n"
      ]
    },
    {
      "cell_type": "code",
      "metadata": {
        "id": "nQpMfbdmzGMb",
        "outputId": "a7402256-f3be-4826-d2ef-bb69db155a27",
        "colab": {
          "base_uri": "https://localhost:8080/",
          "height": 0
        }
      },
      "source": [
        "fig, ax=plt.subplots() \n",
        "#here we are creating python objects named fig and ax \n",
        "ax.plot(data.sepal_length, data.petal_width) \n",
        "#add points to the ax object not the fig object\n",
        "ax.set(xlabel='Sepal Length', ylabel='Petal width') \n",
        "#set properties of the axes\n",
        "#plt.savefig() save figure"
      ],
      "execution_count": 39,
      "outputs": [
        {
          "output_type": "execute_result",
          "data": {
            "text/plain": [
              "[Text(0, 0.5, 'Petal width'), Text(0.5, 0, 'Sepal Length')]"
            ]
          },
          "metadata": {},
          "execution_count": 39
        },
        {
          "output_type": "display_data",
          "data": {
            "text/plain": [
              "<Figure size 432x288 with 1 Axes>"
            ],
            "image/png": "[encoded data removed]"
          },
          "metadata": {
            "needs_background": "light"
          }
        }
      ]
    },
    {
      "cell_type": "markdown",
      "source": [
        "💪 Exercise: change the line size\n"
      ],
      "metadata": {
        "id": "lFDbL_txsgx6"
      }
    },
    {
      "cell_type": "markdown",
      "metadata": {
        "id": "1MnSG_7QzGMd"
      },
      "source": [
        "- Step Plots"
      ]
    },
    {
      "cell_type": "markdown",
      "source": [
        "These are similar in syntax, except we are now using .step"
      ],
      "metadata": {
        "id": "qOSFsEeYsoj9"
      }
    },
    {
      "cell_type": "code",
      "metadata": {
        "id": "cpTi2TT3zGMd",
        "outputId": "755f6203-ec53-4ba6-e76f-92ec9e39de99",
        "colab": {
          "base_uri": "https://localhost:8080/",
          "height": 0
        }
      },
      "source": [
        "fig, ax=plt.subplots() \n",
        "ax.step(data.sepal_length, data.petal_width)  \n",
        "ax.set(xlabel='Sepal Length', ylabel='Petal width')"
      ],
      "execution_count": 40,
      "outputs": [
        {
          "output_type": "execute_result",
          "data": {
            "text/plain": [
              "[Text(0, 0.5, 'Petal width'), Text(0.5, 0, 'Sepal Length')]"
            ]
          },
          "metadata": {},
          "execution_count": 40
        },
        {
          "output_type": "display_data",
          "data": {
            "text/plain": [
              "<Figure size 432x288 with 1 Axes>"
            ],
            "image/png": "[encoded data removed]"
          },
          "metadata": {
            "needs_background": "light"
          }
        }
      ]
    },
    {
      "cell_type": "markdown",
      "source": [
        "💪  Exercise: change the line style"
      ],
      "metadata": {
        "id": "CwAOHuDassRf"
      }
    },
    {
      "cell_type": "markdown",
      "metadata": {
        "id": "dmggkN0qzGMe"
      },
      "source": [
        "- Scatter Plots"
      ]
    },
    {
      "cell_type": "markdown",
      "source": [
        "Again, it's the a similar syntax, except we are now using .scatter"
      ],
      "metadata": {
        "id": "574w9c4wszb3"
      }
    },
    {
      "cell_type": "code",
      "metadata": {
        "id": "jmcngyRszGMe",
        "outputId": "2642b8bf-925d-4dbc-86b7-1436ccd1a17f",
        "colab": {
          "base_uri": "https://localhost:8080/",
          "height": 0
        }
      },
      "source": [
        "fig, ax=plt.subplots()\n",
        "ax.scatter(data.sepal_length, data.petal_width) \n",
        "ax.set(xlabel='Sepal Length', ylabel='Petal width') "
      ],
      "execution_count": 41,
      "outputs": [
        {
          "output_type": "execute_result",
          "data": {
            "text/plain": [
              "[Text(0, 0.5, 'Petal width'), Text(0.5, 0, 'Sepal Length')]"
            ]
          },
          "metadata": {},
          "execution_count": 41
        },
        {
          "output_type": "display_data",
          "data": {
            "text/plain": [
              "<Figure size 432x288 with 1 Axes>"
            ],
            "image/png": "[encoded data removed]"
          },
          "metadata": {
            "needs_background": "light"
          }
        }
      ]
    },
    {
      "cell_type": "markdown",
      "source": [
        "💪 Exercise: plot these with rectangles as markers, increase the fontsize"
      ],
      "metadata": {
        "id": "oYGoFlZUs_mW"
      }
    },
    {
      "cell_type": "markdown",
      "metadata": {
        "id": "t5kKQXwuzGMf"
      },
      "source": [
        "- Displaying Uncertanties"
      ]
    },
    {
      "cell_type": "markdown",
      "metadata": {
        "id": "eySeCvX9zGMf"
      },
      "source": [
        "Since there are no uncertanities in these data, let's make up our own <br>\n",
        "\n",
        "let's choose uncertainties= 10% times data\n",
        "\n",
        "Let's use a for loop to populate our dataframe  with new columns\n"
      ]
    },
    {
      "cell_type": "code",
      "metadata": {
        "id": "Wkh-ULBfzGMg"
      },
      "source": [
        "for column in ['sepal_length','sepal_width', 'petal_length', 'petal_width']:\n",
        "    err_column=column+'_er'\n",
        "    data[err_column]= 0.1*data[column].values"
      ],
      "execution_count": 42,
      "outputs": []
    },
    {
      "cell_type": "markdown",
      "source": [
        "Let's preview the data to check if these columns were added "
      ],
      "metadata": {
        "id": "9IV6YJ9-tFTk"
      }
    },
    {
      "cell_type": "code",
      "metadata": {
        "id": "GEmOVoqPzGMg",
        "outputId": "82369b44-4b88-448f-bf16-6d59f7df9286",
        "colab": {
          "base_uri": "https://localhost:8080/",
          "height": 0
        }
      },
      "source": [
        "data.head(5)"
      ],
      "execution_count": 43,
      "outputs": [
        {
          "output_type": "execute_result",
          "data": {
            "text/plain": [
              "   sepal_length  sepal_width  petal_length  petal_width species  \\\n",
              "0           5.1          3.5           1.4          0.2  setosa   \n",
              "1           4.9          3.0           1.4          0.2  setosa   \n",
              "2           4.7          3.2           1.3          0.2  setosa   \n",
              "3           4.6          3.1           1.5          0.2  setosa   \n",
              "4           5.0          3.6           1.4          0.2  setosa   \n",
              "\n",
              "   sepal_length_er  sepal_width_er  petal_length_er  petal_width_er  \n",
              "0             0.51            0.35             0.14            0.02  \n",
              "1             0.49            0.30             0.14            0.02  \n",
              "2             0.47            0.32             0.13            0.02  \n",
              "3             0.46            0.31             0.15            0.02  \n",
              "4             0.50            0.36             0.14            0.02  "
            ],
            "text/html": [
              "\n",
              "  <div id=\"df-f0ea6456-83e9-4ef1-842b-254e2b1a8180\">\n",
              "    <div class=\"colab-df-container\">\n",
              "      <div>\n",
              "<style scoped>\n",
              "    .dataframe tbody tr th:only-of-type {\n",
              "        vertical-align: middle;\n",
              "    }\n",
              "\n",
              "    .dataframe tbody tr th {\n",
              "        vertical-align: top;\n",
              "    }\n",
              "\n",
              "    .dataframe thead th {\n",
              "        text-align: right;\n",
              "    }\n",
              "</style>\n",
              "<table border=\"1\" class=\"dataframe\">\n",
              "  <thead>\n",
              "    <tr style=\"text-align: right;\">\n",
              "      <th></th>\n",
              "      <th>sepal_length</th>\n",
              "      <th>sepal_width</th>\n",
              "      <th>petal_length</th>\n",
              "      <th>petal_width</th>\n",
              "      <th>species</th>\n",
              "      <th>sepal_length_er</th>\n",
              "      <th>sepal_width_er</th>\n",
              "      <th>petal_length_er</th>\n",
              "      <th>petal_width_er</th>\n",
              "    </tr>\n",
              "  </thead>\n",
              "  <tbody>\n",
              "    <tr>\n",
              "      <th>0</th>\n",
              "      <td>5.1</td>\n",
              "      <td>3.5</td>\n",
              "      <td>1.4</td>\n",
              "      <td>0.2</td>\n",
              "      <td>setosa</td>\n",
              "      <td>0.51</td>\n",
              "      <td>0.35</td>\n",
              "      <td>0.14</td>\n",
              "      <td>0.02</td>\n",
              "    </tr>\n",
              "    <tr>\n",
              "      <th>1</th>\n",
              "      <td>4.9</td>\n",
              "      <td>3.0</td>\n",
              "      <td>1.4</td>\n",
              "      <td>0.2</td>\n",
              "      <td>setosa</td>\n",
              "      <td>0.49</td>\n",
              "      <td>0.30</td>\n",
              "      <td>0.14</td>\n",
              "      <td>0.02</td>\n",
              "    </tr>\n",
              "    <tr>\n",
              "      <th>2</th>\n",
              "      <td>4.7</td>\n",
              "      <td>3.2</td>\n",
              "      <td>1.3</td>\n",
              "      <td>0.2</td>\n",
              "      <td>setosa</td>\n",
              "      <td>0.47</td>\n",
              "      <td>0.32</td>\n",
              "      <td>0.13</td>\n",
              "      <td>0.02</td>\n",
              "    </tr>\n",
              "    <tr>\n",
              "      <th>3</th>\n",
              "      <td>4.6</td>\n",
              "      <td>3.1</td>\n",
              "      <td>1.5</td>\n",
              "      <td>0.2</td>\n",
              "      <td>setosa</td>\n",
              "      <td>0.46</td>\n",
              "      <td>0.31</td>\n",
              "      <td>0.15</td>\n",
              "      <td>0.02</td>\n",
              "    </tr>\n",
              "    <tr>\n",
              "      <th>4</th>\n",
              "      <td>5.0</td>\n",
              "      <td>3.6</td>\n",
              "      <td>1.4</td>\n",
              "      <td>0.2</td>\n",
              "      <td>setosa</td>\n",
              "      <td>0.50</td>\n",
              "      <td>0.36</td>\n",
              "      <td>0.14</td>\n",
              "      <td>0.02</td>\n",
              "    </tr>\n",
              "  </tbody>\n",
              "</table>\n",
              "</div>\n",
              "      <button class=\"colab-df-convert\" onclick=\"convertToInteractive('df-f0ea6456-83e9-4ef1-842b-254e2b1a8180')\"\n",
              "              title=\"Convert this dataframe to an interactive table.\"\n",
              "              style=\"display:none;\">\n",
              "        \n",
              "  <svg xmlns=\"http://www.w3.org/2000/svg\" height=\"24px\"viewBox=\"0 0 24 24\"\n",
              "       width=\"24px\">\n",
              "    <path d=\"M0 0h24v24H0V0z\" fill=\"none\"/>\n",
              "    <path d=\"M18.56 5.44l.94 2.06.94-2.06 2.06-.94-2.06-.94-.94-2.06-.94 2.06-2.06.94zm-11 1L8.5 8.5l.94-2.06 2.06-.94-2.06-.94L8.5 2.5l-.94 2.06-2.06.94zm10 10l.94 2.06.94-2.06 2.06-.94-2.06-.94-.94-2.06-.94 2.06-2.06.94z\"/><path d=\"M17.41 7.96l-1.37-1.37c-.4-.4-.92-.59-1.43-.59-.52 0-1.04.2-1.43.59L10.3 9.45l-7.72 7.72c-.78.78-.78 2.05 0 2.83L4 21.41c.39.39.9.59 1.41.59.51 0 1.02-.2 1.41-.59l7.78-7.78 2.81-2.81c.8-.78.8-2.07 0-2.86zM5.41 20L4 18.59l7.72-7.72 1.47 1.35L5.41 20z\"/>\n",
              "  </svg>\n",
              "      </button>\n",
              "      \n",
              "  <style>\n",
              "    .colab-df-container {\n",
              "      display:flex;\n",
              "      flex-wrap:wrap;\n",
              "      gap: 12px;\n",
              "    }\n",
              "\n",
              "    .colab-df-convert {\n",
              "      background-color: #E8F0FE;\n",
              "      border: none;\n",
              "      border-radius: 50%;\n",
              "      cursor: pointer;\n",
              "      display: none;\n",
              "      fill: #1967D2;\n",
              "      height: 32px;\n",
              "      padding: 0 0 0 0;\n",
              "      width: 32px;\n",
              "    }\n",
              "\n",
              "    .colab-df-convert:hover {\n",
              "      background-color: #E2EBFA;\n",
              "      box-shadow: 0px 1px 2px rgba(60, 64, 67, 0.3), 0px 1px 3px 1px rgba(60, 64, 67, 0.15);\n",
              "      fill: #174EA6;\n",
              "    }\n",
              "\n",
              "    [theme=dark] .colab-df-convert {\n",
              "      background-color: #3B4455;\n",
              "      fill: #D2E3FC;\n",
              "    }\n",
              "\n",
              "    [theme=dark] .colab-df-convert:hover {\n",
              "      background-color: #434B5C;\n",
              "      box-shadow: 0px 1px 3px 1px rgba(0, 0, 0, 0.15);\n",
              "      filter: drop-shadow(0px 1px 2px rgba(0, 0, 0, 0.3));\n",
              "      fill: #FFFFFF;\n",
              "    }\n",
              "  </style>\n",
              "\n",
              "      <script>\n",
              "        const buttonEl =\n",
              "          document.querySelector('#df-f0ea6456-83e9-4ef1-842b-254e2b1a8180 button.colab-df-convert');\n",
              "        buttonEl.style.display =\n",
              "          google.colab.kernel.accessAllowed ? 'block' : 'none';\n",
              "\n",
              "        async function convertToInteractive(key) {\n",
              "          const element = document.querySelector('#df-f0ea6456-83e9-4ef1-842b-254e2b1a8180');\n",
              "          const dataTable =\n",
              "            await google.colab.kernel.invokeFunction('convertToInteractive',\n",
              "                                                     [key], {});\n",
              "          if (!dataTable) return;\n",
              "\n",
              "          const docLinkHtml = 'Like what you see? Visit the ' +\n",
              "            '<a target=\"_blank\" href=https://colab.research.google.com/notebooks/data_table.ipynb>data table notebook</a>'\n",
              "            + ' to learn more about interactive tables.';\n",
              "          element.innerHTML = '';\n",
              "          dataTable['output_type'] = 'display_data';\n",
              "          await google.colab.output.renderOutput(dataTable, element);\n",
              "          const docLink = document.createElement('div');\n",
              "          docLink.innerHTML = docLinkHtml;\n",
              "          element.appendChild(docLink);\n",
              "        }\n",
              "      </script>\n",
              "    </div>\n",
              "  </div>\n",
              "  "
            ]
          },
          "metadata": {},
          "execution_count": 43
        }
      ]
    },
    {
      "cell_type": "code",
      "metadata": {
        "id": "XYNK4UqPzGMg",
        "outputId": "dc10ebe8-f3d5-4a5c-dabe-f2709d988293",
        "colab": {
          "base_uri": "https://localhost:8080/",
          "height": 0
        }
      },
      "source": [
        "fig, ax=plt.subplots()\n",
        "ax.errorbar(data.sepal_length,  data.petal_width,\n",
        "            xerr= data.sepal_length_er, yerr=data.petal_width_er, fmt='o') \n",
        "ax.set(xlabel='Sepal Length', ylabel='Petal width') "
      ],
      "execution_count": 44,
      "outputs": [
        {
          "output_type": "execute_result",
          "data": {
            "text/plain": [
              "[Text(0, 0.5, 'Petal width'), Text(0.5, 0, 'Sepal Length')]"
            ]
          },
          "metadata": {},
          "execution_count": 44
        },
        {
          "output_type": "display_data",
          "data": {
            "text/plain": [
              "<Figure size 432x288 with 1 Axes>"
            ],
            "image/png": "[encoded data removed]"
          },
          "metadata": {
            "needs_background": "light"
          }
        }
      ]
    },
    {
      "cell_type": "markdown",
      "source": [
        "💪 Exercise: increase the size of the uncertainty bars"
      ],
      "metadata": {
        "id": "FCZ3fKZgtMHJ"
      }
    },
    {
      "cell_type": "markdown",
      "metadata": {
        "id": "sbNe511AzGMh"
      },
      "source": [
        "- 1D-Histograms"
      ]
    },
    {
      "cell_type": "code",
      "metadata": {
        "id": "c83HTZIZzGMh",
        "outputId": "df229d8c-a88d-4752-dc02-9a135625e915",
        "colab": {
          "base_uri": "https://localhost:8080/",
          "height": 0
        }
      },
      "source": [
        "fig, ax=plt.subplots() \n",
        "binedges=ax.hist(data.sepal_length) \n",
        "ax.set(xlabel='Sepal Length', ylabel='Number') "
      ],
      "execution_count": 45,
      "outputs": [
        {
          "output_type": "execute_result",
          "data": {
            "text/plain": [
              "[Text(0, 0.5, 'Number'), Text(0.5, 0, 'Sepal Length')]"
            ]
          },
          "metadata": {},
          "execution_count": 45
        },
        {
          "output_type": "display_data",
          "data": {
            "text/plain": [
              "<Figure size 432x288 with 1 Axes>"
            ],
            "image/png": "[encoded data removed]"
          },
          "metadata": {
            "needs_background": "light"
          }
        }
      ]
    },
    {
      "cell_type": "code",
      "metadata": {
        "id": "axg1gAKzzGMi",
        "outputId": "68e83317-b767-40be-ed18-2ee0554c7c78",
        "colab": {
          "base_uri": "https://localhost:8080/"
        }
      },
      "source": [
        "#returns the number of object per bin bins and bin edges and BarContainer object\n",
        "binedges"
      ],
      "execution_count": 46,
      "outputs": [
        {
          "output_type": "execute_result",
          "data": {
            "text/plain": [
              "(array([ 9., 23., 14., 27., 16., 26., 18.,  6.,  5.,  6.]),\n",
              " array([4.3 , 4.66, 5.02, 5.38, 5.74, 6.1 , 6.46, 6.82, 7.18, 7.54, 7.9 ]),\n",
              " <a list of 10 Patch objects>)"
            ]
          },
          "metadata": {},
          "execution_count": 46
        }
      ]
    },
    {
      "cell_type": "markdown",
      "source": [
        "💪 Exercise: change the number of bins, is this a better plot?"
      ],
      "metadata": {
        "id": "t-1cchSOtTTU"
      }
    },
    {
      "cell_type": "markdown",
      "metadata": {
        "id": "CX5KQ5VlzGMk"
      },
      "source": [
        "- 2D-Histograms"
      ]
    },
    {
      "cell_type": "code",
      "metadata": {
        "id": "gNrF3TRrzGMk",
        "outputId": "54eac73f-0346-40e3-f743-8a9be914ecd4",
        "colab": {
          "base_uri": "https://localhost:8080/",
          "height": 0
        }
      },
      "source": [
        "#same syntax as 1d-histograms\n",
        "fig, ax=plt.subplots() \n",
        "h=ax.hist2d(data.sepal_length, data.petal_width)\n",
        "ax.set(xlabel='Sepal Length', ylabel='Sepal width')\n",
        "#we can add a color bar \n",
        "cbar=fig.colorbar(h[-1], ax=ax, orientation='vertical')\n",
        "cbar.ax.set(ylabel='Number ')"
      ],
      "execution_count": 47,
      "outputs": [
        {
          "output_type": "execute_result",
          "data": {
            "text/plain": [
              "[Text(0, 0.5, 'Number ')]"
            ]
          },
          "metadata": {},
          "execution_count": 47
        },
        {
          "output_type": "display_data",
          "data": {
            "text/plain": [
              "<Figure size 432x288 with 2 Axes>"
            ],
            "image/png": "[encoded data removed]"
          },
          "metadata": {
            "needs_background": "light"
          }
        }
      ]
    },
    {
      "cell_type": "markdown",
      "source": [
        "💪 Exercise: adjust the number of bins, what's the optimal number of bins ?"
      ],
      "metadata": {
        "id": "gWIQfn0Otc1w"
      }
    },
    {
      "cell_type": "markdown",
      "metadata": {
        "id": "prrYZyhFzGMl"
      },
      "source": [
        "#### Part 2. Using Colors \n",
        "\n",
        "Let's subdivide our data set by species \n",
        "\n"
      ]
    },
    {
      "cell_type": "markdown",
      "source": [
        "How many species of flowers are there in this set?\n"
      ],
      "metadata": {
        "id": "347pUfGetoW0"
      }
    },
    {
      "cell_type": "code",
      "metadata": {
        "id": "W3a3LByrzGMm",
        "outputId": "8232794d-83ca-408e-bb6a-aff418cac57d",
        "colab": {
          "base_uri": "https://localhost:8080/"
        }
      },
      "source": [
        "np.unique(data.species) #use numpy (another python library)"
      ],
      "execution_count": 48,
      "outputs": [
        {
          "output_type": "execute_result",
          "data": {
            "text/plain": [
              "array(['setosa', 'versicolor', 'virginica'], dtype=object)"
            ]
          },
          "metadata": {},
          "execution_count": 48
        }
      ]
    },
    {
      "cell_type": "markdown",
      "source": [
        "We can split our pandas dataframe into three dataframes and plot them separately with three different colors"
      ],
      "metadata": {
        "id": "pQYo4FY7tqu3"
      }
    },
    {
      "cell_type": "code",
      "metadata": {
        "id": "NmpMc6YKzGMn"
      },
      "source": [
        "setosa_data=data[data.species=='setosa']\n",
        "virginica_data=data[data.species== 'virginica']\n",
        "versicolor_data=data[data.species=='versicolor']"
      ],
      "execution_count": 49,
      "outputs": []
    },
    {
      "cell_type": "code",
      "metadata": {
        "id": "TVFrH-3RzGMn",
        "outputId": "99ca87ee-8fbb-400d-ed39-a1860880f0e4",
        "colab": {
          "base_uri": "https://localhost:8080/",
          "height": 0
        }
      },
      "source": [
        "fig, ax=plt.subplots() \n",
        "\n",
        "ax.scatter(setosa_data.sepal_length, setosa_data.petal_width,\\\n",
        "           color='blue', label='setosa') \n",
        "\n",
        "ax.scatter(virginica_data.sepal_length, virginica_data.petal_width,\n",
        "            color='red', label='virginica') \n",
        "\n",
        "ax.scatter(versicolor_data.sepal_length, versicolor_data.petal_width, \n",
        "           color='black', label='versicolor') \n",
        "\n",
        "ax.set(xlabel='Sepal Length', ylabel='Petal width') \n",
        "#add a legend\n",
        "legnd=ax.legend() "
      ],
      "execution_count": 50,
      "outputs": [
        {
          "output_type": "display_data",
          "data": {
            "text/plain": [
              "<Figure size 432x288 with 1 Axes>"
            ],
            "image/png": "[encoded data removed]"
          },
          "metadata": {
            "needs_background": "light"
          }
        }
      ]
    },
    {
      "cell_type": "markdown",
      "source": [
        "💪 Exercise: plot histograms of sepal length for these three species"
      ],
      "metadata": {
        "id": "vFxE9cJMujs3"
      }
    },
    {
      "cell_type": "markdown",
      "metadata": {
        "id": "Eaj0hCeOzGMo"
      },
      "source": [
        "Numerical colors and colormaps <br>\n",
        "https://matplotlib.org/stable/tutorials/colors/colormaps.html\n",
        "\n",
        "Sometimes colors can be used to represent a new dimension of the data\n"
      ]
    },
    {
      "cell_type": "code",
      "metadata": {
        "id": "qmGV71pgzGMp",
        "outputId": "5db5b059-2216-4dba-9e21-e26f6c535465",
        "colab": {
          "base_uri": "https://localhost:8080/",
          "height": 0
        }
      },
      "source": [
        "fig, ax=plt.subplots() \n",
        "c=ax.scatter(data.sepal_length, data.petal_width,\\\n",
        "           c=data.sepal_width.values, cmap='coolwarm') \n",
        "ax.set(xlabel='Sepal Length', ylabel='Petal width') \n",
        "cbar=plt.colorbar(c)\n",
        "cbar.ax.set(ylabel='Sepal width ')"
      ],
      "execution_count": 51,
      "outputs": [
        {
          "output_type": "execute_result",
          "data": {
            "text/plain": [
              "[Text(0, 0.5, 'Sepal width ')]"
            ]
          },
          "metadata": {},
          "execution_count": 51
        },
        {
          "output_type": "display_data",
          "data": {
            "text/plain": [
              "<Figure size 432x288 with 2 Axes>"
            ],
            "image/png": "[encoded data removed]"
          },
          "metadata": {
            "needs_background": "light"
          }
        }
      ]
    },
    {
      "cell_type": "markdown",
      "metadata": {
        "id": "XoCWb-QjzGMp"
      },
      "source": [
        "#### Part 3. Subplots \n",
        "\n",
        "Subplots are useful for combining multiple plots in one figure <br>\n",
        "Here is how I typically use them\n",
        "\n",
        "Link to documentation\n",
        "https://matplotlib.org/stable/api/_as_gen/matplotlib.pyplot.subplots.html"
      ]
    },
    {
      "cell_type": "code",
      "metadata": {
        "id": "-O4LD6v3zGMq",
        "outputId": "bf2a8a54-7d00-46a9-eba0-27cdffd9445a",
        "colab": {
          "base_uri": "https://localhost:8080/",
          "height": 297
        }
      },
      "source": [
        "fig, ax=plt.subplots(ncols=2, figsize=(10, 4))  #I'm also adjusting the size of the figure\n",
        "#ax is now a list of 2 axes objects\n",
        "ax[0].scatter(data.sepal_length, data.petal_width) \n",
        "ax[0].set(xlabel='Sepal Length', ylabel='Petal width') \n",
        "\n",
        "ax[1].scatter(data.petal_length, data.sepal_width) \n",
        "ax[1].set(xlabel='Petal Length', ylabel='Sepal width')\n",
        "\n",
        "plt.tight_layout()#command to clean up"
      ],
      "execution_count": 52,
      "outputs": [
        {
          "output_type": "display_data",
          "data": {
            "text/plain": [
              "<Figure size 720x288 with 2 Axes>"
            ],
            "image/png": "[encoded data removed]"
          },
          "metadata": {
            "needs_background": "light"
          }
        }
      ]
    },
    {
      "cell_type": "markdown",
      "source": [
        "💪 Exercise: do a 4 by 4 subplots and plot every combination of columns"
      ],
      "metadata": {
        "id": "krzbkIvku3qV"
      }
    },
    {
      "cell_type": "markdown",
      "metadata": {
        "id": "DqKRpeRWzGMr"
      },
      "source": [
        "#### Part 4. Styling, ticks, grids, fontsize etc.\n",
        "\n",
        "Let's add ticks and a grid"
      ]
    },
    {
      "cell_type": "code",
      "metadata": {
        "id": "gEDa2eILzGMr",
        "outputId": "eaed1de3-7eee-495d-c627-dc66a635a9b8",
        "colab": {
          "base_uri": "https://localhost:8080/",
          "height": 279
        }
      },
      "source": [
        "fig, ax=plt.subplots() \n",
        "\n",
        "ax.scatter(setosa_data.sepal_length, setosa_data.petal_width,\\\n",
        "           color='blue', label='setosa') \n",
        "\n",
        "ax.scatter(virginica_data.sepal_length, virginica_data.petal_width,\n",
        "            color='red', label='virginica') \n",
        "\n",
        "ax.scatter(versicolor_data.sepal_length, versicolor_data.petal_width, \n",
        "           color='black', label='versicolor') \n",
        "\n",
        "ax.set(xlabel='Sepal Length', ylabel='Pepal width') \n",
        "\n",
        "#add a legend\n",
        "legnd=ax.legend() \n",
        "\n",
        "#add minorticks\n",
        "ax.minorticks_on()\n",
        "#add grid on major ticks\n",
        "ax.grid()"
      ],
      "execution_count": 53,
      "outputs": [
        {
          "output_type": "display_data",
          "data": {
            "text/plain": [
              "<Figure size 432x288 with 1 Axes>"
            ],
            "image/png": "[encoded data removed]"
          },
          "metadata": {
            "needs_background": "light"
          }
        }
      ]
    },
    {
      "cell_type": "markdown",
      "metadata": {
        "id": "JKa5F3GezGMs"
      },
      "source": [
        "Using colors is not always the best thing to do, it can be misleading e.g our interperation of \"red\" vs \"blue\". <br>\n",
        "It's better to visualize every plot in greyscale first then add colors later"
      ]
    },
    {
      "cell_type": "code",
      "metadata": {
        "id": "emKw1_SSzGMs",
        "outputId": "aba5d709-f1d7-4ff7-d382-db8103c6544b",
        "colab": {
          "base_uri": "https://localhost:8080/",
          "height": 225
        }
      },
      "source": [
        "fig, ax=plt.subplots(ncols=2, figsize=(10, 3)) \n",
        "############################ SCATTER PLOTS ###################################\n",
        "ax[0].scatter(setosa_data.sepal_length, setosa_data.petal_width, label='setosa',  marker='o', color='None', edgecolor='black', s=100)\n",
        "ax[0].scatter(virginica_data.sepal_length, virginica_data.petal_width,label='virginica',  marker='+', color='black', edgecolor='black', s=100)\n",
        "ax[0].scatter(versicolor_data.sepal_length, versicolor_data.petal_width, label='versicolor', color='grey', marker='^', edgecolor='grey', s=100)\n",
        "ax[0].set(xlabel='Sepal Length', ylabel='Petal width') \n",
        "############################ HISTOGRAMS ###################################\n",
        "ax[1].hist(setosa_data.sepal_length, histtype='step', lw=4, color='black', label='setosa')\n",
        "ax[1].hist(virginica_data.sepal_length,  histtype='step', lw=4, linestyle='--', color='black', label='virginica')\n",
        "ax[1].hist(versicolor_data.sepal_length,  histtype='step', lw=4, color='grey',label='versicolor')\n",
        "ax[1].set(xlabel='Sepal Length', ylabel='Number') \n",
        "for a in ax:\n",
        "    #add a legend add legend and grid for both axes\n",
        "    legnd=a.legend()\n",
        "    a.minorticks_on()\n",
        "    a.grid()"
      ],
      "execution_count": 54,
      "outputs": [
        {
          "output_type": "display_data",
          "data": {
            "text/plain": [
              "<Figure size 720x216 with 2 Axes>"
            ],
            "image/png": "[encoded data removed]"
          },
          "metadata": {
            "needs_background": "light"
          }
        }
      ]
    },
    {
      "cell_type": "markdown",
      "metadata": {
        "id": "yOoeAEK_zGMt"
      },
      "source": [
        "There are some more elegant matploltib default plotting styles"
      ]
    },
    {
      "cell_type": "code",
      "metadata": {
        "id": "bxOsqIprzGMt",
        "outputId": "02278316-b713-4a32-84df-67dc00a205af",
        "colab": {
          "base_uri": "https://localhost:8080/",
          "height": 225
        }
      },
      "source": [
        "#this command applies the grayscale style in this cell\n",
        "with plt.style.context(\"grayscale\"): \n",
        "    fig, ax=plt.subplots(ncols=2, figsize=(10, 3)) \n",
        "    ############################ SCATTER PLOTS ###################################\n",
        "    ax[0].scatter(setosa_data.sepal_length, setosa_data.petal_width,label='setosa',  marker='o', color='None', edgecolor='black', s=100)\n",
        "    ax[0].scatter(virginica_data.sepal_length, virginica_data.petal_width,label='virginica',  marker='+', color='black', edgecolor='black', s=100)\n",
        "    ax[0].scatter(versicolor_data.sepal_length, versicolor_data.petal_width, label='versicolor', color='grey', marker='^', edgecolor='grey', s=100)\n",
        "    ax[0].set(xlabel='Sepal Length', ylabel='Petal width') \n",
        "    ############################ HISTOGRAMS ###################################\n",
        "    ax[1].hist(setosa_data.sepal_length, histtype='step', lw=4, color='black', label='setosa')\n",
        "    ax[1].hist(virginica_data.sepal_length,  histtype='step', lw=4, linestyle='--', color='black', label='virginica')\n",
        "    ax[1].hist(versicolor_data.sepal_length,  histtype='step', lw=4, color='grey', label='versicolor')\n",
        "    ax[1].set(xlabel='Sepal Length', ylabel='Number') \n",
        "    for a in ax:\n",
        "        #add a legend add legend and grid for both axes\n",
        "        legnd=a.legend()\n",
        "        a.minorticks_on()"
      ],
      "execution_count": 55,
      "outputs": [
        {
          "output_type": "display_data",
          "data": {
            "text/plain": [
              "<Figure size 720x216 with 2 Axes>"
            ],
            "image/png": "[encoded data removed]"
          },
          "metadata": {}
        }
      ]
    },
    {
      "cell_type": "code",
      "metadata": {
        "id": "wlwTBTGQzGMu",
        "outputId": "8ebc7da3-23e2-4e38-bfe0-05b670ce859d",
        "colab": {
          "base_uri": "https://localhost:8080/",
          "height": 245
        }
      },
      "source": [
        "#five thirty eight style \n",
        "with plt.style.context(\"fivethirtyeight\"):\n",
        "    fig, ax=plt.subplots(ncols=2, figsize=(10, 3)) \n",
        "    ############################ SCATTER PLOTS ###################################\n",
        "    ax[0].scatter(setosa_data.sepal_length, setosa_data.petal_width, label='setosa',  marker='o', color='None', edgecolor='black', s=100)\n",
        "    ax[0].scatter(virginica_data.sepal_length, virginica_data.petal_width, label='virginica',  marker='+', color='red', edgecolor='black', s=100)\n",
        "    ax[0].scatter(versicolor_data.sepal_length, versicolor_data.petal_width, label='versicolor', color='blue', marker='^', edgecolor='grey', s=100)\n",
        "    ax[0].set(xlabel='Sepal Length', ylabel='Petal width') \n",
        "    ############################ HISTOGRAMS ###################################\n",
        "    ax[1].hist(setosa_data.sepal_length, histtype='step', lw=4, color='black', label='setosa')\n",
        "    ax[1].hist(virginica_data.sepal_length,  histtype='step', lw=4, linestyle='--', color='red', label='virginica')\n",
        "    ax[1].hist(versicolor_data.sepal_length,  histtype='step', lw=4, color='blue', label='versicolor')\n",
        "    ax[1].set(xlabel='Sepal Length', ylabel='Number') \n",
        "    for a in ax:\n",
        "        #add a legend add legend and grid for both axes\n",
        "        legnd=a.legend()\n",
        "        a.minorticks_on()"
      ],
      "execution_count": 56,
      "outputs": [
        {
          "output_type": "display_data",
          "data": {
            "text/plain": [
              "<Figure size 720x216 with 2 Axes>"
            ],
            "image/png": "[encoded data removed]"
          },
          "metadata": {}
        }
      ]
    },
    {
      "cell_type": "markdown",
      "metadata": {
        "id": "nqgPwpkWzGMv"
      },
      "source": [
        "### Part 5 Advanced Plotting using Seaborn & Arviz \n",
        "\n",
        "Seaborn Gallery https://seaborn.pydata.org/examples/index.html <br>\n",
        "Arviz Gallery https://arviz-devs.github.io/arviz/examples/index.html\n",
        "\n",
        "Seaborn aesthetics https://seaborn.pydata.org/tutorial/aesthetics.html\n",
        "\n"
      ]
    },
    {
      "cell_type": "markdown",
      "metadata": {
        "id": "kFVVUW3vzGMv"
      },
      "source": [
        "- Box plots"
      ]
    },
    {
      "cell_type": "code",
      "metadata": {
        "id": "ZOAJyLDczGMw",
        "outputId": "9233d147-e16b-44b2-ef34-6a831f9d5151",
        "colab": {
          "base_uri": "https://localhost:8080/",
          "height": 346
        }
      },
      "source": [
        "sns.set_theme(style=\"ticks\")\n",
        "# Initialize the figure with a logarithmic x axis\n",
        "f, ax = plt.subplots(figsize=(7, 5))\n",
        "ax.set_xscale(\"log\")\n",
        "# Load the example planets dataset (different from the iris dataset)\n",
        "#source https://exoplanets.nasa.gov/discovery/exoplanet-catalog/\n",
        "planets = sns.load_dataset(\"planets\")\n",
        "# Plot the orbital period with horizontal boxes\n",
        "sns.boxplot(x=\"distance\", y=\"method\", data=planets, whis=[0, 100], width=.6, palette=\"vlag\")\n",
        "# Add in points to show each observation\n",
        "sns.stripplot(x=\"distance\", y=\"method\", data=planets, size=4, color=\".3\", linewidth=0)\n",
        "# Tweak the visual presentation\n",
        "ax.xaxis.grid(True)\n",
        "ax.set(ylabel=\"\", xlabel='Distance (lightyears)')\n",
        "sns.despine(trim=True, left=True)"
      ],
      "execution_count": 57,
      "outputs": [
        {
          "output_type": "display_data",
          "data": {
            "text/plain": [
              "<Figure size 504x360 with 1 Axes>"
            ],
            "image/png": "[encoded data removed]"
          },
          "metadata": {}
        }
      ]
    },
    {
      "cell_type": "markdown",
      "metadata": {
        "id": "rPORi7dYzGMw"
      },
      "source": [
        "- Heat maps"
      ]
    },
    {
      "cell_type": "code",
      "metadata": {
        "id": "3niVCahfzGMw",
        "outputId": "b40e43b9-b5ec-4c2d-b37b-6ef0496e30e3",
        "colab": {
          "base_uri": "https://localhost:8080/",
          "height": 411
        }
      },
      "source": [
        "# Load the example flights dataset and convert to long-form\n",
        "flights_long = sns.load_dataset(\"flights\")\n",
        "flights = flights_long.pivot(\"month\", \"year\", \"passengers\")\n",
        "# Draw a heatmap with the numeric values in each cell\n",
        "f, ax = plt.subplots(figsize=(9, 6))\n",
        "sns.heatmap(flights, annot=True, fmt=\"d\", linewidths=.5, ax=ax, cmap='viridis')"
      ],
      "execution_count": 58,
      "outputs": [
        {
          "output_type": "execute_result",
          "data": {
            "text/plain": [
              "<matplotlib.axes._subplots.AxesSubplot at 0x7fd0e87f2350>"
            ]
          },
          "metadata": {},
          "execution_count": 58
        },
        {
          "output_type": "display_data",
          "data": {
            "text/plain": [
              "<Figure size 648x432 with 2 Axes>"
            ],
            "image/png": "[encoded data removed]"
          },
          "metadata": {}
        }
      ]
    },
    {
      "cell_type": "markdown",
      "metadata": {
        "id": "Qd4JefAIzGMx"
      },
      "source": [
        "References: <br>\n",
        "    - Matplotlib documentation <br>\n",
        "    - Seaborn documentation <br> \n",
        "    - Adam Miller: salience with matplotlib https://github.com/LSSTC-DSFP/LSSTC-DSFP-Sessions/blob/master/Session12/Day1/SalienceInMatplotlibSolutions.ipynb <br>\n",
        "    "
      ]
    },
    {
      "cell_type": "markdown",
      "metadata": {
        "id": "Q_zCFWVkzGMx"
      },
      "source": [
        "Links to functions that we will be using in this tutorial: <br>\n",
        "axes.plot https://matplotlib.org/stable/api/_as_gen/matplotlib.axes.Axes.plot.html <br>\n",
        "axes.step https://matplotlib.org/stable/api/_as_gen/matplotlib.axes.Axes.step.html <br>\n",
        "axes.scatter https://matplotlib.org/stable/api/_as_gen/matplotlib.axes.Axes.scatter.html <br>\n",
        "axes.errorbar https://matplotlib.org/stable/api/_as_gen/matplotlib.axes.Axes.errorbar.html <br>\n",
        "axes.hist https://matplotlib.org/stable/api/_as_gen/matplotlib.axes.Axes.hist.html <br>\n",
        "axes.hist2d https://matplotlib.org/stable/api/_as_gen/matplotlib.axes.Axes.hist2d.html <br>"
      ]
    },
    {
      "cell_type": "code",
      "metadata": {
        "id": "q7idD3H6zGM1"
      },
      "source": [
        ""
      ],
      "execution_count": 58,
      "outputs": []
    }
  ]
}