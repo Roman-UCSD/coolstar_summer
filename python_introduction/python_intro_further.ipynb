{
 "cells": [
  {
   "cell_type": "markdown",
   "metadata": {},
   "source": [
    "# Further introduction to Python\n",
    "\n",
    "This notebook includes a few examples demonstrating basic features of Python that did not make it into the main introduction document. Each section can be ran independently of every other."
   ]
  },
  {
   "cell_type": "markdown",
   "metadata": {},
   "source": [
    "## Function arguments"
   ]
  },
  {
   "cell_type": "markdown",
   "metadata": {},
   "source": [
    "In the main introduction document, the following square solver function was used as an example:"
   ]
  },
  {
   "cell_type": "code",
   "execution_count": 1,
   "metadata": {},
   "outputs": [
    {
     "name": "stdout",
     "output_type": "stream",
     "text": [
      "(0j, (-1+0j)) ((8.659560562354934e-17+1.4142135623730951j), (-8.659560562354934e-17-1.4142135623730951j))\n"
     ]
    }
   ],
   "source": [
    "def solve_quadratic(a, b, c):  \n",
    "    \"\"\"Solves a*x**2 + b*x + c = 0 and returns both roots\"\"\"  \n",
    "    d = b**2.0 - 4 * a * c  \n",
    "    d = complex(d)  \n",
    "    x1 = (-b + d**0.5) / (2*a)  \n",
    "    x2 = (-b - d**0.5) / (2*a)  \n",
    "    return x1, x2  \n",
    "\n",
    "# Test it out\n",
    "print(solve_quadratic(1, 1, 0), solve_quadratic(1, 0, 2))"
   ]
  },
  {
   "cell_type": "markdown",
   "metadata": {},
   "source": [
    "Note that the arguments in the call are provided in the same order as in the definition and all three arguments are present. An attempt to call the function with a different number of arguments would result in an error:"
   ]
  },
  {
   "cell_type": "code",
   "execution_count": 2,
   "metadata": {},
   "outputs": [
    {
     "ename": "TypeError",
     "evalue": "solve_quadratic() missing 1 required positional argument: 'c'",
     "output_type": "error",
     "traceback": [
      "\u001b[1;31m---------------------------------------------------------------------------\u001b[0m",
      "\u001b[1;31mTypeError\u001b[0m                                 Traceback (most recent call last)",
      "\u001b[1;32m<ipython-input-2-2a30c93d89dc>\u001b[0m in \u001b[0;36m<module>\u001b[1;34m()\u001b[0m\n\u001b[1;32m----> 1\u001b[1;33m \u001b[0msolve_quadratic\u001b[0m\u001b[1;33m(\u001b[0m\u001b[1;36m1\u001b[0m\u001b[1;33m,\u001b[0m \u001b[1;36m1\u001b[0m\u001b[1;33m)\u001b[0m \u001b[1;31m# ERROR!\u001b[0m\u001b[1;33m\u001b[0m\u001b[0m\n\u001b[0m",
      "\u001b[1;31mTypeError\u001b[0m: solve_quadratic() missing 1 required positional argument: 'c'"
     ]
    }
   ],
   "source": [
    "solve_quadratic(1, 1) # ERROR!"
   ]
  },
  {
   "cell_type": "markdown",
   "metadata": {},
   "source": [
    "This can be avoided by providing default values for the arguments. For example, we could update the definition of the function slightly as follows:"
   ]
  },
  {
   "cell_type": "code",
   "execution_count": 3,
   "metadata": {},
   "outputs": [],
   "source": [
    "def solve_quadratic(a, b, c = 0):  \n",
    "    \"\"\"Solves a*x**2 + b*x + c = 0 and returns both roots\"\"\"  \n",
    "    d = b**2.0 - 4 * a * c  \n",
    "    d = complex(d)  \n",
    "    x1 = (-b + d**0.5) / (2*a)  \n",
    "    x2 = (-b - d**0.5) / (2*a)  \n",
    "    return x1, x2"
   ]
  },
  {
   "cell_type": "markdown",
   "metadata": {},
   "source": [
    "Now, the third argument is optional and will default to $0$ when not provided. For example:"
   ]
  },
  {
   "cell_type": "code",
   "execution_count": 4,
   "metadata": {},
   "outputs": [
    {
     "data": {
      "text/plain": [
       "(0j, (-1+0j))"
      ]
     },
     "execution_count": 4,
     "metadata": {},
     "output_type": "execute_result"
    }
   ],
   "source": [
    "solve_quadratic(1, 1) # ERROR!"
   ]
  },
  {
   "cell_type": "markdown",
   "metadata": {},
   "source": [
    "When calling functions, it is also possible to specify arguments by name instead of giving them in the particular order. For example:"
   ]
  },
  {
   "cell_type": "code",
   "execution_count": 5,
   "metadata": {},
   "outputs": [
    {
     "data": {
      "text/plain": [
       "(0j, (-1+0j))"
      ]
     },
     "execution_count": 5,
     "metadata": {},
     "output_type": "execute_result"
    }
   ],
   "source": [
    "solve_quadratic(a = 1, b = 1, c = 0)"
   ]
  },
  {
   "cell_type": "markdown",
   "metadata": {},
   "source": [
    "This notation is not only much easier to read (the reader no longer needs to know the exact definition of the function to understand the call), but the arguments may also be provided out of order such as:"
   ]
  },
  {
   "cell_type": "code",
   "execution_count": 6,
   "metadata": {},
   "outputs": [
    {
     "data": {
      "text/plain": [
       "(0j, (-1+0j))"
      ]
     },
     "execution_count": 6,
     "metadata": {},
     "output_type": "execute_result"
    }
   ],
   "source": [
    "solve_quadratic(c = 0, b = 1, a = 1)"
   ]
  },
  {
   "cell_type": "markdown",
   "metadata": {},
   "source": [
    "It is also possible to combine the two notations as long as all ordered arguments precede all named arguments:"
   ]
  },
  {
   "cell_type": "code",
   "execution_count": 7,
   "metadata": {},
   "outputs": [
    {
     "data": {
      "text/plain": [
       "(0j, (-1+0j))"
      ]
     },
     "execution_count": 7,
     "metadata": {},
     "output_type": "execute_result"
    }
   ],
   "source": [
    "solve_quadratic(1, c = 0, b = 1)"
   ]
  },
  {
   "cell_type": "markdown",
   "metadata": {},
   "source": [
    "Another particularly elegant feature in Python is called *arbitrary argument lists*. It allows us to define functions that accept a variable number of arguments. Have a look at the example below and try to understand what is going on."
   ]
  },
  {
   "cell_type": "code",
   "execution_count": 8,
   "metadata": {},
   "outputs": [
    {
     "name": "stdout",
     "output_type": "stream",
     "text": [
      "You passed 0 argument(s)\n",
      "Here they all are: ()\n",
      "You passed 1 argument(s)\n",
      "Here they all are: (1,)\n",
      "The first argument is: 1\n",
      "You passed 2 argument(s)\n",
      "Here they all are: (1, 2)\n",
      "The first argument is: 1\n",
      "You passed 3 argument(s)\n",
      "Here they all are: (1, 2, 3)\n",
      "The first argument is: 1\n",
      "You passed 4 argument(s)\n",
      "Here they all are: (1, 2, 3, 4)\n",
      "The first argument is: 1\n"
     ]
    }
   ],
   "source": [
    "# \"*\" means that this function will work with any set of arguments. Within the function, they will be available as\n",
    "# items of the list called \"numbers\" (well, technically this is a tuple; not a list)\n",
    "def my_func(*numbers):\n",
    "    \"\"\" Prints all passed arguments \"\"\"\n",
    "    print(\"You passed {} argument(s)\".format(len(numbers)))  # format() is a method of type str that inserts\n",
    "                                                             # the value provided as its argument in place of\n",
    "                                                             # {}.\n",
    "    print(\"Here they all are:\", numbers)\n",
    "    if len(numbers) != 0:\n",
    "        print(\"The first argument is:\", numbers[0])\n",
    "\n",
    "# Now we can feed any arguments we want into this function and it will print all of them back\n",
    "my_func()\n",
    "my_func(1)\n",
    "my_func(1, 2)\n",
    "my_func(1, 2, 3)\n",
    "\n",
    "# The reverse can also be done. It is possible to save all arguments to be passed into a function as a list\n",
    "# and use \"*\" to \"unpack\" them\n",
    "my_list = [1, 2, 3, 4]\n",
    "my_func(*my_list)"
   ]
  },
  {
   "cell_type": "markdown",
   "metadata": {},
   "source": [
    "The function `my_func()` takes an arbitrary number of arguments that can be accessed through the variable `numbers` within the body of the function. In this case, all arguments passed to the function must be ordered and not named. There is however a way to use named arguments with this feature too: see the official documentation ([https://docs.python.org/3/tutorial/controlflow.html](https://docs.python.org/3/tutorial/controlflow.html), section 4.7.4) to find out!"
   ]
  },
  {
   "cell_type": "markdown",
   "metadata": {},
   "source": [
    "## Slicing"
   ]
  },
  {
   "cell_type": "markdown",
   "metadata": {},
   "source": [
    "To demonstrate slicing, let's create a simple list:"
   ]
  },
  {
   "cell_type": "code",
   "execution_count": 1,
   "metadata": {},
   "outputs": [],
   "source": [
    "my_list = ['James Holden', 'Joe Miller', 'Alex Kamal', 'Naomi Nagata', 'Amos Burton']"
   ]
  },
  {
   "cell_type": "markdown",
   "metadata": {},
   "source": [
    "Any element of the list can be accessed by its numerical index starting with $0$:"
   ]
  },
  {
   "cell_type": "code",
   "execution_count": 2,
   "metadata": {},
   "outputs": [
    {
     "name": "stdout",
     "output_type": "stream",
     "text": [
      "Alex Kamal\n"
     ]
    }
   ],
   "source": [
    "print(my_list[2])"
   ]
  },
  {
   "cell_type": "markdown",
   "metadata": {},
   "source": [
    "*Slicing* allows us to literally *slice* the list into pieces. For example, we may want to get a new list that only contains second through fourth elements of the original list:"
   ]
  },
  {
   "cell_type": "code",
   "execution_count": 3,
   "metadata": {},
   "outputs": [
    {
     "name": "stdout",
     "output_type": "stream",
     "text": [
      "['Alex Kamal', 'Naomi Nagata', 'Amos Burton']\n"
     ]
    }
   ],
   "source": [
    "sliced_list = my_list[2:5]    # 2:5 instead of 2:4 here because the last element in the slice is not included\n",
    "print(sliced_list)"
   ]
  },
  {
   "cell_type": "markdown",
   "metadata": {},
   "source": [
    "Negative indices may be used to count items from the end. For example, the following snippet slices the list such that the first and the last elements are discarded regardless of how long the list is:"
   ]
  },
  {
   "cell_type": "code",
   "execution_count": 4,
   "metadata": {},
   "outputs": [
    {
     "name": "stdout",
     "output_type": "stream",
     "text": [
      "['Joe Miller', 'Alex Kamal', 'Naomi Nagata']\n"
     ]
    }
   ],
   "source": [
    "sliced_list = my_list[1:-1]\n",
    "print(sliced_list)"
   ]
  },
  {
   "cell_type": "markdown",
   "metadata": {},
   "source": [
    "One of the indices in the slice can be omitted in which case the slice would start from the first element or end with the last element."
   ]
  },
  {
   "cell_type": "code",
   "execution_count": 5,
   "metadata": {},
   "outputs": [
    {
     "name": "stdout",
     "output_type": "stream",
     "text": [
      "['Joe Miller', 'Alex Kamal', 'Naomi Nagata', 'Amos Burton']\n"
     ]
    }
   ],
   "source": [
    "sliced_list = my_list[1:]    # Start with second element and until the end\n",
    "print(sliced_list)"
   ]
  },
  {
   "cell_type": "code",
   "execution_count": 6,
   "metadata": {},
   "outputs": [
    {
     "name": "stdout",
     "output_type": "stream",
     "text": [
      "['James Holden', 'Joe Miller', 'Alex Kamal', 'Naomi Nagata']\n"
     ]
    }
   ],
   "source": [
    "sliced_list = my_list[:-1]    # Start with first element and until the penultimate one\n",
    "print(sliced_list)"
   ]
  },
  {
   "cell_type": "markdown",
   "metadata": {},
   "source": [
    "Finally, a third index can be provided to the slice to skip elements throughout:"
   ]
  },
  {
   "cell_type": "code",
   "execution_count": 7,
   "metadata": {},
   "outputs": [
    {
     "name": "stdout",
     "output_type": "stream",
     "text": [
      "['James Holden', 'Alex Kamal', 'Amos Burton']\n",
      "['Joe Miller', 'Naomi Nagata']\n"
     ]
    }
   ],
   "source": [
    "sliced_list = my_list[::2]    # Take odd-numbered elements only\n",
    "print(sliced_list)\n",
    "\n",
    "sliced_list = my_list[1::2]    # Take even-numbered elements only\n",
    "print(sliced_list)"
   ]
  },
  {
   "cell_type": "markdown",
   "metadata": {},
   "source": [
    "NumPy array support the same slicing notation that lists do; however, they also support conditional slicing as demonstrated below:"
   ]
  },
  {
   "cell_type": "code",
   "execution_count": 9,
   "metadata": {},
   "outputs": [
    {
     "name": "stdout",
     "output_type": "stream",
     "text": [
      "[ True  True  True False False]\n",
      "[0 1 2]\n",
      "['Eddard Stark' 'Daenerys Targaryen' 'Jon Snow']\n",
      "[1 2]\n",
      "[1 2]\n",
      "[0 4]\n"
     ]
    }
   ],
   "source": [
    "import numpy as np\n",
    "\n",
    "# Remember that NumPy arrays support automatic iteration (native Python lists do not).\n",
    "# This applies to both arithmetic and logical expressions. For example:\n",
    "my_array = np.array([0, 1, 2, 3, 4])\n",
    "print(my_array < 3)       # Prints    [ True  True  True False False]\n",
    "\n",
    "# The result of such expression is an array of True/False values. This array can\n",
    "# be used to slice other arrays of the same dimension, where the slice will only\n",
    "# contain those elements that correspond to True:\n",
    "print(my_array[my_array < 3])             # Prints [0 1 2]\n",
    "got_characters = np.array(['Eddard Stark', 'Daenerys Targaryen', 'Jon Snow', 'Sansa Stark', 'Theon Greyjoy'])\n",
    "print(got_characters[my_array < 3])       # Prints ['Eddard Stark' 'Daenerys Targaryen' 'Jon Snow']\n",
    "\n",
    "# A caveat concerns \"not\", \"or\" and \"and\" operators. The following will produce an error:\n",
    "print(my_array[(my_array < 3) and (my_array > 0)])    # Error! Comment this out to proceed!\n",
    "\n",
    "# Instead, we need to use np.logical_or(), np.logical_and() and np.logical_not() functions:\n",
    "print(my_array[np.logical_and(my_array < 3, my_array > 0)])    # Prints [1 2]\n",
    "\n",
    "# Most of those have shorthands. Use \"&\" for \"and\" and \"|\" for \"or\", \"~\" for \"not\". E.g.:\n",
    "print(my_array[(my_array < 3) & (my_array > 0)])        # Prints [1 2], again\n",
    "print(my_array[(my_array > 3) | (my_array < 1)])        # Prints [0 4]"
   ]
  },
  {
   "cell_type": "markdown",
   "metadata": {},
   "source": [
    "## Data file handling\n",
    "\n",
    "Python comes with a few low-level built-in functions that can read and write text files, just like any other high-level programming language would. The most essential of those are illustrated in the cell below (with apologies and gratitude to JRR Tolkien):"
   ]
  },
  {
   "cell_type": "code",
   "execution_count": 1,
   "metadata": {},
   "outputs": [
    {
     "name": "stdout",
     "output_type": "stream",
     "text": [
      "One for the Dark Lord on his dark throne\n",
      "In the Land of Mordor where the shadows lie.\n",
      "One for the Dark Lord on his dark throne\n",
      "One ring to rule them all, one ring to find them\n",
      "One ring to bring them all, and in the darkness bind them\n",
      "In the Land of Mordor where the shadows lie\n"
     ]
    }
   ],
   "source": [
    "### File access session 1 ###\n",
    "h = open(\"text.txt\", \"w\")\n",
    "h.write(\"Three rings for the Elven-kings under the sky\\n\")\n",
    "h.write(\"Seven for the Dwarf-lords in their halls of stone\\n\")\n",
    "h.write(\"Nine for mortal men doomed to die\\n\")\n",
    "h.close()\n",
    "\n",
    "\n",
    "### File access session 2 ###\n",
    "h = open(\"text.txt\", \"w\")\n",
    "h.write(\"One for the Dark Lord on his dark throne\\n\")\n",
    "h.write(\"In the Land of Mordor where the shadows lie.\\n\")\n",
    "h.write(\"One for the Dark Lord on his dark throne\\n\")\n",
    "h.close()\n",
    "\n",
    "### File access session 3 ###\n",
    "h = open(\"text.txt\", \"a\")\n",
    "h.write(\"One ring to rule them all, one ring to find them\\n\")\n",
    "h.write(\"One ring to bring them all, and in the darkness bind them\\n\")\n",
    "h.write(\"In the Land of Mordor where the shadows lie\\n\")\n",
    "h.close()\n",
    "\n",
    "### File access session 4 ###\n",
    "h = open(\"text.txt\", \"r\")\n",
    "for text_line in h:\n",
    "    print(text_line, end = '')      # end = '' suppresses automatic line breaks between print calls\n",
    "h.close()"
   ]
  },
  {
   "cell_type": "markdown",
   "metadata": {},
   "source": [
    "At the heart of it all is the `open()` function. It creates a *handler* variable (`h`) that can be used to manipulate the file. It is important that the file is closed at the end of the session to make it accessible to other processes.\n",
    "\n",
    "`open()` accepts a second argument that sets the mode of the session. The full list of possible values can be found [here](https://docs.python.org/3/library/functions.html#open). The snippet above only uses three of them:\n",
    "\n",
    "* `w` means \"Write\". When opened in this mode, the file gets emptied out and all the previous content is lost. If the file does not exist, a new empty file will be created. Since the cell above opens the file in this mode twice, the first three lines of text will be lost and the reader of the file will never know what happened to all the rings. A string of text can be written into a file opened in this mode with the `.write()` method.\n",
    "\n",
    "* `a` means \"Append\". This mode is similar to `w`, but the old content remains. The new content is being added at the end of the file.\n",
    "\n",
    "* `r` means \"Read\". In this mode, the file can only be read. Although one can use `.read()` to do so, the handler object itself (`h`) is iterable, allowing the lines to be extracted automatically in a loop, just like in the example above.\n",
    "\n",
    "`\\n`, when used in a string, adds a line break. Without it, every call of `.write()` would be writing into the same first line of the file.\n",
    "\n",
    "\n",
    "<br>\n",
    "<div class=\"alert alert-info\">\n",
    "\n",
    "<b>FYI:</b> Some of you may know that `\\n` represents a proper line break only on Linux and Mac OS. Windows requires an additional character for this purpose called \"carriage return\", usually represented with `\\r` (i.e., a Windows line break would be `\\r\\n` instead of just `\\n`). This is a direct legacy of old typewriters, which required the carriage to be both shifted down and pulled back before the operator could begin typing a new line.\n",
    "<br><br>\n",
    "Fortunately, we do not need to worry about that here. Python is smart enough to automatically replace `\\n` with `\\r\\n` on Windows and, in our context, it is acceptable to use `\\n` regardless of the operating system in place.\n",
    "</div>"
   ]
  },
  {
   "cell_type": "markdown",
   "metadata": {},
   "source": [
    "NumPy is equipped with a number of routines for reading and writing complicated data structures from and into text files. The most commonly used of those is the pair `np.loadtxt()`/`np.savetxt()`:"
   ]
  },
  {
   "cell_type": "code",
   "execution_count": 2,
   "metadata": {},
   "outputs": [
    {
     "name": "stdout",
     "output_type": "stream",
     "text": [
      "[[1. 2. 3.]\n",
      " [4. 5. 6.]\n",
      " [7. 8. 9.]]\n",
      "-------------------------\n",
      "# Updated comment\n",
      "2.000000000000000000e+00 4.000000000000000000e+00 6.000000000000000000e+00\n",
      "8.000000000000000000e+00 1.000000000000000000e+01 1.200000000000000000e+01\n",
      "1.400000000000000000e+01 1.600000000000000000e+01 1.800000000000000000e+01\n"
     ]
    }
   ],
   "source": [
    "import numpy as np\n",
    "\n",
    "# Use native Python to create a text file\n",
    "h = open(\"text.txt\", \"w\")\n",
    "h.write(\"# Comment, describing what this file is all about\\n\")\n",
    "h.write(\"1 2 3\\n\")\n",
    "h.write(\"4 5 6\\n\")\n",
    "h.write(\"7 8 9\\n\")\n",
    "h.close()\n",
    "\n",
    "# Use NumPy to load it\n",
    "data = np.loadtxt(\"text.txt\")\n",
    "print(data)\n",
    "print(\"-------------------------\")\n",
    "\n",
    "\n",
    "# Update the data\n",
    "data *= 2\n",
    "\n",
    "# Use NumPy to save the updated data\n",
    "np.savetxt('text.txt', data, header = \"Updated comment\")\n",
    "\n",
    "# Use native Python to read the updated file\n",
    "h = open(\"text.txt\", \"r\")\n",
    "for text_line in h:\n",
    "    print(text_line, end = '')\n",
    "h.close()"
   ]
  },
  {
   "cell_type": "markdown",
   "metadata": {},
   "source": [
    "Very often, data will be represented as a table with a fixed number of rows and columns such as in the case above. Every column would represent a quantity and every row would represent a data point. Python allows different columns can be read into different variables with `unpack=True` and selected with `usecols=[...]`. Consider the example below:"
   ]
  },
  {
   "cell_type": "code",
   "execution_count": 3,
   "metadata": {},
   "outputs": [
    {
     "name": "stdout",
     "output_type": "stream",
     "text": [
      "[ 2.  8. 14.]\n",
      "[ 6. 12. 18.]\n"
     ]
    }
   ],
   "source": [
    "column_1, column_3 = np.loadtxt(\"text.txt\", unpack = True, usecols = [0, 2]) # Indexing begins with 0!\n",
    "print(column_1)\n",
    "print(column_3)"
   ]
  },
  {
   "cell_type": "markdown",
   "metadata": {},
   "source": [
    "By default, `np.loadtxt()` assumes that comments are prefixed with `#` and everything that is not a comment or an empty line is the data of interest. It assumes that the columns are separated with whitespace (this includes spaces and tabulation characters) and rows are separated with line breaks (`\\n`). It also assumes that every value is a number and there is an equal number of columns in every row. `np.loadtxt()` has optional arguments that allow us to change some of this behavior; however, `np.loadtxt()` is generally not suitable for loading text files that do not obey a well-defined formatted structure.\n",
    "\n",
    "Real data files may have comments in the beginning and the end of the file without any prefixes, which means that `np.loadtxt()` will not be able to load them right away.\n",
    "\n",
    "Consider the example below that attempts to use `np.loadtxt()` to load a file with an unlabeled comment and fails:"
   ]
  },
  {
   "cell_type": "code",
   "execution_count": 4,
   "metadata": {},
   "outputs": [
    {
     "ename": "IndexError",
     "evalue": "list index out of range",
     "output_type": "error",
     "traceback": [
      "\u001b[1;31m---------------------------------------------------------------------------\u001b[0m",
      "\u001b[1;31mIndexError\u001b[0m                                Traceback (most recent call last)",
      "\u001b[1;32m<ipython-input-4-1c49722c2e53>\u001b[0m in \u001b[0;36m<module>\u001b[1;34m()\u001b[0m\n\u001b[0;32m      9\u001b[0m \u001b[1;33m\u001b[0m\u001b[0m\n\u001b[0;32m     10\u001b[0m \u001b[1;31m# ERROR!\u001b[0m\u001b[1;33m\u001b[0m\u001b[1;33m\u001b[0m\u001b[0m\n\u001b[1;32m---> 11\u001b[1;33m \u001b[0mcolumn_1\u001b[0m\u001b[1;33m,\u001b[0m \u001b[0mcolumn_3\u001b[0m \u001b[1;33m=\u001b[0m \u001b[0mnp\u001b[0m\u001b[1;33m.\u001b[0m\u001b[0mloadtxt\u001b[0m\u001b[1;33m(\u001b[0m\u001b[1;34m\"text.txt\"\u001b[0m\u001b[1;33m,\u001b[0m \u001b[0munpack\u001b[0m \u001b[1;33m=\u001b[0m \u001b[1;32mTrue\u001b[0m\u001b[1;33m,\u001b[0m \u001b[0musecols\u001b[0m \u001b[1;33m=\u001b[0m \u001b[1;33m[\u001b[0m\u001b[1;36m0\u001b[0m\u001b[1;33m,\u001b[0m \u001b[1;36m2\u001b[0m\u001b[1;33m]\u001b[0m\u001b[1;33m)\u001b[0m\u001b[1;33m\u001b[0m\u001b[0m\n\u001b[0m",
      "\u001b[1;32m~\\Anaconda\\envs\\py3\\lib\\site-packages\\numpy\\lib\\npyio.py\u001b[0m in \u001b[0;36mloadtxt\u001b[1;34m(fname, dtype, comments, delimiter, converters, skiprows, usecols, unpack, ndmin, encoding)\u001b[0m\n\u001b[0;32m   1090\u001b[0m         \u001b[1;31m# converting the data\u001b[0m\u001b[1;33m\u001b[0m\u001b[1;33m\u001b[0m\u001b[0m\n\u001b[0;32m   1091\u001b[0m         \u001b[0mX\u001b[0m \u001b[1;33m=\u001b[0m \u001b[1;32mNone\u001b[0m\u001b[1;33m\u001b[0m\u001b[0m\n\u001b[1;32m-> 1092\u001b[1;33m         \u001b[1;32mfor\u001b[0m \u001b[0mx\u001b[0m \u001b[1;32min\u001b[0m \u001b[0mread_data\u001b[0m\u001b[1;33m(\u001b[0m\u001b[0m_loadtxt_chunksize\u001b[0m\u001b[1;33m)\u001b[0m\u001b[1;33m:\u001b[0m\u001b[1;33m\u001b[0m\u001b[0m\n\u001b[0m\u001b[0;32m   1093\u001b[0m             \u001b[1;32mif\u001b[0m \u001b[0mX\u001b[0m \u001b[1;32mis\u001b[0m \u001b[1;32mNone\u001b[0m\u001b[1;33m:\u001b[0m\u001b[1;33m\u001b[0m\u001b[0m\n\u001b[0;32m   1094\u001b[0m                 \u001b[0mX\u001b[0m \u001b[1;33m=\u001b[0m \u001b[0mnp\u001b[0m\u001b[1;33m.\u001b[0m\u001b[0marray\u001b[0m\u001b[1;33m(\u001b[0m\u001b[0mx\u001b[0m\u001b[1;33m,\u001b[0m \u001b[0mdtype\u001b[0m\u001b[1;33m)\u001b[0m\u001b[1;33m\u001b[0m\u001b[0m\n",
      "\u001b[1;32m~\\Anaconda\\envs\\py3\\lib\\site-packages\\numpy\\lib\\npyio.py\u001b[0m in \u001b[0;36mread_data\u001b[1;34m(chunk_size)\u001b[0m\n\u001b[0;32m   1010\u001b[0m                 \u001b[1;32mcontinue\u001b[0m\u001b[1;33m\u001b[0m\u001b[0m\n\u001b[0;32m   1011\u001b[0m             \u001b[1;32mif\u001b[0m \u001b[0musecols\u001b[0m\u001b[1;33m:\u001b[0m\u001b[1;33m\u001b[0m\u001b[0m\n\u001b[1;32m-> 1012\u001b[1;33m                 \u001b[0mvals\u001b[0m \u001b[1;33m=\u001b[0m \u001b[1;33m[\u001b[0m\u001b[0mvals\u001b[0m\u001b[1;33m[\u001b[0m\u001b[0mj\u001b[0m\u001b[1;33m]\u001b[0m \u001b[1;32mfor\u001b[0m \u001b[0mj\u001b[0m \u001b[1;32min\u001b[0m \u001b[0musecols\u001b[0m\u001b[1;33m]\u001b[0m\u001b[1;33m\u001b[0m\u001b[0m\n\u001b[0m\u001b[0;32m   1013\u001b[0m             \u001b[1;32mif\u001b[0m \u001b[0mlen\u001b[0m\u001b[1;33m(\u001b[0m\u001b[0mvals\u001b[0m\u001b[1;33m)\u001b[0m \u001b[1;33m!=\u001b[0m \u001b[0mN\u001b[0m\u001b[1;33m:\u001b[0m\u001b[1;33m\u001b[0m\u001b[0m\n\u001b[0;32m   1014\u001b[0m                 \u001b[0mline_num\u001b[0m \u001b[1;33m=\u001b[0m \u001b[0mi\u001b[0m \u001b[1;33m+\u001b[0m \u001b[0mskiprows\u001b[0m \u001b[1;33m+\u001b[0m \u001b[1;36m1\u001b[0m\u001b[1;33m\u001b[0m\u001b[0m\n",
      "\u001b[1;32m~\\Anaconda\\envs\\py3\\lib\\site-packages\\numpy\\lib\\npyio.py\u001b[0m in \u001b[0;36m<listcomp>\u001b[1;34m(.0)\u001b[0m\n\u001b[0;32m   1010\u001b[0m                 \u001b[1;32mcontinue\u001b[0m\u001b[1;33m\u001b[0m\u001b[0m\n\u001b[0;32m   1011\u001b[0m             \u001b[1;32mif\u001b[0m \u001b[0musecols\u001b[0m\u001b[1;33m:\u001b[0m\u001b[1;33m\u001b[0m\u001b[0m\n\u001b[1;32m-> 1012\u001b[1;33m                 \u001b[0mvals\u001b[0m \u001b[1;33m=\u001b[0m \u001b[1;33m[\u001b[0m\u001b[0mvals\u001b[0m\u001b[1;33m[\u001b[0m\u001b[0mj\u001b[0m\u001b[1;33m]\u001b[0m \u001b[1;32mfor\u001b[0m \u001b[0mj\u001b[0m \u001b[1;32min\u001b[0m \u001b[0musecols\u001b[0m\u001b[1;33m]\u001b[0m\u001b[1;33m\u001b[0m\u001b[0m\n\u001b[0m\u001b[0;32m   1013\u001b[0m             \u001b[1;32mif\u001b[0m \u001b[0mlen\u001b[0m\u001b[1;33m(\u001b[0m\u001b[0mvals\u001b[0m\u001b[1;33m)\u001b[0m \u001b[1;33m!=\u001b[0m \u001b[0mN\u001b[0m\u001b[1;33m:\u001b[0m\u001b[1;33m\u001b[0m\u001b[0m\n\u001b[0;32m   1014\u001b[0m                 \u001b[0mline_num\u001b[0m \u001b[1;33m=\u001b[0m \u001b[0mi\u001b[0m \u001b[1;33m+\u001b[0m \u001b[0mskiprows\u001b[0m \u001b[1;33m+\u001b[0m \u001b[1;36m1\u001b[0m\u001b[1;33m\u001b[0m\u001b[0m\n",
      "\u001b[1;31mIndexError\u001b[0m: list index out of range"
     ]
    }
   ],
   "source": [
    "# Create a text file with an unlabaled comment\n",
    "h = open(\"text.txt\", \"w\")\n",
    "h.write(\"Header Comment\\n\")   # No prefix!\n",
    "h.write(\"1 2 3\\n\")\n",
    "h.write(\"4 5 6\\n\")\n",
    "h.write(\"7 8 9\\n\")\n",
    "h.write(\"Footer Comment\\n\")   # Same here\n",
    "h.close()\n",
    "\n",
    "# ERROR!\n",
    "column_1, column_3 = np.loadtxt(\"text.txt\", unpack = True, usecols = [0, 2])"
   ]
  },
  {
   "cell_type": "markdown",
   "metadata": {},
   "source": [
    "To handle text files that do not comply with the standard expected by `np.loadtxt()`, NumPy implements a similar function: `np.genfromtxt()`. `np.genfromtxt()` preserves most of the arguments of `np.loadtxt()`, but introduces a few more. For example, `invalid_raise=False` will suppress errors when a faulty line is encountered."
   ]
  },
  {
   "cell_type": "code",
   "execution_count": 5,
   "metadata": {},
   "outputs": [
    {
     "name": "stdout",
     "output_type": "stream",
     "text": [
      "[1. 4. 7.]\n",
      "[3. 6. 9.]\n"
     ]
    },
    {
     "name": "stderr",
     "output_type": "stream",
     "text": [
      "C:\\Users\\Roman\\Anaconda\\envs\\py3\\lib\\site-packages\\ipykernel_launcher.py:11: ConversionWarning: Some errors were detected !\n",
      "    Line #1 (got 2 columns instead of 2)\n",
      "    Line #5 (got 2 columns instead of 2)\n",
      "  # This is added back by InteractiveShellApp.init_path()\n"
     ]
    }
   ],
   "source": [
    "# Create a text file with an unlabaled comment\n",
    "h = open(\"text.txt\", \"w\")\n",
    "h.write(\"Header Comment\\n\")   # No prefix!\n",
    "h.write(\"1 2 3\\n\")\n",
    "h.write(\"4 5 6\\n\")\n",
    "h.write(\"7 8 9\\n\")\n",
    "h.write(\"Footer Comment\\n\")   # Same here\n",
    "h.close()\n",
    "\n",
    "# No errors! (we may be getting a warning instead, but the code will continue running)\n",
    "column_1, column_3 = np.genfromtxt(\"text.txt\", unpack = True, usecols = [0, 2], invalid_raise = False)\n",
    "print(column_1)\n",
    "print(column_3)"
   ]
  },
  {
   "cell_type": "markdown",
   "metadata": {},
   "source": [
    "## Linear algebra"
   ]
  },
  {
   "cell_type": "markdown",
   "metadata": {},
   "source": [
    "As powerful as NumPy arrays may be, they **do not** behave like vectors and matrices by default. For example..."
   ]
  },
  {
   "cell_type": "code",
   "execution_count": 1,
   "metadata": {},
   "outputs": [],
   "source": [
    "import numpy as np\n",
    "\n",
    "a = np.array([[1, 2], [3, 4]])  # Some random \"matrix\"\n",
    "b = np.array([[1, 0], [0, 1]])  # The identity \"matrix\"\n",
    "\n",
    "print(a * b) # Should be the same as \"a\" (by matrix multiplication), but it won't be"
   ]
  },
  {
   "cell_type": "markdown",
   "metadata": {},
   "source": [
    "...when multiplying two 2D arrays, Python will carry out the multiplication element by element instead of performing a proper matrix multiplication. However, there are at least two ways to make Python respect matrix multiplication rules. In the simplest case, the multiplication can be performed with `np.dot()`:"
   ]
  },
  {
   "cell_type": "code",
   "execution_count": 2,
   "metadata": {},
   "outputs": [
    {
     "name": "stdout",
     "output_type": "stream",
     "text": [
      "[[1 2]\n",
      " [3 4]]\n"
     ]
    }
   ],
   "source": [
    "print(np.dot(a, b)) # Remains the same as \"a\" because it is matrix-multiplied by identity"
   ]
  },
  {
   "cell_type": "markdown",
   "metadata": {},
   "source": [
    "Alternatively, we could typecast a and b into a matrix datatype with np.matrix(). Variables of this type behave like ordinary matrices:"
   ]
  },
  {
   "cell_type": "code",
   "execution_count": 3,
   "metadata": {},
   "outputs": [
    {
     "name": "stdout",
     "output_type": "stream",
     "text": [
      "[[1 2]\n",
      " [3 4]]\n"
     ]
    }
   ],
   "source": [
    "a = np.matrix(a); b = np.matrix(b)\n",
    "\n",
    "print(a * b)"
   ]
  },
  {
   "cell_type": "markdown",
   "metadata": {},
   "source": [
    "Even better, we can now apply mathematical operators and they will be handled \"the matrix way\". E.g.:"
   ]
  },
  {
   "cell_type": "code",
   "execution_count": 4,
   "metadata": {},
   "outputs": [
    {
     "name": "stdout",
     "output_type": "stream",
     "text": [
      "wake up neo\n",
      "[[ 7 10]\n",
      " [15 22]]\n"
     ]
    }
   ],
   "source": [
    "print(\"wake up neo\")\n",
    "\n",
    "# Matrix power\n",
    "print(a ** 2)"
   ]
  },
  {
   "cell_type": "markdown",
   "metadata": {},
   "source": [
    "Nonetheless, be advised that this does not extend to built-in mathematical functions like `np.log()` and the like. If you need to apply one of those to your matrix (an unlikely situation in this course), use [specialized implementations](https://docs.scipy.org/doc/scipy/reference/linalg.html).\n",
    "\n",
    "Just like everything else, matrices are objects with attributes. The most relevant attributes here are `.I` which returns the inverse and `.T` which returns the transpose:"
   ]
  },
  {
   "cell_type": "code",
   "execution_count": 5,
   "metadata": {},
   "outputs": [
    {
     "name": "stdout",
     "output_type": "stream",
     "text": [
      "[[-2.   1. ]\n",
      " [ 1.5 -0.5]]\n",
      "[[1 3]\n",
      " [2 4]]\n"
     ]
    }
   ],
   "source": [
    "# Matrix inverse\n",
    "print(a.I)\n",
    "\n",
    "# Matrix transpose\n",
    "print(a.T)"
   ]
  },
  {
   "cell_type": "markdown",
   "metadata": {},
   "source": [
    "Inverting a matrix is equivalent to solving a system of simultaneous first-order equations. For example, consider the following system:\n",
    "\n",
    "$$\n",
    "\\begin{cases}\n",
    "1x + 2y =5 \\\\\n",
    "3x + 4y = 6\n",
    "\\end{cases}\n",
    "$$\n",
    "\n",
    "the system may be solved using matrices:"
   ]
  },
  {
   "cell_type": "code",
   "execution_count": 6,
   "metadata": {},
   "outputs": [
    {
     "name": "stdout",
     "output_type": "stream",
     "text": [
      "x = -4.0\n",
      "y = 4.5\n"
     ]
    }
   ],
   "source": [
    "M = np.matrix([[1, 2], [3, 4]]).T    # Matrices can be created from lists too!\n",
    "b = np.matrix([5, 6])                # Vectors are nothing more than 1D matrices here\n",
    "\n",
    "a = b * M.I\n",
    "\n",
    "# A matrix will require two indices even if it's a vector, as Python needs to somehow remember whether this is a\n",
    "# column vector or a row vector\n",
    "print(\"x =\", a[0, 0])\n",
    "print(\"y =\", a[0, 1])"
   ]
  },
  {
   "cell_type": "markdown",
   "metadata": {},
   "source": [
    "Have a closer look at `M` in the code cell above. The number of rows corresponds to the number of variables (in our case, there are two: $x$ and $y$). The number of columns corresponds to the number of equations (again, two here). Assuming the system to be fully linearly independent, the number of columns must match the number of rows to be solvable exactly, i.e. the matrix must be square.\n",
    "\n",
    "If the number of variables (rows) is less than the number of equations (columns), the system is called *underdetermined*. An underdetermined system does not contain enough information to be fully solvable. Yet, Python is able to compute the inverse of `M` without errors:"
   ]
  },
  {
   "cell_type": "code",
   "execution_count": 7,
   "metadata": {},
   "outputs": [
    {
     "name": "stdout",
     "output_type": "stream",
     "text": [
      "[[-0.94444444 -0.11111111  0.72222222]\n",
      " [ 0.44444444  0.11111111 -0.22222222]]\n"
     ]
    }
   ],
   "source": [
    "M = np.matrix([[1, 2, 3], [4, 5, 6]]).T\n",
    "print(M.I)"
   ]
  },
  {
   "cell_type": "markdown",
   "metadata": {},
   "source": [
    "Disappointingly, this is not black magic (yet). Python is smart enough to see that the system is underdetermined. In such cases, it automatically redefines `.I` to compute the so-called *pseudoinverse* matrix instead, whose symbolic definition is:\n",
    "\n",
    "$$M^{+} = (M^T M)^{-1}\\ M^T$$\n",
    "\n",
    "where the superscripts $+$, $-1$ and $T$ stand for pseudoinverse, inverse and transpose respectively. In fact, this behavior can be suppressed if instead of `.I` we either call `np.linalg.inv()` for the standard inverse or `np.linalg.pinv()` for the pseudoinverse:"
   ]
  },
  {
   "cell_type": "code",
   "execution_count": 8,
   "metadata": {},
   "outputs": [
    {
     "name": "stdout",
     "output_type": "stream",
     "text": [
      "[[-0.94444444 -0.11111111  0.72222222]\n",
      " [ 0.44444444  0.11111111 -0.22222222]]\n",
      "[[-0.94444444 -0.11111111  0.72222222]\n",
      " [ 0.44444444  0.11111111 -0.22222222]]\n"
     ]
    },
    {
     "ename": "LinAlgError",
     "evalue": "Last 2 dimensions of the array must be square",
     "output_type": "error",
     "traceback": [
      "\u001b[1;31m---------------------------------------------------------------------------\u001b[0m",
      "\u001b[1;31mLinAlgError\u001b[0m                               Traceback (most recent call last)",
      "\u001b[1;32m<ipython-input-8-c60419791fe1>\u001b[0m in \u001b[0;36m<module>\u001b[1;34m()\u001b[0m\n\u001b[0;32m      6\u001b[0m \u001b[1;33m\u001b[0m\u001b[0m\n\u001b[0;32m      7\u001b[0m \u001b[1;31m# Now try to compute the regular inverse (won't work, because the system is underdetermined)\u001b[0m\u001b[1;33m\u001b[0m\u001b[1;33m\u001b[0m\u001b[0m\n\u001b[1;32m----> 8\u001b[1;33m \u001b[0mprint\u001b[0m\u001b[1;33m(\u001b[0m\u001b[0mnp\u001b[0m\u001b[1;33m.\u001b[0m\u001b[0mlinalg\u001b[0m\u001b[1;33m.\u001b[0m\u001b[0minv\u001b[0m\u001b[1;33m(\u001b[0m\u001b[0mM\u001b[0m\u001b[1;33m)\u001b[0m\u001b[1;33m)\u001b[0m   \u001b[1;31m# ERROR!\u001b[0m\u001b[1;33m\u001b[0m\u001b[0m\n\u001b[0m",
      "\u001b[1;32m~\\Anaconda\\envs\\py3\\lib\\site-packages\\numpy\\linalg\\linalg.py\u001b[0m in \u001b[0;36minv\u001b[1;34m(a)\u001b[0m\n\u001b[0;32m    521\u001b[0m     \u001b[0ma\u001b[0m\u001b[1;33m,\u001b[0m \u001b[0mwrap\u001b[0m \u001b[1;33m=\u001b[0m \u001b[0m_makearray\u001b[0m\u001b[1;33m(\u001b[0m\u001b[0ma\u001b[0m\u001b[1;33m)\u001b[0m\u001b[1;33m\u001b[0m\u001b[0m\n\u001b[0;32m    522\u001b[0m     \u001b[0m_assertRankAtLeast2\u001b[0m\u001b[1;33m(\u001b[0m\u001b[0ma\u001b[0m\u001b[1;33m)\u001b[0m\u001b[1;33m\u001b[0m\u001b[0m\n\u001b[1;32m--> 523\u001b[1;33m     \u001b[0m_assertNdSquareness\u001b[0m\u001b[1;33m(\u001b[0m\u001b[0ma\u001b[0m\u001b[1;33m)\u001b[0m\u001b[1;33m\u001b[0m\u001b[0m\n\u001b[0m\u001b[0;32m    524\u001b[0m     \u001b[0mt\u001b[0m\u001b[1;33m,\u001b[0m \u001b[0mresult_t\u001b[0m \u001b[1;33m=\u001b[0m \u001b[0m_commonType\u001b[0m\u001b[1;33m(\u001b[0m\u001b[0ma\u001b[0m\u001b[1;33m)\u001b[0m\u001b[1;33m\u001b[0m\u001b[0m\n\u001b[0;32m    525\u001b[0m \u001b[1;33m\u001b[0m\u001b[0m\n",
      "\u001b[1;32m~\\Anaconda\\envs\\py3\\lib\\site-packages\\numpy\\linalg\\linalg.py\u001b[0m in \u001b[0;36m_assertNdSquareness\u001b[1;34m(*arrays)\u001b[0m\n\u001b[0;32m    209\u001b[0m     \u001b[1;32mfor\u001b[0m \u001b[0ma\u001b[0m \u001b[1;32min\u001b[0m \u001b[0marrays\u001b[0m\u001b[1;33m:\u001b[0m\u001b[1;33m\u001b[0m\u001b[0m\n\u001b[0;32m    210\u001b[0m         \u001b[1;32mif\u001b[0m \u001b[0mmax\u001b[0m\u001b[1;33m(\u001b[0m\u001b[0ma\u001b[0m\u001b[1;33m.\u001b[0m\u001b[0mshape\u001b[0m\u001b[1;33m[\u001b[0m\u001b[1;33m-\u001b[0m\u001b[1;36m2\u001b[0m\u001b[1;33m:\u001b[0m\u001b[1;33m]\u001b[0m\u001b[1;33m)\u001b[0m \u001b[1;33m!=\u001b[0m \u001b[0mmin\u001b[0m\u001b[1;33m(\u001b[0m\u001b[0ma\u001b[0m\u001b[1;33m.\u001b[0m\u001b[0mshape\u001b[0m\u001b[1;33m[\u001b[0m\u001b[1;33m-\u001b[0m\u001b[1;36m2\u001b[0m\u001b[1;33m:\u001b[0m\u001b[1;33m]\u001b[0m\u001b[1;33m)\u001b[0m\u001b[1;33m:\u001b[0m\u001b[1;33m\u001b[0m\u001b[0m\n\u001b[1;32m--> 211\u001b[1;33m             \u001b[1;32mraise\u001b[0m \u001b[0mLinAlgError\u001b[0m\u001b[1;33m(\u001b[0m\u001b[1;34m'Last 2 dimensions of the array must be square'\u001b[0m\u001b[1;33m)\u001b[0m\u001b[1;33m\u001b[0m\u001b[0m\n\u001b[0m\u001b[0;32m    212\u001b[0m \u001b[1;33m\u001b[0m\u001b[0m\n\u001b[0;32m    213\u001b[0m \u001b[1;32mdef\u001b[0m \u001b[0m_assertFinite\u001b[0m\u001b[1;33m(\u001b[0m\u001b[1;33m*\u001b[0m\u001b[0marrays\u001b[0m\u001b[1;33m)\u001b[0m\u001b[1;33m:\u001b[0m\u001b[1;33m\u001b[0m\u001b[0m\n",
      "\u001b[1;31mLinAlgError\u001b[0m: Last 2 dimensions of the array must be square"
     ]
    }
   ],
   "source": [
    "# First, compute the pseudoinverse (should be the same as M.I)\n",
    "print(np.linalg.pinv(M))\n",
    "\n",
    "# Now, compute the pseudoinverse using the formula (should, again, be the same)\n",
    "print(np.linalg.inv(M.T * M) * M.T)\n",
    "\n",
    "# Now try to compute the regular inverse (won't work, because the system is underdetermined)\n",
    "print(np.linalg.inv(M))   # ERROR!"
   ]
  },
  {
   "cell_type": "markdown",
   "metadata": {},
   "source": [
    "Pseudoinverse matrices can be incredibly useful. For underdetermined systems, they give *one* of the possible solutions, which is sometimes needed. Of course, there will be other solutions too, as the system does not contain enough information to pinpoint one specific solution.\n",
    "\n",
    "The true power of pseudoinverse is revealed when it is applied to *overdetermined* systems. Such systems have more equations than variables and, hence, contain \"too much\" information. In other words, this means that individual equations contradict each other and cannot be solved *precisely*. Nonetheless, one may still attempt to find a solution that *approximates* all the equations as closely as possible. I.e., one may attempt a least squares optimization. Most important, this optimized least squares solution is exactly what the pseudoinverse gives us when the system is overdetermined.\n",
    "\n",
    "For example, we can use the pseudoinverse to fit a straight line to a dataset. The relevant system of equations in this case is:\n",
    "\n",
    "$$\n",
    "\\begin{cases}\n",
    "x_1m  + 1c = y_1 \\\\\n",
    "x_2m  + 1c = y_2 \\\\\n",
    "x_3m  + 1c = y_3 \\\\\n",
    "\\dots\n",
    "\\end{cases}\n",
    "$$\n",
    "\n",
    "where $m$ and $c$ are the best-fit parameters and $y_n$ and $x_n$ are the data series."
   ]
  },
  {
   "cell_type": "code",
   "execution_count": 9,
   "metadata": {},
   "outputs": [
    {
     "data": {
      "text/plain": [
       "[<matplotlib.lines.Line2D at 0x5f28048>]"
      ]
     },
     "execution_count": 9,
     "metadata": {},
     "output_type": "execute_result"
    },
    {
     "data": {
      "image/png": "[encoded data removed]",
      "text/plain": [
       "<Figure size 432x288 with 1 Axes>"
      ]
     },
     "metadata": {
      "needs_background": "light"
     },
     "output_type": "display_data"
    }
   ],
   "source": [
    "import matplotlib.pyplot as plt\n",
    "%matplotlib inline\n",
    "\n",
    "# Create a test dataset (with noise)\n",
    "x = np.linspace(0, 10, 6)\n",
    "y = 5 * x + 2 + np.random.normal(0, 2, 6)\n",
    "plt.plot(x, y, 'ro')\n",
    "\n",
    "# Now use pseudoinverses to get the best fit line\n",
    "M = np.matrix([x, np.ones(len(x))])       # Set up our overdetermined system. np.ones() returns an array of ones\n",
    "b = np.matrix(y)\n",
    "coef = b * np.linalg.pinv(M)\n",
    "\n",
    "# Plot the fit out\n",
    "plt.plot(x, np.poly1d(np.array(coef)[0])(x))"
   ]
  },
  {
   "cell_type": "code",
   "execution_count": null,
   "metadata": {},
   "outputs": [],
   "source": []
  }
 ],
 "metadata": {
  "kernelspec": {
   "display_name": "Python 3",
   "language": "python",
   "name": "py3"
  },
  "language_info": {
   "codemirror_mode": {
    "name": "ipython",
    "version": 3
   },
   "file_extension": ".py",
   "mimetype": "text/x-python",
   "name": "python",
   "nbconvert_exporter": "python",
   "pygments_lexer": "ipython3",
   "version": "3.5.5"
  }
 },
 "nbformat": 4,
 "nbformat_minor": 2
}
