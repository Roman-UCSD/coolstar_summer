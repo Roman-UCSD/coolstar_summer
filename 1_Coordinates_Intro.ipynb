{
  "nbformat": 4,
  "nbformat_minor": 0,
  "metadata": {
    "kernelspec": {
      "display_name": "Python 3",
      "language": "python",
      "name": "python3"
    },
    "language_info": {
      "codemirror_mode": {
        "name": "ipython",
        "version": 3
      },
      "file_extension": ".py",
      "mimetype": "text/x-python",
      "name": "python",
      "nbconvert_exporter": "python",
      "pygments_lexer": "ipython3",
      "version": "3.8.3"
    },
    "toc": {
      "base_numbering": 1,
      "nav_menu": {},
      "number_sections": true,
      "sideBar": true,
      "skip_h1_title": false,
      "title_cell": "Table of Contents",
      "title_sidebar": "Contents",
      "toc_cell": false,
      "toc_position": {},
      "toc_section_display": true,
      "toc_window_display": false
    },
    "colab": {
      "name": "1-Coordinates-Intro.ipynb",
      "provenance": [],
      "include_colab_link": true
    }
  },
  "cells": [
    {
      "cell_type": "markdown",
      "metadata": {
        "id": "view-in-github",
        "colab_type": "text"
      },
      "source": [
        "<a href=\"https://colab.research.google.com/github/Roman-UCSD/coolstar_summer/blob/main/1_Coordinates_Intro.ipynb\" target=\"_parent\"><img src=\"https://colab.research.google.com/assets/colab-badge.svg\" alt=\"Open In Colab\"/></a>"
      ]
    },
    {
      "cell_type": "markdown",
      "metadata": {
        "id": "tX6K7W5gTL-V"
      },
      "source": [
        "# Astronomical Coordinates 1: Getting Started with astropy.coordinates\n",
        "\n",
        "## Authors\n",
        "Adrian Price-Whelan\n",
        "Github: https://rb.gy/6fz4jh\n",
        "\n",
        "## Learning Goals\n",
        "* Create `astropy.coordinates.SkyCoord` objects using coordinate data and object names\n",
        "* Use SkyCoord objects to become familiar with object oriented programming (OOP)\n",
        "* Use a `SkyCoord` object to query the *Gaia* archive using `astroquery`\n",
        "* Output coordinate data in different string representations\n",
        "* Demonstrate working with 3D sky coordinates (including distance information for objects)\n",
        "\n",
        "## Keywords\n",
        "coordinates, OOP, astroquery, gaia\n",
        "\n",
        "\n",
        "## Summary\n",
        "\n",
        "Astronomers use a wide variety of coordinate systems and formats to represent sky coordinates of celestial objects. For example, you may have seen terms like \"right ascension\" and \"declination\" or \"galactic latitude and longitude,\" and you may have seen angular coordinate components represented as \"0h39m15.9s,\" \"00:39:15.9,\" or 9.81625º. The subpackage `astropy.coordinates` provides tools for representing the coordinates of objects and transforming them between different systems. \n",
        "\n",
        "In this tutorial, we will explore how the `astropy.coordinates` package can be used to work with astronomical coordinates. You may find it helpful to keep [the Astropy documentation for the coordinates package](http://docs.astropy.org/en/stable/coordinates/index.html) open alongside this tutorial for reference or additional reading. In the text below, you may also see some links that look like ([docs](http://docs.astropy.org/en/stable/coordinates/index.html)). These links will take you to parts of the documentation that are directly relevant to the cells from which they link. \n",
        "\n",
        "*Note: This is the 1st tutorial in a series of tutorials about astropy.coordinates.*\n",
        "- [Next tutorial: Astronomical Coordinates 2: Transforming Coordinate Systems and Representations](2-Coordinates-Transforms)"
      ]
    },
    {
      "cell_type": "markdown",
      "metadata": {
        "id": "JqvgluoZTL-b"
      },
      "source": [
        "## Imports\n",
        "\n",
        "We start by importing some packages that we will need below:"
      ]
    },
    {
      "cell_type": "code",
      "metadata": {
        "colab": {
          "base_uri": "https://localhost:8080/"
        },
        "id": "YuvxjAgFTSUf",
        "outputId": "de98febd-6dff-488a-d7f7-2b45ed5ddbf3"
      },
      "source": [
        "#install astroquery\n",
        "!pip install astroquery\n",
        "#mount google drive\n",
        "#you don't need to run this cell if you're running locally \n",
        "from google.colab import drive\n",
        "drive.mount('/content/gdrive/')\n",
        "DATA_FOLDER='/content/gdrive/My Drive/astropytutorial/'"
      ],
      "execution_count": 36,
      "outputs": [
        {
          "output_type": "stream",
          "text": [
            "Requirement already satisfied: astroquery in /usr/local/lib/python3.7/dist-packages (0.4.2)\n",
            "Requirement already satisfied: requests>=2.4.3 in /usr/local/lib/python3.7/dist-packages (from astroquery) (2.23.0)\n",
            "Requirement already satisfied: astropy>=3.1.2 in /usr/local/lib/python3.7/dist-packages (from astroquery) (4.2.1)\n",
            "Requirement already satisfied: pyvo>=1.1 in /usr/local/lib/python3.7/dist-packages (from astroquery) (1.1)\n",
            "Requirement already satisfied: html5lib>=0.999 in /usr/local/lib/python3.7/dist-packages (from astroquery) (1.0.1)\n",
            "Requirement already satisfied: six in /usr/local/lib/python3.7/dist-packages (from astroquery) (1.15.0)\n",
            "Requirement already satisfied: numpy>=1.15.0 in /usr/local/lib/python3.7/dist-packages (from astroquery) (1.19.5)\n",
            "Requirement already satisfied: beautifulsoup4>=4.3.2 in /usr/local/lib/python3.7/dist-packages (from astroquery) (4.6.3)\n",
            "Requirement already satisfied: keyring>=4.0 in /usr/local/lib/python3.7/dist-packages (from astroquery) (23.0.1)\n",
            "Requirement already satisfied: chardet<4,>=3.0.2 in /usr/local/lib/python3.7/dist-packages (from requests>=2.4.3->astroquery) (3.0.4)\n",
            "Requirement already satisfied: idna<3,>=2.5 in /usr/local/lib/python3.7/dist-packages (from requests>=2.4.3->astroquery) (2.10)\n",
            "Requirement already satisfied: certifi>=2017.4.17 in /usr/local/lib/python3.7/dist-packages (from requests>=2.4.3->astroquery) (2021.5.30)\n",
            "Requirement already satisfied: urllib3!=1.25.0,!=1.25.1,<1.26,>=1.21.1 in /usr/local/lib/python3.7/dist-packages (from requests>=2.4.3->astroquery) (1.24.3)\n",
            "Requirement already satisfied: pyerfa in /usr/local/lib/python3.7/dist-packages (from astropy>=3.1.2->astroquery) (2.0.0)\n",
            "Requirement already satisfied: mimeparse in /usr/local/lib/python3.7/dist-packages (from pyvo>=1.1->astroquery) (0.1.3)\n",
            "Requirement already satisfied: webencodings in /usr/local/lib/python3.7/dist-packages (from html5lib>=0.999->astroquery) (0.5.1)\n",
            "Requirement already satisfied: SecretStorage>=3.2; sys_platform == \"linux\" in /usr/local/lib/python3.7/dist-packages (from keyring>=4.0->astroquery) (3.3.1)\n",
            "Requirement already satisfied: jeepney>=0.4.2; sys_platform == \"linux\" in /usr/local/lib/python3.7/dist-packages (from keyring>=4.0->astroquery) (0.6.0)\n",
            "Requirement already satisfied: importlib-metadata>=3.6 in /usr/local/lib/python3.7/dist-packages (from keyring>=4.0->astroquery) (4.5.0)\n",
            "Requirement already satisfied: cryptography>=2.0 in /usr/local/lib/python3.7/dist-packages (from SecretStorage>=3.2; sys_platform == \"linux\"->keyring>=4.0->astroquery) (3.4.7)\n",
            "Requirement already satisfied: typing-extensions>=3.6.4; python_version < \"3.8\" in /usr/local/lib/python3.7/dist-packages (from importlib-metadata>=3.6->keyring>=4.0->astroquery) (3.7.4.3)\n",
            "Requirement already satisfied: zipp>=0.5 in /usr/local/lib/python3.7/dist-packages (from importlib-metadata>=3.6->keyring>=4.0->astroquery) (3.4.1)\n",
            "Requirement already satisfied: cffi>=1.12 in /usr/local/lib/python3.7/dist-packages (from cryptography>=2.0->SecretStorage>=3.2; sys_platform == \"linux\"->keyring>=4.0->astroquery) (1.14.5)\n",
            "Requirement already satisfied: pycparser in /usr/local/lib/python3.7/dist-packages (from cffi>=1.12->cryptography>=2.0->SecretStorage>=3.2; sys_platform == \"linux\"->keyring>=4.0->astroquery) (2.20)\n",
            "Drive already mounted at /content/gdrive/; to attempt to forcibly remount, call drive.mount(\"/content/gdrive/\", force_remount=True).\n"
          ],
          "name": "stdout"
        }
      ]
    },
    {
      "cell_type": "code",
      "metadata": {
        "id": "47me-hhOTL-c"
      },
      "source": [
        "import matplotlib.pyplot as plt\n",
        "%matplotlib inline\n",
        "import numpy as np\n",
        "\n",
        "from astropy import units as u\n",
        "from astropy.coordinates import SkyCoord, Distance\n",
        "from astropy.io import fits\n",
        "from astropy.table import QTable\n",
        "from astropy.utils.data import download_file\n",
        "\n",
        "from astroquery.gaia import Gaia\n",
        "Gaia.ROW_LIMIT = 10000  # Set the row limit for returned data"
      ],
      "execution_count": 37,
      "outputs": []
    },
    {
      "cell_type": "markdown",
      "metadata": {
        "id": "bRblfKfDTL-d"
      },
      "source": [
        "## Representing On-sky Positions with `astropy.coordinates`\n",
        "\n",
        "In Astropy, the most common way of representing and working with sky coordinates is to use the `SkyCoord` object ([docs](https://docs.astropy.org/en/stable/coordinates/skycoord.html)). A `SkyCoord` can be created directly from angles or arrays of angles with associated units, as demonstrated below. \n",
        "\n",
        "To get started, let's assume that we want to create a `SkyCoord` object for the center of the open star cluster NGC 188 so that later we can query and retrieve stars that might be members of the cluster. Let's also assume, for now, that we already know the sky coordinates of the cluster to be (12.11, 85.26) degrees in the ICRS coordinate frame. The ICRS — sometimes referred to as \"equatorial\" or \"J2000\" coordinates ([more info about the ICRS](https://arxiv.org/abs/astro-ph/0602086)) — is currently the most common astronomical coordinate frame for stellar or extragalactic astronomy, and is the default coordinate frame for `SkyCoord`. Since we already know the ICRS position of NGC 188 (see above), we can create a `SkyCoord` object for the cluster by passing the data in to the `SkyCoord` initializer:"
      ]
    },
    {
      "cell_type": "code",
      "metadata": {
        "colab": {
          "base_uri": "https://localhost:8080/"
        },
        "id": "zChDuQ9iTL-e",
        "outputId": "3ec9423f-100f-49bb-d84f-ebcb0b6ac986"
      },
      "source": [
        "ngc188_center = SkyCoord(12.11*u.deg, 85.26*u.deg)\n",
        "ngc188_center"
      ],
      "execution_count": 38,
      "outputs": [
        {
          "output_type": "execute_result",
          "data": {
            "text/plain": [
              "<SkyCoord (ICRS): (ra, dec) in deg\n",
              "    (12.11, 85.26)>"
            ]
          },
          "metadata": {
            "tags": []
          },
          "execution_count": 38
        }
      ]
    },
    {
      "cell_type": "markdown",
      "metadata": {
        "id": "PVC22tzPTL-e"
      },
      "source": [
        "Even though the default frame is ICRS, it is generally recommended to explicitly specify the frame your coordinates are in. In this case, this would be an equivalent way of creating our `SkyCoord` object for NGC 188:"
      ]
    },
    {
      "cell_type": "code",
      "metadata": {
        "colab": {
          "base_uri": "https://localhost:8080/"
        },
        "id": "gzPBVxuoTL-f",
        "outputId": "381b24ee-abd5-42b2-d552-c584be89e74f"
      },
      "source": [
        "ngc188_center = SkyCoord(12.11*u.deg, 85.26*u.deg, frame='icrs')\n",
        "ngc188_center"
      ],
      "execution_count": 39,
      "outputs": [
        {
          "output_type": "execute_result",
          "data": {
            "text/plain": [
              "<SkyCoord (ICRS): (ra, dec) in deg\n",
              "    (12.11, 85.26)>"
            ]
          },
          "metadata": {
            "tags": []
          },
          "execution_count": 39
        }
      ]
    },
    {
      "cell_type": "markdown",
      "metadata": {
        "id": "NjexvVRJTL-f"
      },
      "source": [
        "As we will see later on in this series, there are many other supported coordinate frames, so it helps to get into the habit of passing in the name of a coordinate frame.\n",
        "\n",
        "In the above initializations, we passed in `astropy.units.Quantity` objects with angular units to specify the angular components of our sky coordinates. The `SkyCoord` initializer will also accept string-formatted coordinates either as separate strings for Right Ascension (RA) and Declination (Dec) or a single string. For example, if we have sexagesimal sky coordinate data: In this case, the representation of the data includes specifications of the units (the \"hms\" for \"hour minute second\", and the \"dms\" for \"degrees minute second\""
      ]
    },
    {
      "cell_type": "code",
      "metadata": {
        "colab": {
          "base_uri": "https://localhost:8080/"
        },
        "id": "yEn9ehdPTL-g",
        "outputId": "9885e607-e768-44dd-f577-f1f07fef3970"
      },
      "source": [
        "SkyCoord('00h48m26.4s', '85d15m36s', frame='icrs')"
      ],
      "execution_count": 40,
      "outputs": [
        {
          "output_type": "execute_result",
          "data": {
            "text/plain": [
              "<SkyCoord (ICRS): (ra, dec) in deg\n",
              "    (12.11, 85.26)>"
            ]
          },
          "metadata": {
            "tags": []
          },
          "execution_count": 40
        }
      ]
    },
    {
      "cell_type": "markdown",
      "metadata": {
        "id": "YuLBgeEWTL-h"
      },
      "source": [
        "Some string representations do not explicitly define units, so it is sometimes necessary to specify the units of the string coordinate data explicitly if they are not implicitly included:"
      ]
    },
    {
      "cell_type": "code",
      "metadata": {
        "colab": {
          "base_uri": "https://localhost:8080/"
        },
        "id": "Tko-aXuBTL-h",
        "outputId": "c33aabf5-3b36-43e6-d483-01bde5f2feab"
      },
      "source": [
        "SkyCoord('00:48:26.4 85:15:36', unit=(u.hour, u.deg), \n",
        "         frame='icrs')"
      ],
      "execution_count": 41,
      "outputs": [
        {
          "output_type": "execute_result",
          "data": {
            "text/plain": [
              "<SkyCoord (ICRS): (ra, dec) in deg\n",
              "    (12.11, 85.26)>"
            ]
          },
          "metadata": {
            "tags": []
          },
          "execution_count": 41
        }
      ]
    },
    {
      "cell_type": "markdown",
      "metadata": {
        "id": "p_keRIOkTL-h"
      },
      "source": [
        "For more information and examples on initializing `SkyCoord` objects, [see this documentation](http://docs.astropy.org/en/latest/coordinates/skycoord.html)."
      ]
    },
    {
      "cell_type": "markdown",
      "metadata": {
        "id": "wI4NCvyMTL-i"
      },
      "source": [
        "For the `SkyCoord` initializations demonstrated above, we assumed that we already had the coordinate component values ready. If you do not know the coordinate values and the object you are interested in is in [SESAME](http://cdsweb.u-strasbg.fr/cgi-bin/Sesame), you can also automatically look up and load coordinate values from the name of the object using the `SkyCoord.from_name()` class method<sup>1</sup> ([docs](http://docs.astropy.org/en/latest/coordinates/index.html#convenience-methods)). Note, however, that this requires an internet connection. It is safe to skip this cell if you are not connected to the internet because we already defined the object `ngc188_center` in the cells above.\n",
        "\n",
        "<sub> <sup>1</sup>If you do not know what a class method is, think of it like an alternative constructor for a `SkyCoord` object — calling `SkyCoord.from_name()` with a name gives you a new `SkyCoord` object. For more detailed background on what class methods are and when they're useful, see [this page](https://julien.danjou.info/blog/2013/guide-python-static-class-abstract-methods).</sub>"
      ]
    },
    {
      "cell_type": "code",
      "metadata": {
        "colab": {
          "base_uri": "https://localhost:8080/"
        },
        "id": "jgLOPcpRTL-j",
        "outputId": "f3d5e6a3-05e9-4fab-99fe-717a014d7eab"
      },
      "source": [
        "ngc188_center = SkyCoord.from_name('NGC 188')\n",
        "ngc188_center"
      ],
      "execution_count": 42,
      "outputs": [
        {
          "output_type": "execute_result",
          "data": {
            "text/plain": [
              "<SkyCoord (ICRS): (ra, dec) in deg\n",
              "    (12.10833333, 85.255)>"
            ]
          },
          "metadata": {
            "tags": []
          },
          "execution_count": 42
        }
      ]
    },
    {
      "cell_type": "markdown",
      "metadata": {
        "id": "3dylTM8LTL-j"
      },
      "source": [
        "The `SkyCoord` object that we defined now has various ways of accessing the coordinate information contained within it. All `SkyCoord` objects have attributes that allow you to retrieve the coordinate component data, but the component names will change depending on the coordinate frame of the `SkyCoord` you have. In our examples we have created a `SkyCoord` in the ICRS frame, so the component names are lower-case abbreviations of Right Ascension, `.ra`, and Declination, `.dec`:"
      ]
    },
    {
      "cell_type": "code",
      "metadata": {
        "colab": {
          "base_uri": "https://localhost:8080/"
        },
        "id": "7GTIhDJOTL-k",
        "outputId": "f471b64e-2e3d-4f5c-d1d4-b38fbce7f74e"
      },
      "source": [
        "ngc188_center.ra, ngc188_center.dec"
      ],
      "execution_count": 43,
      "outputs": [
        {
          "output_type": "execute_result",
          "data": {
            "text/plain": [
              "(<Longitude 12.10833333 deg>, <Latitude 85.255 deg>)"
            ]
          },
          "metadata": {
            "tags": []
          },
          "execution_count": 43
        }
      ]
    },
    {
      "cell_type": "markdown",
      "metadata": {
        "id": "I0HxMCtqTL-k"
      },
      "source": [
        "The `SkyCoord` component attributes (here ``ra`` and ``dec``) return specialized `Quantity`-like objects that make working with angular data easier. While `Quantity` ([docs](http://docs.astropy.org/en/stable/units/index.html)) is a general class that represents numerical values and physical units of any kind, `astropy.coordinates` defines subclasses of `Quantity` that are specifically designed for working with angles, such as the `Angle` ([docs](http://docs.astropy.org/en/stable/api/astropy.coordinates.Angle.html)) class. The `Angle` class then has additional, more specialized subclasses `Latitude` ([docs](http://docs.astropy.org/en/stable/api/astropy.coordinates.Latitude.html)) and `Longitude` ([docs](http://docs.astropy.org/en/stable/api/astropy.coordinates.Longitude.html)). These objects store angles, provide useful attributes to quickly convert to common angular units, and enable formatting the numerical values in various formats. For example, in a Jupyter notebook, these objects know how to represent themselves using LaTeX:"
      ]
    },
    {
      "cell_type": "code",
      "metadata": {
        "colab": {
          "base_uri": "https://localhost:8080/",
          "height": 37
        },
        "id": "3cLmFmN6TL-l",
        "outputId": "c427cf82-5665-440b-df5e-3159a2cac932"
      },
      "source": [
        "ngc188_center.ra"
      ],
      "execution_count": 44,
      "outputs": [
        {
          "output_type": "execute_result",
          "data": {
            "text/latex": "$12^\\circ06{}^\\prime30{}^{\\prime\\prime}$",
            "text/plain": [
              "<Longitude 12.10833333 deg>"
            ]
          },
          "metadata": {
            "tags": []
          },
          "execution_count": 44
        }
      ]
    },
    {
      "cell_type": "code",
      "metadata": {
        "colab": {
          "base_uri": "https://localhost:8080/",
          "height": 37
        },
        "id": "ZoWp3AZ0TL-l",
        "outputId": "4eb8632a-052b-40cb-f34e-6109832ef728"
      },
      "source": [
        "ngc188_center.dec"
      ],
      "execution_count": 45,
      "outputs": [
        {
          "output_type": "execute_result",
          "data": {
            "text/latex": "$85^\\circ15{}^\\prime18{}^{\\prime\\prime}$",
            "text/plain": [
              "<Latitude 85.255 deg>"
            ]
          },
          "metadata": {
            "tags": []
          },
          "execution_count": 45
        }
      ]
    },
    {
      "cell_type": "code",
      "metadata": {
        "colab": {
          "base_uri": "https://localhost:8080/"
        },
        "id": "MDaLFH14TL-l",
        "outputId": "39037ea9-139d-43cb-a487-7991a50e7489"
      },
      "source": [
        "type(ngc188_center.ra), type(ngc188_center.dec)"
      ],
      "execution_count": 46,
      "outputs": [
        {
          "output_type": "execute_result",
          "data": {
            "text/plain": [
              "(astropy.coordinates.angles.Longitude, astropy.coordinates.angles.Latitude)"
            ]
          },
          "metadata": {
            "tags": []
          },
          "execution_count": 46
        }
      ]
    },
    {
      "cell_type": "markdown",
      "metadata": {
        "id": "jO16aDOdTL-l"
      },
      "source": [
        "With these objects, we can retrieve the coordinate components in different units using the `Quantity.to()` method:"
      ]
    },
    {
      "cell_type": "code",
      "metadata": {
        "colab": {
          "base_uri": "https://localhost:8080/"
        },
        "id": "YNLy5y9bTL-m",
        "outputId": "5b0e429f-09b6-42b6-b6cb-d6f65dbd3c85"
      },
      "source": [
        "(ngc188_center.ra.to(u.hourangle), \n",
        " ngc188_center.ra.to(u.radian),\n",
        " ngc188_center.ra.to(u.degree))"
      ],
      "execution_count": 47,
      "outputs": [
        {
          "output_type": "execute_result",
          "data": {
            "text/plain": [
              "(<Longitude 0.80722222 hourangle>,\n",
              " <Longitude 0.21133028 rad>,\n",
              " <Longitude 12.10833333 deg>)"
            ]
          },
          "metadata": {
            "tags": []
          },
          "execution_count": 47
        }
      ]
    },
    {
      "cell_type": "markdown",
      "metadata": {
        "id": "Ze-LcK4ATL-m"
      },
      "source": [
        "Or using the shorthand attributes, which return only the component values:"
      ]
    },
    {
      "cell_type": "code",
      "metadata": {
        "colab": {
          "base_uri": "https://localhost:8080/"
        },
        "id": "rfMUKglQTL-n",
        "outputId": "1e0a5c6f-141c-4dba-beb3-fd598c50f941"
      },
      "source": [
        "(ngc188_center.ra.hour, \n",
        " ngc188_center.ra.radian, \n",
        " ngc188_center.ra.degree)"
      ],
      "execution_count": 48,
      "outputs": [
        {
          "output_type": "execute_result",
          "data": {
            "text/plain": [
              "(0.8072222220000002, 0.2113302835374691, 12.10833333)"
            ]
          },
          "metadata": {
            "tags": []
          },
          "execution_count": 48
        }
      ]
    },
    {
      "cell_type": "markdown",
      "metadata": {
        "id": "XGJQTmy5TL-n"
      },
      "source": [
        "We can also format the values into strings with specified units ([docs](http://docs.astropy.org/en/latest/coordinates/formatting.html)), for example:"
      ]
    },
    {
      "cell_type": "code",
      "metadata": {
        "colab": {
          "base_uri": "https://localhost:8080/",
          "height": 35
        },
        "id": "qDGEVeO2TL-n",
        "outputId": "4df3af2f-6af4-4c64-8479-05199f18f902"
      },
      "source": [
        "ngc188_center.ra.to_string(unit=u.hourangle, sep=':', pad=True)"
      ],
      "execution_count": 49,
      "outputs": [
        {
          "output_type": "execute_result",
          "data": {
            "application/vnd.google.colaboratory.intrinsic+json": {
              "type": "string"
            },
            "text/plain": [
              "'00:48:26'"
            ]
          },
          "metadata": {
            "tags": []
          },
          "execution_count": 49
        }
      ]
    },
    {
      "cell_type": "markdown",
      "metadata": {
        "id": "oHD5X3C-TL-o"
      },
      "source": [
        "## Querying the *Gaia* Archive to Retrieve Coordinates of Stars in NGC 188"
      ]
    },
    {
      "cell_type": "markdown",
      "metadata": {
        "id": "tDH4W1xlTL-o"
      },
      "source": [
        "Now that we have a `SkyCoord` object for the center of NGC 188, we can use this object with the `astroquery` package to query many different astronomical databases (see a full list of [available services in the astroquery documentation](https://astroquery.readthedocs.io/en/latest/#available-services)). Here, we will use the `SkyCoord` object `ngc188_center` to select sources from the *Gaia* Data Release 2 catalog around the position of the center of NGC 188 to look for stars that might be members of the star cluster. To do this, we will use the `astroquery.gaia` subpackage ([docs](https://astroquery.readthedocs.io/en/latest/gaia/gaia.html)).\n",
        "\n",
        "This requires an internet connection, but if it fails, the catalog file is included in the repository so you can load it locally (skip the next cell if you do not have an internet connection):"
      ]
    },
    {
      "cell_type": "code",
      "metadata": {
        "colab": {
          "base_uri": "https://localhost:8080/"
        },
        "id": "W37lx_KqTL-o",
        "outputId": "5b1c05e2-6fd8-479a-9296-bc4c809eab33"
      },
      "source": [
        "job = Gaia.cone_search_async(ngc188_center, radius=0.5*u.deg)\n",
        "ngc188_table = job.get_results()\n",
        "\n",
        "# only keep stars brighter than G=19 magnitude\n",
        "ngc188_table = ngc188_table[ngc188_table['phot_g_mean_mag'] < 19*u.mag]"
      ],
      "execution_count": 50,
      "outputs": [
        {
          "output_type": "stream",
          "text": [
            "INFO: Query finished. [astroquery.utils.tap.core]\n"
          ],
          "name": "stdout"
        }
      ]
    },
    {
      "cell_type": "code",
      "metadata": {
        "id": "SA43QP4wTL-p"
      },
      "source": [
        "cols = ['source_id',\n",
        " 'ra',\n",
        " 'dec',\n",
        " 'parallax',\n",
        " 'parallax_error',\n",
        " 'pmra',\n",
        " 'pmdec',\n",
        " 'radial_velocity',\n",
        " 'phot_g_mean_mag',\n",
        " 'phot_bp_mean_mag',\n",
        " 'phot_rp_mean_mag']\n",
        "ngc188_table[cols].write(DATA_FOLDER+'/gaia_results.fits', overwrite=True)"
      ],
      "execution_count": 52,
      "outputs": []
    },
    {
      "cell_type": "markdown",
      "metadata": {
        "id": "2_IzTLtlTL-q"
      },
      "source": [
        "The above cell may not work if you do not have an internet connection, so we have included the results table along with the notebook:"
      ]
    },
    {
      "cell_type": "code",
      "metadata": {
        "id": "dy9AVQbMTL-q"
      },
      "source": [
        "ngc188_table = QTable.read('gaia_results.fits')"
      ],
      "execution_count": null,
      "outputs": []
    },
    {
      "cell_type": "code",
      "metadata": {
        "id": "OUEKSg2DTL-q"
      },
      "source": [
        "len(ngc188_table)"
      ],
      "execution_count": null,
      "outputs": []
    },
    {
      "cell_type": "markdown",
      "metadata": {
        "id": "QYbCXiQCTL-q"
      },
      "source": [
        "The returned `astropy.table` `Table` object now contains about 5000 stars from *Gaia* DR2 around the coordinate position of the center of NGC 188. Let's now construct a `SkyCoord` object with the results table. In the *Gaia* data archive, the ICRS coordinates of a source are given as column names `\"ra\"` and `\"dec\"`:"
      ]
    },
    {
      "cell_type": "code",
      "metadata": {
        "id": "0U-nJXBVTL-r"
      },
      "source": [
        "ngc188_table['ra']"
      ],
      "execution_count": null,
      "outputs": []
    },
    {
      "cell_type": "code",
      "metadata": {
        "id": "51_ZFQgETL-r"
      },
      "source": [
        "ngc188_table['dec']"
      ],
      "execution_count": null,
      "outputs": []
    },
    {
      "cell_type": "markdown",
      "metadata": {
        "id": "521MnFQITL-r"
      },
      "source": [
        "Note that, because the *Gaia* archive provides data tables with associated units, and we read this table using the `QTable` object ([docs](http://docs.astropy.org/en/latest/table/mixin_columns.html#quantity-and-qtable)), the above table columns are represented as `Quantity` objects with units of degrees. Note also that these columns contain many (>5000!) coordinate values. We can pass these directly in to `SkyCoord` to get a single `SkyCoord` object to represent all of these coordinates:"
      ]
    },
    {
      "cell_type": "code",
      "metadata": {
        "id": "S3146fhaTL-r"
      },
      "source": [
        "ngc188_gaia_coords = SkyCoord(ngc188_table['ra'], ngc188_table['dec'])\n",
        "ngc188_gaia_coords"
      ],
      "execution_count": null,
      "outputs": []
    },
    {
      "cell_type": "markdown",
      "metadata": {
        "id": "70ufI_0UTL-s"
      },
      "source": [
        "### Exercises"
      ]
    },
    {
      "cell_type": "markdown",
      "metadata": {
        "id": "fab87OhVTL-s"
      },
      "source": [
        "Create a `SkyCoord` for the center of the open cluster the Pleiades (either by looking up the coordinates and passing them in, or by using the convenience method we learned about above):"
      ]
    },
    {
      "cell_type": "code",
      "metadata": {
        "id": "7AJ8AsFuTL-s"
      },
      "source": [
        "ngc188_center = SkyCoord.from_name('NGC 188')"
      ],
      "execution_count": null,
      "outputs": []
    },
    {
      "cell_type": "markdown",
      "metadata": {
        "id": "JKUQBltaTL-s"
      },
      "source": [
        "Using only a single method/function call on the `SkyCoord` object representing the center of NGC 188, print a string with the RA/Dec in the form 'HH:MM:SS.S DD:MM:SS.S'. Check your answer against [SIMBAD](http://simbad.u-strasbg.fr/simbad/), which will show you sexagesimal coordinates for the object.\n",
        "\n",
        "<sub>(Hint: `SkyCoord.to_string()` might be useful)</sub>"
      ]
    },
    {
      "cell_type": "code",
      "metadata": {
        "id": "O5FqD6rpTL-s"
      },
      "source": [
        "ngc188_center.to_string(style=\"hmsdms\", sep=\":\", precision=1)"
      ],
      "execution_count": null,
      "outputs": []
    },
    {
      "cell_type": "markdown",
      "metadata": {
        "id": "EjXdq-BTTL-t"
      },
      "source": [
        "Using a single method/function call on the `SkyCoord` object containing the results of our *Gaia* query, compute the angular separation between each resulting star and the coordinates of the cluster center for NGC 188.\n",
        "\n",
        "<sub>(Hint: `SkyCoord.separation()` might be useful)</sub>"
      ]
    },
    {
      "cell_type": "code",
      "metadata": {
        "id": "pnBFf5yqTL-t"
      },
      "source": [
        "ngc188_gaia_coords.separation(ngc188_center)"
      ],
      "execution_count": null,
      "outputs": []
    },
    {
      "cell_type": "markdown",
      "metadata": {
        "id": "ZFv2CDQ0TL-t"
      },
      "source": [
        "## More Than Just Sky Positions: Including Distance Information in `SkyCoord`\n",
        "\n",
        "So far, we have used `SkyCoord` to represent angular sky positions (i.e., `ra` and `dec` only). It is sometimes useful to include distance information with the sky coordinates of a source, thereby specifying the full 3D position of an object. To pass in distance information, `SkyCoord` accepts the keyword argument \"`distance`\". So, if we knew that the distance to NGC 188 is 1.96 kpc, we could also pass in a distance (as a `Quantity` object) using this argument:"
      ]
    },
    {
      "cell_type": "code",
      "metadata": {
        "id": "B8Ikqd62TL-t"
      },
      "source": [
        "ngc188_center_3d = SkyCoord(12.11*u.deg, 85.26*u.deg,\n",
        "                            distance=1.96*u.kpc)"
      ],
      "execution_count": null,
      "outputs": []
    },
    {
      "cell_type": "markdown",
      "metadata": {
        "id": "6zQZWsU-TL-u"
      },
      "source": [
        "With the table of *Gaia* data we retrieved above for stars around NGC 188, `ngc188_table`, we also have parallax measurements for each star. For a precisely-measured parallax $\\varpi$, the distance $d$ to a star can be obtained approximately as $d \\approx 1/\\varpi$. This only really works if the parallax error is small relative to the parallax ([see discussion in this paper](https://arxiv.org/abs/1507.02105)), so if we want to use these parallaxes to get distances we first have to filter out stars that have low signal-to-noise parallaxes:"
      ]
    },
    {
      "cell_type": "code",
      "metadata": {
        "id": "KjCCUSrpTL-u"
      },
      "source": [
        "parallax_snr = ngc188_table['parallax'] / ngc188_table['parallax_error']\n",
        "ngc188_table_3d = ngc188_table[parallax_snr > 10] \n",
        "len(ngc188_table_3d)"
      ],
      "execution_count": null,
      "outputs": []
    },
    {
      "cell_type": "markdown",
      "metadata": {
        "id": "MV5qsVn5TL-u"
      },
      "source": [
        "The above selection on `parallax_snr` keeps stars that have a ~10-sigma parallax measurement, but this is an arbitrary selection threshold that you may want to tune or remove in your own use cases. This selection removed over half of the stars in our original table, but for the remaining stars we can be confident that converting the parallax measurements to distances is mostly safe.\n",
        "\n",
        "The default way of passing in a distance to a `SkyCoord` object, as above, is to pass in a `Quantity` with a unit of length. However, `astropy.coordinates` also provides a specialized object, `Distance`, for handling common transformations of different distance representations ([docs](http://docs.astropy.org/en/latest/coordinates/index.html#distance)). Among other things, this class supports passing in a parallax value:"
      ]
    },
    {
      "cell_type": "code",
      "metadata": {
        "id": "Vx_cKpb2TL-v"
      },
      "source": [
        "Distance(parallax=1*u.mas)"
      ],
      "execution_count": null,
      "outputs": []
    },
    {
      "cell_type": "markdown",
      "metadata": {
        "id": "DlEvqiIRTL-v"
      },
      "source": [
        "The catalog of stars we queried from *Gaia* contains parallax information in milliarcsecond units, so we can create a `Distance` object directly from these values:"
      ]
    },
    {
      "cell_type": "code",
      "metadata": {
        "id": "3R8vLPJmTL-v"
      },
      "source": [
        "gaia_dist = Distance(parallax=ngc188_table_3d['parallax'])"
      ],
      "execution_count": null,
      "outputs": []
    },
    {
      "cell_type": "markdown",
      "metadata": {
        "id": "qnCnYynpTL-v"
      },
      "source": [
        "We can then create a `SkyCoord` object to represent the 3D positions of all of the *Gaia* stars by passing in this distance object to the `SkyCoord` initializer:"
      ]
    },
    {
      "cell_type": "code",
      "metadata": {
        "id": "K0ZMo-GlTL-v"
      },
      "source": [
        "ngc188_coords_3d = SkyCoord(ra=ngc188_table_3d['ra'], \n",
        "                            dec=ngc188_table_3d['dec'],\n",
        "                            distance=gaia_dist)\n",
        "ngc188_coords_3d"
      ],
      "execution_count": null,
      "outputs": []
    },
    {
      "cell_type": "markdown",
      "metadata": {
        "id": "6FJpk79rTL-w"
      },
      "source": [
        "Let's now use `matplotlib` to plot the sky positions of all of these sources, colored by distance to emphasize the cluster stars:"
      ]
    },
    {
      "cell_type": "code",
      "metadata": {
        "id": "z1hRLUX3TL-w"
      },
      "source": [
        "fig, ax = plt.subplots(figsize=(6.5, 5.2),\n",
        "                       constrained_layout=True)\n",
        "cs = ax.scatter(ngc188_coords_3d.ra.degree, \n",
        "                ngc188_coords_3d.dec.degree, \n",
        "                c=ngc188_coords_3d.distance.kpc, \n",
        "                s=5, vmin=1.5, vmax=2.5, cmap='twilight')\n",
        "cb = fig.colorbar(cs)\n",
        "cb.set_label(f'distance [{u.kpc:latex_inline}]')\n",
        "\n",
        "ax.set_xlabel('RA [deg]')\n",
        "ax.set_ylabel('Dec [deg]')\n",
        "\n",
        "ax.set_title('Gaia DR2 sources near NGC 188', fontsize=18)"
      ],
      "execution_count": null,
      "outputs": []
    },
    {
      "cell_type": "markdown",
      "metadata": {
        "id": "Fl37Isl9TL-w"
      },
      "source": [
        "Now that we have 3D position information for both the cluster center, and for the stars we queried from *Gaia*, we can compute the 3D separation (distance) between all of the *Gaia* sources and the cluster center:"
      ]
    },
    {
      "cell_type": "code",
      "metadata": {
        "id": "viDOtPhKTL-w"
      },
      "source": [
        "sep3d = ngc188_coords_3d.separation_3d(ngc188_center_3d)\n",
        "sep3d"
      ],
      "execution_count": null,
      "outputs": []
    },
    {
      "cell_type": "markdown",
      "metadata": {
        "id": "BoI5hXLHTL-w"
      },
      "source": [
        "### Exercises\n",
        "\n",
        "Using the 3D separation values, define a boolean mask to select candidate members of the cluster. Select all stars within 50 pc of the cluster center. How many candidate members of NGC 188 do we have, based on their 3D positions?"
      ]
    },
    {
      "cell_type": "code",
      "metadata": {
        "id": "mxlDTNOdTL-x"
      },
      "source": [
        "ngc188_3d_mask = sep3d < 50*u.pc\n",
        "ngc188_3d_mask.sum()"
      ],
      "execution_count": null,
      "outputs": []
    },
    {
      "cell_type": "markdown",
      "metadata": {
        "id": "-i72NtulTL-x"
      },
      "source": [
        "In this tutorial, we have introduced `astropy.coordinates` as a way to store and represent astronomical sky coordinates. We used coordinate objects, via the `SkyCoord` class interface, to parse and change coordinate representations and units. We also demonstrated how to use a `SkyCoord` object with the `astroquery` package to query an astronomical database, the *Gaia* science archive. We then created a single `SkyCoord` object with the queried data that represents the sky coordinates of many objects. Finally, we introduced the concept of using `astropy.coordinates` to represent a 3D position of an object or set of objects."
      ]
    }
  ]
}